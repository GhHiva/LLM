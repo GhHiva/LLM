{
 "cells": [
  {
   "cell_type": "markdown",
   "id": "c4c6627a-2b10-407c-9b3f-33de2a2fdb24",
   "metadata": {},
   "source": [
    "# Multilayer Perceptron (MLP):\n",
    "\n",
    "In deep learning, a multilayer perceptron (MLP) is a name for a modern feedforward neural network consisting of fully connected neurons with nonlinear activation functions, organized in layers, notable for being able to distinguish data that is not linearly separable."
   ]
  },
  {
   "cell_type": "code",
   "execution_count": 1,
   "id": "435fa4f4-c678-40de-914a-e480dbad1f90",
   "metadata": {},
   "outputs": [],
   "source": [
    "import torch\n",
    "import torch.nn.functional as F\n",
    "import matplotlib.pyplot as plt\n",
    "%matplotlib inline"
   ]
  },
  {
   "cell_type": "code",
   "execution_count": 2,
   "id": "e23a3622-9144-4059-bbd1-58bd8a54ca2b",
   "metadata": {},
   "outputs": [
    {
     "data": {
      "text/plain": [
       "(['emma', 'olivia', 'ava', 'isabella', 'sophia', 'charlotte', 'mia', 'amelia'],\n",
       " 32033)"
      ]
     },
     "execution_count": 2,
     "metadata": {},
     "output_type": "execute_result"
    }
   ],
   "source": [
    "#read in all the words\n",
    "words = open('names.txt', 'r').read().splitlines()\n",
    "words[:8], len(words)"
   ]
  },
  {
   "cell_type": "code",
   "execution_count": 3,
   "id": "04bee93f-c3ac-4965-b928-f4f156033ef3",
   "metadata": {},
   "outputs": [],
   "source": [
    "# build the vocabulary of characters and mapping to/from integers\n",
    "chars = sorted(list(set(''.join(words))))\n",
    "stoi= {s:i+1 for i,s in enumerate(chars)}\n",
    "stoi['.']=0\n",
    "itos={i:s for s, i in stoi.items()}"
   ]
  },
  {
   "cell_type": "code",
   "execution_count": 79,
   "id": "3fd582a1-aede-4cef-a5a3-6c58d4660ab8",
   "metadata": {},
   "outputs": [
    {
     "name": "stdout",
     "output_type": "stream",
     "text": [
      "CPU times: user 7 μs, sys: 2 μs, total: 9 μs\n",
      "Wall time: 25 μs\n",
      "emma\n",
      "['.', '.', '.'] ---> e\n",
      "[0, 0, 0] --> 5\n",
      "['.', '.', 'e'] ---> m\n",
      "[0, 0, 5] --> 13\n",
      "['.', 'e', 'm'] ---> m\n",
      "[0, 5, 13] --> 13\n",
      "['e', 'm', 'm'] ---> a\n",
      "[5, 13, 13] --> 1\n",
      "['m', 'm', 'a'] ---> .\n",
      "[13, 13, 1] --> 0\n",
      "[[0, 0, 0], [0, 0, 5], [0, 5, 13], [5, 13, 13], [13, 13, 1]]--->[5, 13, 13, 1, 0]\n",
      "olivia\n",
      "['.', '.', '.'] ---> o\n",
      "[0, 0, 0] --> 15\n",
      "['.', '.', 'o'] ---> l\n",
      "[0, 0, 15] --> 12\n",
      "['.', 'o', 'l'] ---> i\n",
      "[0, 15, 12] --> 9\n",
      "['o', 'l', 'i'] ---> v\n",
      "[15, 12, 9] --> 22\n",
      "['l', 'i', 'v'] ---> i\n",
      "[12, 9, 22] --> 9\n",
      "['i', 'v', 'i'] ---> a\n",
      "[9, 22, 9] --> 1\n",
      "['v', 'i', 'a'] ---> .\n",
      "[22, 9, 1] --> 0\n",
      "[[0, 0, 0], [0, 0, 5], [0, 5, 13], [5, 13, 13], [13, 13, 1], [0, 0, 0], [0, 0, 15], [0, 15, 12], [15, 12, 9], [12, 9, 22], [9, 22, 9], [22, 9, 1]]--->[5, 13, 13, 1, 0, 15, 12, 9, 22, 9, 1, 0]\n",
      "ava\n",
      "['.', '.', '.'] ---> a\n",
      "[0, 0, 0] --> 1\n",
      "['.', '.', 'a'] ---> v\n",
      "[0, 0, 1] --> 22\n",
      "['.', 'a', 'v'] ---> a\n",
      "[0, 1, 22] --> 1\n",
      "['a', 'v', 'a'] ---> .\n",
      "[1, 22, 1] --> 0\n",
      "[[0, 0, 0], [0, 0, 5], [0, 5, 13], [5, 13, 13], [13, 13, 1], [0, 0, 0], [0, 0, 15], [0, 15, 12], [15, 12, 9], [12, 9, 22], [9, 22, 9], [22, 9, 1], [0, 0, 0], [0, 0, 1], [0, 1, 22], [1, 22, 1]]--->[5, 13, 13, 1, 0, 15, 12, 9, 22, 9, 1, 0, 1, 22, 1, 0]\n"
     ]
    }
   ],
   "source": [
    "# build the dataset\n",
    "%time\n",
    "### My way ###\n",
    "block_size =3\n",
    "X,Y=[],[]  # X and Y have to be the list of numbers since after that we wanna make tensors\n",
    "for w in words[:3]:\n",
    "    chars = block_size * ['.']+list(w)+['.']\n",
    "    #print(chars)\n",
    "    print(w)\n",
    "    for i in range(len(w)+1):\n",
    "        xi = chars[i:block_size+i]\n",
    "        yi = chars[block_size+i]\n",
    "        print(f'{xi} ---> {yi}')\n",
    "        y_i = stoi[yi]\n",
    "        r =[]\n",
    "        for j in xi:\n",
    "            r.append(stoi[j])\n",
    "        print(f'{r} --> {y_i}')\n",
    "        \n",
    "        X.append(r)\n",
    "        \n",
    "        Y.append(y_i)\n",
    "    print(f'{X}--->{Y}')\n",
    "\n",
    "X = torch.tensor(X)\n",
    "Y = torch.tensor(Y)"
   ]
  },
  {
   "cell_type": "code",
   "execution_count": 76,
   "id": "c2c147d6-1e5e-4662-8f13-9f381b7b0eb7",
   "metadata": {},
   "outputs": [
    {
     "data": {
      "text/plain": [
       "tensor([[ 0,  0,  0],\n",
       "        [ 0,  0,  5],\n",
       "        [ 0,  5, 13],\n",
       "        [ 5, 13, 13],\n",
       "        [13, 13,  1],\n",
       "        [ 0,  0,  0],\n",
       "        [ 0,  0, 15],\n",
       "        [ 0, 15, 12],\n",
       "        [15, 12,  9],\n",
       "        [12,  9, 22],\n",
       "        [ 9, 22,  9],\n",
       "        [22,  9,  1],\n",
       "        [ 0,  0,  0],\n",
       "        [ 0,  0,  1],\n",
       "        [ 0,  1, 22],\n",
       "        [ 1, 22,  1]])"
      ]
     },
     "execution_count": 76,
     "metadata": {},
     "output_type": "execute_result"
    }
   ],
   "source": [
    "X"
   ]
  },
  {
   "cell_type": "code",
   "execution_count": 77,
   "id": "c8564ea0-5d9f-4e73-975c-d9a0a0ad129a",
   "metadata": {},
   "outputs": [
    {
     "data": {
      "text/plain": [
       "tensor([ 5, 13, 13,  1,  0, 15, 12,  9, 22,  9,  1,  0,  1, 22,  1,  0])"
      ]
     },
     "execution_count": 77,
     "metadata": {},
     "output_type": "execute_result"
    }
   ],
   "source": [
    "Y"
   ]
  },
  {
   "cell_type": "code",
   "execution_count": 4,
   "id": "a54992f9-e542-411d-af6e-00f308ccd593",
   "metadata": {},
   "outputs": [
    {
     "name": "stdout",
     "output_type": "stream",
     "text": [
      "CPU times: user 6 μs, sys: 1 μs, total: 7 μs\n",
      "Wall time: 14.8 μs\n",
      "emma\n",
      "... ---> e\n",
      "..e ---> m\n",
      ".em ---> m\n",
      "emm ---> a\n",
      "mma ---> .\n",
      "olivia\n",
      "... ---> o\n",
      "..o ---> l\n",
      ".ol ---> i\n",
      "oli ---> v\n",
      "liv ---> i\n",
      "ivi ---> a\n",
      "via ---> .\n",
      "ava\n",
      "... ---> a\n",
      "..a ---> v\n",
      ".av ---> a\n",
      "ava ---> .\n",
      "isabella\n",
      "... ---> i\n",
      "..i ---> s\n",
      ".is ---> a\n",
      "isa ---> b\n",
      "sab ---> e\n",
      "abe ---> l\n",
      "bel ---> l\n",
      "ell ---> a\n",
      "lla ---> .\n",
      "sophia\n",
      "... ---> s\n",
      "..s ---> o\n",
      ".so ---> p\n",
      "sop ---> h\n",
      "oph ---> i\n",
      "phi ---> a\n",
      "hia ---> .\n"
     ]
    }
   ],
   "source": [
    "%time\n",
    "block_size =3\n",
    "X,Y=[],[]\n",
    "for w in words[:5]:\n",
    "    print(w)\n",
    "    context = [0]* block_size\n",
    "    for ch in w + '.':\n",
    "        ix= stoi[ch]\n",
    "        X.append(context)\n",
    "    #print(context)\n",
    "        Y.append(ix)\n",
    "        print(''.join(itos[i] for i in context), '--->', itos[ix])\n",
    "        context = context[1:]+[ix] #crop and append\n",
    "X = torch.tensor(X)\n",
    "Y = torch.tensor(Y)"
   ]
  },
  {
   "cell_type": "code",
   "execution_count": 5,
   "id": "25f01009-5f1a-442d-a7bf-a297ffc66b1b",
   "metadata": {},
   "outputs": [
    {
     "data": {
      "text/plain": [
       "(tensor([[ 0,  0,  0],\n",
       "         [ 0,  0,  5],\n",
       "         [ 0,  5, 13],\n",
       "         [ 5, 13, 13],\n",
       "         [13, 13,  1],\n",
       "         [ 0,  0,  0],\n",
       "         [ 0,  0, 15],\n",
       "         [ 0, 15, 12],\n",
       "         [15, 12,  9],\n",
       "         [12,  9, 22],\n",
       "         [ 9, 22,  9],\n",
       "         [22,  9,  1],\n",
       "         [ 0,  0,  0],\n",
       "         [ 0,  0,  1],\n",
       "         [ 0,  1, 22],\n",
       "         [ 1, 22,  1],\n",
       "         [ 0,  0,  0],\n",
       "         [ 0,  0,  9],\n",
       "         [ 0,  9, 19],\n",
       "         [ 9, 19,  1],\n",
       "         [19,  1,  2],\n",
       "         [ 1,  2,  5],\n",
       "         [ 2,  5, 12],\n",
       "         [ 5, 12, 12],\n",
       "         [12, 12,  1],\n",
       "         [ 0,  0,  0],\n",
       "         [ 0,  0, 19],\n",
       "         [ 0, 19, 15],\n",
       "         [19, 15, 16],\n",
       "         [15, 16,  8],\n",
       "         [16,  8,  9],\n",
       "         [ 8,  9,  1]]),\n",
       " torch.int64,\n",
       " torch.Size([32, 3]))"
      ]
     },
     "execution_count": 5,
     "metadata": {},
     "output_type": "execute_result"
    }
   ],
   "source": [
    "X, X.dtype , X.shape"
   ]
  },
  {
   "cell_type": "code",
   "execution_count": 6,
   "id": "c437fcad-b960-43da-a307-78c16290fbdb",
   "metadata": {},
   "outputs": [
    {
     "data": {
      "text/plain": [
       "(tensor([ 5, 13, 13,  1,  0, 15, 12,  9, 22,  9,  1,  0,  1, 22,  1,  0,  9, 19,\n",
       "          1,  2,  5, 12, 12,  1,  0, 19, 15, 16,  8,  9,  1,  0]),\n",
       " torch.int64,\n",
       " torch.Size([32]))"
      ]
     },
     "execution_count": 6,
     "metadata": {},
     "output_type": "execute_result"
    }
   ],
   "source": [
    "Y, Y.dtype, Y.shape"
   ]
  },
  {
   "cell_type": "markdown",
   "id": "d2d63245-457f-4196-bd14-b1586381c205",
   "metadata": {},
   "source": [
    "* based on the article, we take `C` and we wanna embbed the 27 letters to the lower dimentional space for example here we take m=2 and C is a matrix with 27 rows and 2 columns. That is we are embedding each characters to the 2-dimentional character."
   ]
  },
  {
   "cell_type": "code",
   "execution_count": 7,
   "id": "530f0f3e-ecc4-43e5-8459-cac60275682c",
   "metadata": {},
   "outputs": [
    {
     "data": {
      "text/plain": [
       "tensor([[-0.6793,  0.6861],\n",
       "        [-2.0476, -2.1244],\n",
       "        [ 0.8056, -0.5502],\n",
       "        [ 0.1493,  0.6482],\n",
       "        [-0.5250, -0.0724],\n",
       "        [-0.0310, -1.2387],\n",
       "        [ 0.0038, -0.1316],\n",
       "        [-0.8352, -0.4425],\n",
       "        [ 0.4592, -0.6036],\n",
       "        [ 0.8021, -0.7980],\n",
       "        [-1.7961, -0.7690],\n",
       "        [-0.5497,  1.3861],\n",
       "        [ 0.7028, -1.6860],\n",
       "        [ 0.9204,  1.2696],\n",
       "        [-0.4535, -0.5162],\n",
       "        [ 0.3391, -0.8855],\n",
       "        [ 1.1460,  0.0295],\n",
       "        [ 0.5651, -0.3956],\n",
       "        [-0.6595, -0.7429],\n",
       "        [-0.3807,  0.1481],\n",
       "        [ 1.8106,  0.5667],\n",
       "        [ 0.2601,  0.4391],\n",
       "        [-1.3093, -0.6449],\n",
       "        [ 1.4310,  0.0408],\n",
       "        [-0.0223, -0.9382],\n",
       "        [ 0.8320,  0.3891],\n",
       "        [-0.3001,  0.5168]])"
      ]
     },
     "execution_count": 7,
     "metadata": {},
     "output_type": "execute_result"
    }
   ],
   "source": [
    "C = torch.randn((27,2))\n",
    "C # embedding matrix"
   ]
  },
  {
   "cell_type": "code",
   "execution_count": 8,
   "id": "fbb7e122-fbfd-4e43-9e1e-525cc9813b2b",
   "metadata": {},
   "outputs": [
    {
     "data": {
      "text/plain": [
       "tensor([-0.0310, -1.2387])"
      ]
     },
     "execution_count": 8,
     "metadata": {},
     "output_type": "execute_result"
    }
   ],
   "source": [
    "C[5] # tensor([5]) is embedded to tensor([-0.6290,  1.7676]) # indexing the 5th row"
   ]
  },
  {
   "cell_type": "code",
   "execution_count": 9,
   "id": "843a54a3-d4fa-4d4a-9152-8870797aacc8",
   "metadata": {},
   "outputs": [
    {
     "data": {
      "text/plain": [
       "torch.Size([2])"
      ]
     },
     "execution_count": 9,
     "metadata": {},
     "output_type": "execute_result"
    }
   ],
   "source": [
    "C[5].shape # indexing"
   ]
  },
  {
   "cell_type": "code",
   "execution_count": 10,
   "id": "96971a3f-000a-4fa9-bd27-d266fb7683aa",
   "metadata": {},
   "outputs": [
    {
     "data": {
      "text/plain": [
       "tensor([0, 0, 0, 0, 0, 1, 0, 0, 0, 0, 0, 0, 0, 0, 0, 0, 0, 0, 0, 0, 0, 0, 0, 0,\n",
       "        0, 0, 0])"
      ]
     },
     "execution_count": 10,
     "metadata": {},
     "output_type": "execute_result"
    }
   ],
   "source": [
    "F.one_hot(torch.tensor(5), num_classes=27) # another way to show `5` by one_hot code that  we had in the previous lecture"
   ]
  },
  {
   "cell_type": "code",
   "execution_count": 11,
   "id": "6465e4bf-bc4d-462c-bd01-946bd7c689d4",
   "metadata": {},
   "outputs": [
    {
     "data": {
      "text/plain": [
       "torch.int64"
      ]
     },
     "execution_count": 11,
     "metadata": {},
     "output_type": "execute_result"
    }
   ],
   "source": [
    "F.one_hot(torch.tensor(5), num_classes=27).dtype "
   ]
  },
  {
   "cell_type": "markdown",
   "id": "e921e619-357c-4a1f-8db3-3f4d849199d6",
   "metadata": {},
   "source": [
    "**dtype of `F.one_hot(torch.tensor(5), num_classes=27)` is torch.int64 or Long.**\n",
    "\n",
    "**PyTorch does not know how to multiply the int to float so we need to cast the F.one_hot(torch.tensor(5), num_classes=27) into the `float`.**"
   ]
  },
  {
   "cell_type": "code",
   "execution_count": 12,
   "id": "2039d6b8-0c9d-450c-8e5b-97317bf2810b",
   "metadata": {},
   "outputs": [
    {
     "data": {
      "text/plain": [
       "tensor([-0.0310, -1.2387])"
      ]
     },
     "execution_count": 12,
     "metadata": {},
     "output_type": "execute_result"
    }
   ],
   "source": [
    "F.one_hot(torch.tensor(5), num_classes=27).float() @ C"
   ]
  },
  {
   "cell_type": "code",
   "execution_count": 13,
   "id": "b5d08c9c-9c81-4604-b82e-98bbcd3a8177",
   "metadata": {},
   "outputs": [
    {
     "data": {
      "text/plain": [
       "(tensor([[-0.0310, -1.2387],\n",
       "         [ 0.0038, -0.1316],\n",
       "         [-0.8352, -0.4425]]),\n",
       " torch.Size([3, 2]))"
      ]
     },
     "execution_count": 13,
     "metadata": {},
     "output_type": "execute_result"
    }
   ],
   "source": [
    "C[[5,6,7]], C[[5,6,7]].shape # we can indexing by the list # we have the slice of C, # 5th,6th,7th rows"
   ]
  },
  {
   "cell_type": "code",
   "execution_count": 14,
   "id": "c2566591-1e01-44ed-b362-6ac4bec359bd",
   "metadata": {},
   "outputs": [
    {
     "data": {
      "text/plain": [
       "(tensor([-0.0310, -1.2387]),\n",
       " tensor([ 0.0038, -0.1316]),\n",
       " tensor([-0.8352, -0.4425]))"
      ]
     },
     "execution_count": 14,
     "metadata": {},
     "output_type": "execute_result"
    }
   ],
   "source": [
    "C[5], C[6], C[7] # 5th,6th,7th rows"
   ]
  },
  {
   "cell_type": "code",
   "execution_count": 15,
   "id": "618af027-fc3e-4ee9-81d4-eb132d6e9a92",
   "metadata": {},
   "outputs": [
    {
     "data": {
      "text/plain": [
       "tensor([[-0.0310, -1.2387],\n",
       "        [ 0.0038, -0.1316],\n",
       "        [-0.8352, -0.4425]])"
      ]
     },
     "execution_count": 15,
     "metadata": {},
     "output_type": "execute_result"
    }
   ],
   "source": [
    "C[torch.tensor([5,6,7])] # 5th,6th,7th rows # we can index by the list of integers too"
   ]
  },
  {
   "cell_type": "code",
   "execution_count": 16,
   "id": "f826dbab-4ebc-4d2a-8872-a0ae60a69b4a",
   "metadata": {},
   "outputs": [
    {
     "data": {
      "text/plain": [
       "tensor([[-0.0310, -1.2387],\n",
       "        [ 0.0038, -0.1316],\n",
       "        [-0.8352, -0.4425],\n",
       "        [-0.8352, -0.4425],\n",
       "        [-0.8352, -0.4425]])"
      ]
     },
     "execution_count": 16,
     "metadata": {},
     "output_type": "execute_result"
    }
   ],
   "source": [
    "C[torch.tensor([5,6,7,7,7])] # 7th row is repeated"
   ]
  },
  {
   "cell_type": "code",
   "execution_count": 17,
   "id": "f77fc778-8b8f-4c8f-9337-eb0283c113c6",
   "metadata": {},
   "outputs": [
    {
     "data": {
      "text/plain": [
       "tensor([[[-0.0310, -1.2387],\n",
       "         [ 0.0038, -0.1316],\n",
       "         [-0.8352, -0.4425]]])"
      ]
     },
     "execution_count": 17,
     "metadata": {},
     "output_type": "execute_result"
    }
   ],
   "source": [
    "C[torch.tensor([[5,6,7]])]"
   ]
  },
  {
   "cell_type": "code",
   "execution_count": 18,
   "id": "b4229e87-7db0-4f8c-9e3f-089fe7c8d6ef",
   "metadata": {},
   "outputs": [
    {
     "data": {
      "text/plain": [
       "tensor([[ 0,  0,  0],\n",
       "        [ 0,  0,  5],\n",
       "        [ 0,  5, 13],\n",
       "        [ 5, 13, 13],\n",
       "        [13, 13,  1]])"
      ]
     },
     "execution_count": 18,
     "metadata": {},
     "output_type": "execute_result"
    }
   ],
   "source": [
    "X[0:5]"
   ]
  },
  {
   "cell_type": "code",
   "execution_count": 19,
   "id": "07d8efa2-e840-41f0-b999-a79c1a90d21b",
   "metadata": {},
   "outputs": [
    {
     "data": {
      "text/plain": [
       "(tensor([[[-0.6793,  0.6861],\n",
       "          [-0.6793,  0.6861],\n",
       "          [-0.6793,  0.6861]],\n",
       " \n",
       "         [[-0.6793,  0.6861],\n",
       "          [-0.6793,  0.6861],\n",
       "          [-0.0310, -1.2387]],\n",
       " \n",
       "         [[-0.6793,  0.6861],\n",
       "          [-0.0310, -1.2387],\n",
       "          [ 0.9204,  1.2696]],\n",
       " \n",
       "         [[-0.0310, -1.2387],\n",
       "          [ 0.9204,  1.2696],\n",
       "          [ 0.9204,  1.2696]],\n",
       " \n",
       "         [[ 0.9204,  1.2696],\n",
       "          [ 0.9204,  1.2696],\n",
       "          [-2.0476, -2.1244]]]),\n",
       " torch.Size([5, 3, 2]))"
      ]
     },
     "execution_count": 19,
     "metadata": {},
     "output_type": "execute_result"
    }
   ],
   "source": [
    "C[X[0:5]], C[X[0:5]].shape # embedding for first word, "
   ]
  },
  {
   "cell_type": "code",
   "execution_count": 20,
   "id": "aeda4d87-97b2-4bf7-a719-5fc595a6036c",
   "metadata": {},
   "outputs": [
    {
     "data": {
      "text/plain": [
       "(tensor([[[-0.6793,  0.6861],\n",
       "          [-0.6793,  0.6861],\n",
       "          [-0.6793,  0.6861]],\n",
       " \n",
       "         [[-0.6793,  0.6861],\n",
       "          [-0.6793,  0.6861],\n",
       "          [-0.0310, -1.2387]],\n",
       " \n",
       "         [[-0.6793,  0.6861],\n",
       "          [-0.0310, -1.2387],\n",
       "          [ 0.9204,  1.2696]],\n",
       " \n",
       "         [[-0.0310, -1.2387],\n",
       "          [ 0.9204,  1.2696],\n",
       "          [ 0.9204,  1.2696]],\n",
       " \n",
       "         [[ 0.9204,  1.2696],\n",
       "          [ 0.9204,  1.2696],\n",
       "          [-2.0476, -2.1244]],\n",
       " \n",
       "         [[-0.6793,  0.6861],\n",
       "          [-0.6793,  0.6861],\n",
       "          [-0.6793,  0.6861]],\n",
       " \n",
       "         [[-0.6793,  0.6861],\n",
       "          [-0.6793,  0.6861],\n",
       "          [ 0.3391, -0.8855]],\n",
       " \n",
       "         [[-0.6793,  0.6861],\n",
       "          [ 0.3391, -0.8855],\n",
       "          [ 0.7028, -1.6860]],\n",
       " \n",
       "         [[ 0.3391, -0.8855],\n",
       "          [ 0.7028, -1.6860],\n",
       "          [ 0.8021, -0.7980]],\n",
       " \n",
       "         [[ 0.7028, -1.6860],\n",
       "          [ 0.8021, -0.7980],\n",
       "          [-1.3093, -0.6449]],\n",
       " \n",
       "         [[ 0.8021, -0.7980],\n",
       "          [-1.3093, -0.6449],\n",
       "          [ 0.8021, -0.7980]],\n",
       " \n",
       "         [[-1.3093, -0.6449],\n",
       "          [ 0.8021, -0.7980],\n",
       "          [-2.0476, -2.1244]],\n",
       " \n",
       "         [[-0.6793,  0.6861],\n",
       "          [-0.6793,  0.6861],\n",
       "          [-0.6793,  0.6861]],\n",
       " \n",
       "         [[-0.6793,  0.6861],\n",
       "          [-0.6793,  0.6861],\n",
       "          [-2.0476, -2.1244]],\n",
       " \n",
       "         [[-0.6793,  0.6861],\n",
       "          [-2.0476, -2.1244],\n",
       "          [-1.3093, -0.6449]],\n",
       " \n",
       "         [[-2.0476, -2.1244],\n",
       "          [-1.3093, -0.6449],\n",
       "          [-2.0476, -2.1244]]]),\n",
       " torch.Size([16, 3, 2]))"
      ]
     },
     "execution_count": 20,
     "metadata": {},
     "output_type": "execute_result"
    }
   ],
   "source": [
    "C[X[0:16]], C[X[0:16]].shape # embedding for first three words, "
   ]
  },
  {
   "cell_type": "code",
   "execution_count": 21,
   "id": "809c03cf-59ec-4989-bd78-0ff160696c81",
   "metadata": {},
   "outputs": [
    {
     "data": {
      "text/plain": [
       "tensor([[[-0.6793,  0.6861],\n",
       "         [-0.6793,  0.6861],\n",
       "         [-0.6793,  0.6861]],\n",
       "\n",
       "        [[-0.6793,  0.6861],\n",
       "         [-0.6793,  0.6861],\n",
       "         [-0.0310, -1.2387]],\n",
       "\n",
       "        [[-0.6793,  0.6861],\n",
       "         [-0.0310, -1.2387],\n",
       "         [ 0.9204,  1.2696]],\n",
       "\n",
       "        [[-0.0310, -1.2387],\n",
       "         [ 0.9204,  1.2696],\n",
       "         [ 0.9204,  1.2696]],\n",
       "\n",
       "        [[ 0.9204,  1.2696],\n",
       "         [ 0.9204,  1.2696],\n",
       "         [-2.0476, -2.1244]],\n",
       "\n",
       "        [[-0.6793,  0.6861],\n",
       "         [-0.6793,  0.6861],\n",
       "         [-0.6793,  0.6861]],\n",
       "\n",
       "        [[-0.6793,  0.6861],\n",
       "         [-0.6793,  0.6861],\n",
       "         [ 0.3391, -0.8855]],\n",
       "\n",
       "        [[-0.6793,  0.6861],\n",
       "         [ 0.3391, -0.8855],\n",
       "         [ 0.7028, -1.6860]],\n",
       "\n",
       "        [[ 0.3391, -0.8855],\n",
       "         [ 0.7028, -1.6860],\n",
       "         [ 0.8021, -0.7980]],\n",
       "\n",
       "        [[ 0.7028, -1.6860],\n",
       "         [ 0.8021, -0.7980],\n",
       "         [-1.3093, -0.6449]],\n",
       "\n",
       "        [[ 0.8021, -0.7980],\n",
       "         [-1.3093, -0.6449],\n",
       "         [ 0.8021, -0.7980]],\n",
       "\n",
       "        [[-1.3093, -0.6449],\n",
       "         [ 0.8021, -0.7980],\n",
       "         [-2.0476, -2.1244]],\n",
       "\n",
       "        [[-0.6793,  0.6861],\n",
       "         [-0.6793,  0.6861],\n",
       "         [-0.6793,  0.6861]],\n",
       "\n",
       "        [[-0.6793,  0.6861],\n",
       "         [-0.6793,  0.6861],\n",
       "         [-2.0476, -2.1244]],\n",
       "\n",
       "        [[-0.6793,  0.6861],\n",
       "         [-2.0476, -2.1244],\n",
       "         [-1.3093, -0.6449]],\n",
       "\n",
       "        [[-2.0476, -2.1244],\n",
       "         [-1.3093, -0.6449],\n",
       "         [-2.0476, -2.1244]],\n",
       "\n",
       "        [[-0.6793,  0.6861],\n",
       "         [-0.6793,  0.6861],\n",
       "         [-0.6793,  0.6861]],\n",
       "\n",
       "        [[-0.6793,  0.6861],\n",
       "         [-0.6793,  0.6861],\n",
       "         [ 0.8021, -0.7980]],\n",
       "\n",
       "        [[-0.6793,  0.6861],\n",
       "         [ 0.8021, -0.7980],\n",
       "         [-0.3807,  0.1481]],\n",
       "\n",
       "        [[ 0.8021, -0.7980],\n",
       "         [-0.3807,  0.1481],\n",
       "         [-2.0476, -2.1244]],\n",
       "\n",
       "        [[-0.3807,  0.1481],\n",
       "         [-2.0476, -2.1244],\n",
       "         [ 0.8056, -0.5502]],\n",
       "\n",
       "        [[-2.0476, -2.1244],\n",
       "         [ 0.8056, -0.5502],\n",
       "         [-0.0310, -1.2387]],\n",
       "\n",
       "        [[ 0.8056, -0.5502],\n",
       "         [-0.0310, -1.2387],\n",
       "         [ 0.7028, -1.6860]],\n",
       "\n",
       "        [[-0.0310, -1.2387],\n",
       "         [ 0.7028, -1.6860],\n",
       "         [ 0.7028, -1.6860]],\n",
       "\n",
       "        [[ 0.7028, -1.6860],\n",
       "         [ 0.7028, -1.6860],\n",
       "         [-2.0476, -2.1244]],\n",
       "\n",
       "        [[-0.6793,  0.6861],\n",
       "         [-0.6793,  0.6861],\n",
       "         [-0.6793,  0.6861]],\n",
       "\n",
       "        [[-0.6793,  0.6861],\n",
       "         [-0.6793,  0.6861],\n",
       "         [-0.3807,  0.1481]],\n",
       "\n",
       "        [[-0.6793,  0.6861],\n",
       "         [-0.3807,  0.1481],\n",
       "         [ 0.3391, -0.8855]],\n",
       "\n",
       "        [[-0.3807,  0.1481],\n",
       "         [ 0.3391, -0.8855],\n",
       "         [ 1.1460,  0.0295]],\n",
       "\n",
       "        [[ 0.3391, -0.8855],\n",
       "         [ 1.1460,  0.0295],\n",
       "         [ 0.4592, -0.6036]],\n",
       "\n",
       "        [[ 1.1460,  0.0295],\n",
       "         [ 0.4592, -0.6036],\n",
       "         [ 0.8021, -0.7980]],\n",
       "\n",
       "        [[ 0.4592, -0.6036],\n",
       "         [ 0.8021, -0.7980],\n",
       "         [-2.0476, -2.1244]]])"
      ]
     },
     "execution_count": 21,
     "metadata": {},
     "output_type": "execute_result"
    }
   ],
   "source": [
    "C[X]"
   ]
  },
  {
   "cell_type": "code",
   "execution_count": 22,
   "id": "2c8d6a9f-928b-468c-8e31-8635aa3c7be4",
   "metadata": {},
   "outputs": [
    {
     "data": {
      "text/plain": [
       "torch.Size([32, 3, 2])"
      ]
     },
     "execution_count": 22,
     "metadata": {},
     "output_type": "execute_result"
    }
   ],
   "source": [
    "C[X].shape # for every (32,3) metrix we're retriving 2 embeddings"
   ]
  },
  {
   "cell_type": "code",
   "execution_count": 23,
   "id": "415b9391-9ee9-41b7-bbb4-89ff06c0364a",
   "metadata": {},
   "outputs": [
    {
     "data": {
      "text/plain": [
       "tensor([15, 12,  9])"
      ]
     },
     "execution_count": 23,
     "metadata": {},
     "output_type": "execute_result"
    }
   ],
   "source": [
    "X[8]"
   ]
  },
  {
   "cell_type": "code",
   "execution_count": 24,
   "id": "8c7a380c-2f32-4e38-b907-701565096ab6",
   "metadata": {},
   "outputs": [
    {
     "data": {
      "text/plain": [
       "tensor(9)"
      ]
     },
     "execution_count": 24,
     "metadata": {},
     "output_type": "execute_result"
    }
   ],
   "source": [
    "X[8][2]"
   ]
  },
  {
   "cell_type": "code",
   "execution_count": 25,
   "id": "26baeec6-f2ff-43a6-9616-2aa4129f0c90",
   "metadata": {},
   "outputs": [
    {
     "data": {
      "text/plain": [
       "tensor([[True, True],\n",
       "        [True, True],\n",
       "        [True, True]])"
      ]
     },
     "execution_count": 25,
     "metadata": {},
     "output_type": "execute_result"
    }
   ],
   "source": [
    "C[[15,12,9]] == C[X[8]]"
   ]
  },
  {
   "cell_type": "code",
   "execution_count": 26,
   "id": "738bb537-8b52-4b51-9969-6fa5830fc793",
   "metadata": {},
   "outputs": [
    {
     "data": {
      "text/plain": [
       "tensor([[ 0.3391, -0.8855],\n",
       "        [ 0.7028, -1.6860],\n",
       "        [ 0.8021, -0.7980]])"
      ]
     },
     "execution_count": 26,
     "metadata": {},
     "output_type": "execute_result"
    }
   ],
   "source": [
    "C[X[8]]"
   ]
  },
  {
   "cell_type": "code",
   "execution_count": 27,
   "id": "9b1f1a3a-18ff-4311-90d9-72bbca48fdc9",
   "metadata": {},
   "outputs": [
    {
     "data": {
      "text/plain": [
       "tensor([[ 0.3391, -0.8855],\n",
       "        [ 0.7028, -1.6860],\n",
       "        [ 0.8021, -0.7980]])"
      ]
     },
     "execution_count": 27,
     "metadata": {},
     "output_type": "execute_result"
    }
   ],
   "source": [
    "C[X][8]"
   ]
  },
  {
   "cell_type": "code",
   "execution_count": 28,
   "id": "3630fadd-40a8-4417-b900-e050c2eb868f",
   "metadata": {},
   "outputs": [
    {
     "data": {
      "text/plain": [
       "tensor([ 0.8021, -0.7980])"
      ]
     },
     "execution_count": 28,
     "metadata": {},
     "output_type": "execute_result"
    }
   ],
   "source": [
    "C[X[8][2]]"
   ]
  },
  {
   "cell_type": "code",
   "execution_count": 29,
   "id": "0b3e81a7-8c13-4149-9fcf-0d2048c62a85",
   "metadata": {},
   "outputs": [
    {
     "data": {
      "text/plain": [
       "tensor([ 0.8021, -0.7980])"
      ]
     },
     "execution_count": 29,
     "metadata": {},
     "output_type": "execute_result"
    }
   ],
   "source": [
    "C[X][8,2]"
   ]
  },
  {
   "cell_type": "code",
   "execution_count": 30,
   "id": "68a18540-2cd5-414d-b9de-21a362dcc392",
   "metadata": {},
   "outputs": [
    {
     "data": {
      "text/plain": [
       "tensor([ 0.8021, -0.7980])"
      ]
     },
     "execution_count": 30,
     "metadata": {},
     "output_type": "execute_result"
    }
   ],
   "source": [
    "C[X][8][2]"
   ]
  },
  {
   "cell_type": "code",
   "execution_count": 31,
   "id": "282642d0-fbf2-477f-bcc4-ee8bed56e0b0",
   "metadata": {},
   "outputs": [
    {
     "data": {
      "text/plain": [
       "tensor([ 0.8021, -0.7980])"
      ]
     },
     "execution_count": 31,
     "metadata": {},
     "output_type": "execute_result"
    }
   ],
   "source": [
    "C[9]"
   ]
  },
  {
   "cell_type": "code",
   "execution_count": 35,
   "id": "fad1d76c-2105-448e-9eee-b153c7b37527",
   "metadata": {},
   "outputs": [
    {
     "data": {
      "text/plain": [
       "torch.Size([32, 3, 2])"
      ]
     },
     "execution_count": 35,
     "metadata": {},
     "output_type": "execute_result"
    }
   ],
   "source": [
    "emb = C[X]\n",
    "emb.shape"
   ]
  },
  {
   "cell_type": "markdown",
   "id": "271a3d60-6244-4139-aa30-394d8e030250",
   "metadata": {},
   "source": [
    "### * emb @ W1 +b1\n",
    "\n",
    "* we wanna make hidden layers now:\n",
    "  - we have two dimentions embeddings and here we use the three words, so the input of the hidden layer is 6!\n",
    "  - the number of nurons in this layer is up to us, here we consider 100.\n",
    "  - "
   ]
  },
  {
   "cell_type": "markdown",
   "id": "e0275c59-06f3-47f0-a864-365fe070fc2a",
   "metadata": {},
   "source": [
    "------------\n",
    "**Example:**"
   ]
  },
  {
   "cell_type": "code",
   "execution_count": 42,
   "id": "5974b20b-a3b2-4055-954a-507e1f75698d",
   "metadata": {},
   "outputs": [
    {
     "data": {
      "text/plain": [
       "tensor([[[   1,    2,   12,  121],\n",
       "         [   4,    5,   15,  151]],\n",
       "\n",
       "        [[  10,   20,  100, 1000],\n",
       "         [  40,   50,  200, 2000]],\n",
       "\n",
       "        [[  11,   21,   31,  310],\n",
       "         [  41,   51,   71,  710]]])"
      ]
     },
     "execution_count": 42,
     "metadata": {},
     "output_type": "execute_result"
    }
   ],
   "source": [
    "c=torch.tensor([\n",
    "               [[1,2,12,121],\n",
    "                [4,5,15,151]],\n",
    "    \n",
    "                [[10,20,100,1000],\n",
    "                [40,50,200,2000]],\n",
    "               \n",
    "                [[11,21,31,310],\n",
    "                [41,51,71,710]],\n",
    "                        ])\n",
    "c"
   ]
  },
  {
   "cell_type": "code",
   "execution_count": 43,
   "id": "4e91b036-c615-469d-ae6b-46b56545c572",
   "metadata": {},
   "outputs": [
    {
     "data": {
      "text/plain": [
       "torch.Size([3, 2, 4])"
      ]
     },
     "execution_count": 43,
     "metadata": {},
     "output_type": "execute_result"
    }
   ],
   "source": [
    "c.shape"
   ]
  },
  {
   "cell_type": "code",
   "execution_count": 44,
   "id": "3b5324e1-8671-4d96-8763-33afd4dd82a2",
   "metadata": {},
   "outputs": [
    {
     "data": {
      "text/plain": [
       "tensor([[  1,   2,  12, 121],\n",
       "        [  4,   5,  15, 151]])"
      ]
     },
     "execution_count": 44,
     "metadata": {},
     "output_type": "execute_result"
    }
   ],
   "source": [
    "c[0]"
   ]
  },
  {
   "cell_type": "code",
   "execution_count": 45,
   "id": "44354e12-2d94-4eab-be70-1507f162c4ae",
   "metadata": {},
   "outputs": [
    {
     "data": {
      "text/plain": [
       "tensor([  1,   2,  12, 121])"
      ]
     },
     "execution_count": 45,
     "metadata": {},
     "output_type": "execute_result"
    }
   ],
   "source": [
    "c[0,0]"
   ]
  },
  {
   "cell_type": "code",
   "execution_count": 53,
   "id": "56064dbf-a76b-417a-9fc3-291091b1f395",
   "metadata": {},
   "outputs": [
    {
     "data": {
      "text/plain": [
       "tensor(1)"
      ]
     },
     "execution_count": 53,
     "metadata": {},
     "output_type": "execute_result"
    }
   ],
   "source": [
    "c[0,0,0]"
   ]
  },
  {
   "cell_type": "code",
   "execution_count": 48,
   "id": "7a84fbf5-7855-4e4a-bfb1-50cd99abe712",
   "metadata": {},
   "outputs": [
    {
     "data": {
      "text/plain": [
       "tensor([[[   1,    2,   12,  121],\n",
       "         [   4,    5,   15,  151]],\n",
       "\n",
       "        [[  10,   20,  100, 1000],\n",
       "         [  40,   50,  200, 2000]]])"
      ]
     },
     "execution_count": 48,
     "metadata": {},
     "output_type": "execute_result"
    }
   ],
   "source": [
    "c[:2]"
   ]
  },
  {
   "cell_type": "code",
   "execution_count": 56,
   "id": "da2e7262-a948-494c-952e-4e29605ea6e4",
   "metadata": {},
   "outputs": [
    {
     "data": {
      "text/plain": [
       "tensor([[[  1,   2,  12],\n",
       "         [  4,   5,  15]],\n",
       "\n",
       "        [[ 10,  20, 100],\n",
       "         [ 40,  50, 200]]])"
      ]
     },
     "execution_count": 56,
     "metadata": {},
     "output_type": "execute_result"
    }
   ],
   "source": [
    "c[:2, 0:2, :3]"
   ]
  },
  {
   "cell_type": "code",
   "execution_count": 57,
   "id": "c44274cc-4cdb-4e4e-a387-f41a3b4a5875",
   "metadata": {},
   "outputs": [
    {
     "data": {
      "text/plain": [
       "tensor([[   1,    2,   12,  121],\n",
       "        [  10,   20,  100, 1000],\n",
       "        [  11,   21,   31,  310]])"
      ]
     },
     "execution_count": 57,
     "metadata": {},
     "output_type": "execute_result"
    }
   ],
   "source": [
    "c[:,0,:]"
   ]
  },
  {
   "cell_type": "code",
   "execution_count": 60,
   "id": "c749f71a-f9a2-4696-ad85-c854e3630891",
   "metadata": {},
   "outputs": [
    {
     "data": {
      "text/plain": [
       "torch.Size([3, 2, 4])"
      ]
     },
     "execution_count": 60,
     "metadata": {},
     "output_type": "execute_result"
    }
   ],
   "source": [
    "c.shape"
   ]
  },
  {
   "cell_type": "code",
   "execution_count": 71,
   "id": "2bda4438-6b6b-4b5b-b47c-321c694bb80a",
   "metadata": {},
   "outputs": [
    {
     "data": {
      "text/plain": [
       "tensor([[[   1,    2,   12,  121],\n",
       "         [   4,    5,   15,  151]],\n",
       "\n",
       "        [[  10,   20,  100, 1000],\n",
       "         [  40,   50,  200, 2000]],\n",
       "\n",
       "        [[  11,   21,   31,  310],\n",
       "         [  41,   51,   71,  710]]])"
      ]
     },
     "execution_count": 71,
     "metadata": {},
     "output_type": "execute_result"
    }
   ],
   "source": [
    "c"
   ]
  },
  {
   "cell_type": "code",
   "execution_count": 67,
   "id": "79b030dd-4283-4443-a1da-498cb433348e",
   "metadata": {},
   "outputs": [
    {
     "data": {
      "text/plain": [
       "(tensor([[  1,   2,  12, 121],\n",
       "         [  4,   5,  15, 151]]),\n",
       " tensor([[  10,   20,  100, 1000],\n",
       "         [  40,   50,  200, 2000]]),\n",
       " tensor([[ 11,  21,  31, 310],\n",
       "         [ 41,  51,  71, 710]]))"
      ]
     },
     "execution_count": 67,
     "metadata": {},
     "output_type": "execute_result"
    }
   ],
   "source": [
    "torch.unbind(c, dim=0) # eject the matrices from the list! # 3 elements"
   ]
  },
  {
   "cell_type": "code",
   "execution_count": 68,
   "id": "a7e29f40-6069-467a-b327-0c68c49c1101",
   "metadata": {},
   "outputs": [
    {
     "data": {
      "text/plain": [
       "(tensor([[   1,    2,   12,  121],\n",
       "         [  10,   20,  100, 1000],\n",
       "         [  11,   21,   31,  310]]),\n",
       " tensor([[   4,    5,   15,  151],\n",
       "         [  40,   50,  200, 2000],\n",
       "         [  41,   51,   71,  710]]))"
      ]
     },
     "execution_count": 68,
     "metadata": {},
     "output_type": "execute_result"
    }
   ],
   "source": [
    "torch.unbind(c, dim=1) # 2 elements"
   ]
  },
  {
   "cell_type": "code",
   "execution_count": 69,
   "id": "7b7f993b-d060-4f49-8ab6-c8aee1eb4c6f",
   "metadata": {},
   "outputs": [
    {
     "data": {
      "text/plain": [
       "(tensor([[ 1,  4],\n",
       "         [10, 40],\n",
       "         [11, 41]]),\n",
       " tensor([[ 2,  5],\n",
       "         [20, 50],\n",
       "         [21, 51]]),\n",
       " tensor([[ 12,  15],\n",
       "         [100, 200],\n",
       "         [ 31,  71]]),\n",
       " tensor([[ 121,  151],\n",
       "         [1000, 2000],\n",
       "         [ 310,  710]]))"
      ]
     },
     "execution_count": 69,
     "metadata": {},
     "output_type": "execute_result"
    }
   ],
   "source": [
    "torch.unbind(c, dim=2) # 4 elements"
   ]
  },
  {
   "cell_type": "code",
   "execution_count": 82,
   "id": "c4e3a516-eeae-4fd4-8de6-b2ca3eafdcfb",
   "metadata": {},
   "outputs": [
    {
     "data": {
      "text/plain": [
       " 1\n",
       " 2\n",
       " 12\n",
       " 121\n",
       " 4\n",
       " 5\n",
       " 15\n",
       " 151\n",
       " 10\n",
       " 20\n",
       " 100\n",
       " 1000\n",
       " 40\n",
       " 50\n",
       " 200\n",
       " 2000\n",
       " 11\n",
       " 21\n",
       " 31\n",
       " 310\n",
       " 41\n",
       " 51\n",
       " 71\n",
       " 710\n",
       "[torch.storage.TypedStorage(dtype=torch.int64, device=cpu) of size 24]"
      ]
     },
     "execution_count": 82,
     "metadata": {},
     "output_type": "execute_result"
    }
   ],
   "source": [
    "c.storage()"
   ]
  },
  {
   "cell_type": "markdown",
   "id": "1c197878-2920-49f5-80a8-8cdfa617ff05",
   "metadata": {},
   "source": [
    "------------"
   ]
  },
  {
   "cell_type": "code",
   "execution_count": 34,
   "id": "e0915698-a72d-441c-8443-af770fa73133",
   "metadata": {},
   "outputs": [],
   "source": [
    "W1= torch.randn((6,100)) # 100 is the arbitrary number of neurons\n",
    "b1 = torch.randn(100)"
   ]
  },
  {
   "cell_type": "code",
   "execution_count": 59,
   "id": "b7fd687c-c9e8-4bc6-9ccb-5c673822fb7b",
   "metadata": {},
   "outputs": [
    {
     "name": "stdout",
     "output_type": "stream",
     "text": [
      "CPU times: user 5 μs, sys: 1 μs, total: 6 μs\n",
      "Wall time: 15 μs\n"
     ]
    },
    {
     "data": {
      "text/plain": [
       "(tensor([[ 1.6220, -0.5737,  1.6220, -0.5737,  1.6220, -0.5737],\n",
       "         [ 1.6220, -0.5737,  1.6220, -0.5737, -0.0881,  0.7611],\n",
       "         [ 1.6220, -0.5737, -0.0881,  0.7611, -0.3980, -0.9895],\n",
       "         [-0.0881,  0.7611, -0.3980, -0.9895, -0.3980, -0.9895],\n",
       "         [-0.3980, -0.9895, -0.3980, -0.9895, -0.6279,  1.4804],\n",
       "         [ 1.6220, -0.5737,  1.6220, -0.5737,  1.6220, -0.5737],\n",
       "         [ 1.6220, -0.5737,  1.6220, -0.5737, -1.6432,  1.2286],\n",
       "         [ 1.6220, -0.5737, -1.6432,  1.2286,  0.4343,  1.3980],\n",
       "         [-1.6432,  1.2286,  0.4343,  1.3980,  0.4424, -1.1072],\n",
       "         [ 0.4343,  1.3980,  0.4424, -1.1072,  1.2888, -1.4346],\n",
       "         [ 0.4424, -1.1072,  1.2888, -1.4346,  0.4424, -1.1072],\n",
       "         [ 1.2888, -1.4346,  0.4424, -1.1072, -0.6279,  1.4804],\n",
       "         [ 1.6220, -0.5737,  1.6220, -0.5737,  1.6220, -0.5737],\n",
       "         [ 1.6220, -0.5737,  1.6220, -0.5737, -0.6279,  1.4804],\n",
       "         [ 1.6220, -0.5737, -0.6279,  1.4804,  1.2888, -1.4346],\n",
       "         [-0.6279,  1.4804,  1.2888, -1.4346, -0.6279,  1.4804],\n",
       "         [ 1.6220, -0.5737,  1.6220, -0.5737,  1.6220, -0.5737],\n",
       "         [ 1.6220, -0.5737,  1.6220, -0.5737,  0.4424, -1.1072],\n",
       "         [ 1.6220, -0.5737,  0.4424, -1.1072,  0.1751,  1.1796],\n",
       "         [ 0.4424, -1.1072,  0.1751,  1.1796, -0.6279,  1.4804],\n",
       "         [ 0.1751,  1.1796, -0.6279,  1.4804, -1.8453,  0.0246],\n",
       "         [-0.6279,  1.4804, -1.8453,  0.0246, -0.0881,  0.7611],\n",
       "         [-1.8453,  0.0246, -0.0881,  0.7611,  0.4343,  1.3980],\n",
       "         [-0.0881,  0.7611,  0.4343,  1.3980,  0.4343,  1.3980],\n",
       "         [ 0.4343,  1.3980,  0.4343,  1.3980, -0.6279,  1.4804],\n",
       "         [ 1.6220, -0.5737,  1.6220, -0.5737,  1.6220, -0.5737],\n",
       "         [ 1.6220, -0.5737,  1.6220, -0.5737,  0.1751,  1.1796],\n",
       "         [ 1.6220, -0.5737,  0.1751,  1.1796, -1.6432,  1.2286],\n",
       "         [ 0.1751,  1.1796, -1.6432,  1.2286,  0.7481,  0.7432],\n",
       "         [-1.6432,  1.2286,  0.7481,  0.7432,  0.7875,  0.0293],\n",
       "         [ 0.7481,  0.7432,  0.7875,  0.0293,  0.4424, -1.1072],\n",
       "         [ 0.7875,  0.0293,  0.4424, -1.1072, -0.6279,  1.4804]]),\n",
       " torch.Size([32, 6]))"
      ]
     },
     "execution_count": 59,
     "metadata": {},
     "output_type": "execute_result"
    }
   ],
   "source": [
    "# concatenating:\n",
    "%time\n",
    "torch.cat([emb[:,0,:], emb[:,1,:], emb[:,2,:]],1), torch.cat([emb[:,0,:], emb[:,1,:], emb[:,2,:]],1).shape"
   ]
  },
  {
   "cell_type": "code",
   "execution_count": 83,
   "id": "26a43cdc-df1a-411e-9a63-008343d63b2c",
   "metadata": {},
   "outputs": [
    {
     "name": "stdout",
     "output_type": "stream",
     "text": [
      "CPU times: user 4 μs, sys: 1 μs, total: 5 μs\n",
      "Wall time: 8.82 μs\n"
     ]
    },
    {
     "data": {
      "text/plain": [
       "tensor([[ 1.6220, -0.5737,  1.6220, -0.5737,  1.6220, -0.5737],\n",
       "        [ 1.6220, -0.5737,  1.6220, -0.5737, -0.0881,  0.7611],\n",
       "        [ 1.6220, -0.5737, -0.0881,  0.7611, -0.3980, -0.9895],\n",
       "        [-0.0881,  0.7611, -0.3980, -0.9895, -0.3980, -0.9895],\n",
       "        [-0.3980, -0.9895, -0.3980, -0.9895, -0.6279,  1.4804],\n",
       "        [ 1.6220, -0.5737,  1.6220, -0.5737,  1.6220, -0.5737],\n",
       "        [ 1.6220, -0.5737,  1.6220, -0.5737, -1.6432,  1.2286],\n",
       "        [ 1.6220, -0.5737, -1.6432,  1.2286,  0.4343,  1.3980],\n",
       "        [-1.6432,  1.2286,  0.4343,  1.3980,  0.4424, -1.1072],\n",
       "        [ 0.4343,  1.3980,  0.4424, -1.1072,  1.2888, -1.4346],\n",
       "        [ 0.4424, -1.1072,  1.2888, -1.4346,  0.4424, -1.1072],\n",
       "        [ 1.2888, -1.4346,  0.4424, -1.1072, -0.6279,  1.4804],\n",
       "        [ 1.6220, -0.5737,  1.6220, -0.5737,  1.6220, -0.5737],\n",
       "        [ 1.6220, -0.5737,  1.6220, -0.5737, -0.6279,  1.4804],\n",
       "        [ 1.6220, -0.5737, -0.6279,  1.4804,  1.2888, -1.4346],\n",
       "        [-0.6279,  1.4804,  1.2888, -1.4346, -0.6279,  1.4804],\n",
       "        [ 1.6220, -0.5737,  1.6220, -0.5737,  1.6220, -0.5737],\n",
       "        [ 1.6220, -0.5737,  1.6220, -0.5737,  0.4424, -1.1072],\n",
       "        [ 1.6220, -0.5737,  0.4424, -1.1072,  0.1751,  1.1796],\n",
       "        [ 0.4424, -1.1072,  0.1751,  1.1796, -0.6279,  1.4804],\n",
       "        [ 0.1751,  1.1796, -0.6279,  1.4804, -1.8453,  0.0246],\n",
       "        [-0.6279,  1.4804, -1.8453,  0.0246, -0.0881,  0.7611],\n",
       "        [-1.8453,  0.0246, -0.0881,  0.7611,  0.4343,  1.3980],\n",
       "        [-0.0881,  0.7611,  0.4343,  1.3980,  0.4343,  1.3980],\n",
       "        [ 0.4343,  1.3980,  0.4343,  1.3980, -0.6279,  1.4804],\n",
       "        [ 1.6220, -0.5737,  1.6220, -0.5737,  1.6220, -0.5737],\n",
       "        [ 1.6220, -0.5737,  1.6220, -0.5737,  0.1751,  1.1796],\n",
       "        [ 1.6220, -0.5737,  0.1751,  1.1796, -1.6432,  1.2286],\n",
       "        [ 0.1751,  1.1796, -1.6432,  1.2286,  0.7481,  0.7432],\n",
       "        [-1.6432,  1.2286,  0.7481,  0.7432,  0.7875,  0.0293],\n",
       "        [ 0.7481,  0.7432,  0.7875,  0.0293,  0.4424, -1.1072],\n",
       "        [ 0.7875,  0.0293,  0.4424, -1.1072, -0.6279,  1.4804]])"
      ]
     },
     "execution_count": 83,
     "metadata": {},
     "output_type": "execute_result"
    }
   ],
   "source": [
    "%time\n",
    "emb.reshape((32,6))"
   ]
  },
  {
   "cell_type": "code",
   "execution_count": 84,
   "id": "65a35ba8-b655-4191-914c-2c7196e9a450",
   "metadata": {},
   "outputs": [
    {
     "name": "stdout",
     "output_type": "stream",
     "text": [
      "CPU times: user 4 μs, sys: 1 μs, total: 5 μs\n",
      "Wall time: 8.82 μs\n"
     ]
    },
    {
     "data": {
      "text/plain": [
       "tensor([[ 1.6220, -0.5737,  1.6220, -0.5737,  1.6220, -0.5737],\n",
       "        [ 1.6220, -0.5737,  1.6220, -0.5737, -0.0881,  0.7611],\n",
       "        [ 1.6220, -0.5737, -0.0881,  0.7611, -0.3980, -0.9895],\n",
       "        [-0.0881,  0.7611, -0.3980, -0.9895, -0.3980, -0.9895],\n",
       "        [-0.3980, -0.9895, -0.3980, -0.9895, -0.6279,  1.4804],\n",
       "        [ 1.6220, -0.5737,  1.6220, -0.5737,  1.6220, -0.5737],\n",
       "        [ 1.6220, -0.5737,  1.6220, -0.5737, -1.6432,  1.2286],\n",
       "        [ 1.6220, -0.5737, -1.6432,  1.2286,  0.4343,  1.3980],\n",
       "        [-1.6432,  1.2286,  0.4343,  1.3980,  0.4424, -1.1072],\n",
       "        [ 0.4343,  1.3980,  0.4424, -1.1072,  1.2888, -1.4346],\n",
       "        [ 0.4424, -1.1072,  1.2888, -1.4346,  0.4424, -1.1072],\n",
       "        [ 1.2888, -1.4346,  0.4424, -1.1072, -0.6279,  1.4804],\n",
       "        [ 1.6220, -0.5737,  1.6220, -0.5737,  1.6220, -0.5737],\n",
       "        [ 1.6220, -0.5737,  1.6220, -0.5737, -0.6279,  1.4804],\n",
       "        [ 1.6220, -0.5737, -0.6279,  1.4804,  1.2888, -1.4346],\n",
       "        [-0.6279,  1.4804,  1.2888, -1.4346, -0.6279,  1.4804],\n",
       "        [ 1.6220, -0.5737,  1.6220, -0.5737,  1.6220, -0.5737],\n",
       "        [ 1.6220, -0.5737,  1.6220, -0.5737,  0.4424, -1.1072],\n",
       "        [ 1.6220, -0.5737,  0.4424, -1.1072,  0.1751,  1.1796],\n",
       "        [ 0.4424, -1.1072,  0.1751,  1.1796, -0.6279,  1.4804],\n",
       "        [ 0.1751,  1.1796, -0.6279,  1.4804, -1.8453,  0.0246],\n",
       "        [-0.6279,  1.4804, -1.8453,  0.0246, -0.0881,  0.7611],\n",
       "        [-1.8453,  0.0246, -0.0881,  0.7611,  0.4343,  1.3980],\n",
       "        [-0.0881,  0.7611,  0.4343,  1.3980,  0.4343,  1.3980],\n",
       "        [ 0.4343,  1.3980,  0.4343,  1.3980, -0.6279,  1.4804],\n",
       "        [ 1.6220, -0.5737,  1.6220, -0.5737,  1.6220, -0.5737],\n",
       "        [ 1.6220, -0.5737,  1.6220, -0.5737,  0.1751,  1.1796],\n",
       "        [ 1.6220, -0.5737,  0.1751,  1.1796, -1.6432,  1.2286],\n",
       "        [ 0.1751,  1.1796, -1.6432,  1.2286,  0.7481,  0.7432],\n",
       "        [-1.6432,  1.2286,  0.7481,  0.7432,  0.7875,  0.0293],\n",
       "        [ 0.7481,  0.7432,  0.7875,  0.0293,  0.4424, -1.1072],\n",
       "        [ 0.7875,  0.0293,  0.4424, -1.1072, -0.6279,  1.4804]])"
      ]
     },
     "execution_count": 84,
     "metadata": {},
     "output_type": "execute_result"
    }
   ],
   "source": [
    "%time\n",
    "emb.view((32,6))"
   ]
  },
  {
   "cell_type": "code",
   "execution_count": 85,
   "id": "20e9f8d6-6640-4137-92bb-f4118f40868d",
   "metadata": {},
   "outputs": [
    {
     "name": "stdout",
     "output_type": "stream",
     "text": [
      "CPU times: user 4 μs, sys: 1 μs, total: 5 μs\n",
      "Wall time: 9.06 μs\n"
     ]
    },
    {
     "data": {
      "text/plain": [
       "tensor([[ 1.6220, -0.5737,  1.6220, -0.5737,  1.6220, -0.5737],\n",
       "        [ 1.6220, -0.5737,  1.6220, -0.5737, -0.0881,  0.7611],\n",
       "        [ 1.6220, -0.5737, -0.0881,  0.7611, -0.3980, -0.9895],\n",
       "        [-0.0881,  0.7611, -0.3980, -0.9895, -0.3980, -0.9895],\n",
       "        [-0.3980, -0.9895, -0.3980, -0.9895, -0.6279,  1.4804],\n",
       "        [ 1.6220, -0.5737,  1.6220, -0.5737,  1.6220, -0.5737],\n",
       "        [ 1.6220, -0.5737,  1.6220, -0.5737, -1.6432,  1.2286],\n",
       "        [ 1.6220, -0.5737, -1.6432,  1.2286,  0.4343,  1.3980],\n",
       "        [-1.6432,  1.2286,  0.4343,  1.3980,  0.4424, -1.1072],\n",
       "        [ 0.4343,  1.3980,  0.4424, -1.1072,  1.2888, -1.4346],\n",
       "        [ 0.4424, -1.1072,  1.2888, -1.4346,  0.4424, -1.1072],\n",
       "        [ 1.2888, -1.4346,  0.4424, -1.1072, -0.6279,  1.4804],\n",
       "        [ 1.6220, -0.5737,  1.6220, -0.5737,  1.6220, -0.5737],\n",
       "        [ 1.6220, -0.5737,  1.6220, -0.5737, -0.6279,  1.4804],\n",
       "        [ 1.6220, -0.5737, -0.6279,  1.4804,  1.2888, -1.4346],\n",
       "        [-0.6279,  1.4804,  1.2888, -1.4346, -0.6279,  1.4804],\n",
       "        [ 1.6220, -0.5737,  1.6220, -0.5737,  1.6220, -0.5737],\n",
       "        [ 1.6220, -0.5737,  1.6220, -0.5737,  0.4424, -1.1072],\n",
       "        [ 1.6220, -0.5737,  0.4424, -1.1072,  0.1751,  1.1796],\n",
       "        [ 0.4424, -1.1072,  0.1751,  1.1796, -0.6279,  1.4804],\n",
       "        [ 0.1751,  1.1796, -0.6279,  1.4804, -1.8453,  0.0246],\n",
       "        [-0.6279,  1.4804, -1.8453,  0.0246, -0.0881,  0.7611],\n",
       "        [-1.8453,  0.0246, -0.0881,  0.7611,  0.4343,  1.3980],\n",
       "        [-0.0881,  0.7611,  0.4343,  1.3980,  0.4343,  1.3980],\n",
       "        [ 0.4343,  1.3980,  0.4343,  1.3980, -0.6279,  1.4804],\n",
       "        [ 1.6220, -0.5737,  1.6220, -0.5737,  1.6220, -0.5737],\n",
       "        [ 1.6220, -0.5737,  1.6220, -0.5737,  0.1751,  1.1796],\n",
       "        [ 1.6220, -0.5737,  0.1751,  1.1796, -1.6432,  1.2286],\n",
       "        [ 0.1751,  1.1796, -1.6432,  1.2286,  0.7481,  0.7432],\n",
       "        [-1.6432,  1.2286,  0.7481,  0.7432,  0.7875,  0.0293],\n",
       "        [ 0.7481,  0.7432,  0.7875,  0.0293,  0.4424, -1.1072],\n",
       "        [ 0.7875,  0.0293,  0.4424, -1.1072, -0.6279,  1.4804]])"
      ]
     },
     "execution_count": 85,
     "metadata": {},
     "output_type": "execute_result"
    }
   ],
   "source": [
    "%time\n",
    "torch.cat(torch.unbind(emb,1),1)"
   ]
  },
  {
   "cell_type": "code",
   "execution_count": 86,
   "id": "4108e3dd-b381-4115-bc7f-9c4a8e5bd566",
   "metadata": {},
   "outputs": [
    {
     "data": {
      "text/plain": [
       "tensor([[True, True, True, True, True, True],\n",
       "        [True, True, True, True, True, True],\n",
       "        [True, True, True, True, True, True],\n",
       "        [True, True, True, True, True, True],\n",
       "        [True, True, True, True, True, True],\n",
       "        [True, True, True, True, True, True],\n",
       "        [True, True, True, True, True, True],\n",
       "        [True, True, True, True, True, True],\n",
       "        [True, True, True, True, True, True],\n",
       "        [True, True, True, True, True, True],\n",
       "        [True, True, True, True, True, True],\n",
       "        [True, True, True, True, True, True],\n",
       "        [True, True, True, True, True, True],\n",
       "        [True, True, True, True, True, True],\n",
       "        [True, True, True, True, True, True],\n",
       "        [True, True, True, True, True, True],\n",
       "        [True, True, True, True, True, True],\n",
       "        [True, True, True, True, True, True],\n",
       "        [True, True, True, True, True, True],\n",
       "        [True, True, True, True, True, True],\n",
       "        [True, True, True, True, True, True],\n",
       "        [True, True, True, True, True, True],\n",
       "        [True, True, True, True, True, True],\n",
       "        [True, True, True, True, True, True],\n",
       "        [True, True, True, True, True, True],\n",
       "        [True, True, True, True, True, True],\n",
       "        [True, True, True, True, True, True],\n",
       "        [True, True, True, True, True, True],\n",
       "        [True, True, True, True, True, True],\n",
       "        [True, True, True, True, True, True],\n",
       "        [True, True, True, True, True, True],\n",
       "        [True, True, True, True, True, True]])"
      ]
     },
     "execution_count": 86,
     "metadata": {},
     "output_type": "execute_result"
    }
   ],
   "source": [
    "emb.view(32,6)==torch.cat(torch.unbind(emb,1),1)"
   ]
  },
  {
   "cell_type": "code",
   "execution_count": 36,
   "id": "8124c90f-e1ae-49a7-b22e-e28f9e2062e0",
   "metadata": {},
   "outputs": [],
   "source": [
    "h = emb.view(32,6) @ W1+b1 # hidden layers"
   ]
  },
  {
   "cell_type": "code",
   "execution_count": 37,
   "id": "034e6fbc-56e6-4126-9cbd-e1a43cdec4fc",
   "metadata": {},
   "outputs": [
    {
     "data": {
      "text/plain": [
       "torch.Size([32, 100])"
      ]
     },
     "execution_count": 37,
     "metadata": {},
     "output_type": "execute_result"
    }
   ],
   "source": [
    "(emb.view(32,6) @ W1+b1).shape"
   ]
  },
  {
   "cell_type": "code",
   "execution_count": 38,
   "id": "3c5a7051-3a65-457a-a99a-404547ec0b63",
   "metadata": {},
   "outputs": [],
   "source": [
    "# we can write h in the following form, it helps us to manage emb with differen sizes\n",
    "h = emb.view(emb.shape[0],6) @ W1 + b1\n",
    "# or \n",
    "h = emb.view(-1,6)@ W1+b1 # the tourch decide what to infere"
   ]
  },
  {
   "cell_type": "code",
   "execution_count": 39,
   "id": "6f10bdd4-f724-480b-9150-918f824ce0f4",
   "metadata": {},
   "outputs": [],
   "source": [
    "h = torch.tanh(emb.view(-1,6)@ W1+b1) # now all the entities are between -1 and 1"
   ]
  },
  {
   "cell_type": "code",
   "execution_count": 40,
   "id": "83f7046d-7a29-45c9-b949-6676506207d1",
   "metadata": {},
   "outputs": [
    {
     "data": {
      "text/plain": [
       "torch.Size([32, 100])"
      ]
     },
     "execution_count": 40,
     "metadata": {},
     "output_type": "execute_result"
    }
   ],
   "source": [
    "h.shape"
   ]
  },
  {
   "cell_type": "code",
   "execution_count": 41,
   "id": "fd49b4cb-2b9f-43ac-982e-d4cbe8131739",
   "metadata": {},
   "outputs": [
    {
     "data": {
      "text/plain": [
       "torch.Size([32, 100])"
      ]
     },
     "execution_count": 41,
     "metadata": {},
     "output_type": "execute_result"
    }
   ],
   "source": [
    "(emb.view(emb.shape[0],6) @ W1).shape"
   ]
  },
  {
   "cell_type": "code",
   "execution_count": 42,
   "id": "a5c19227-6de3-4e13-a565-8c14bd69a065",
   "metadata": {},
   "outputs": [
    {
     "data": {
      "text/plain": [
       "torch.Size([100])"
      ]
     },
     "execution_count": 42,
     "metadata": {},
     "output_type": "execute_result"
    }
   ],
   "source": [
    "b1.shape"
   ]
  },
  {
   "cell_type": "code",
   "execution_count": null,
   "id": "9b780583-3b51-49e1-874f-f41d90b630ed",
   "metadata": {},
   "outputs": [],
   "source": [
    "# here there is a broadcasting\n",
    "# 32, 100\n",
    "#   , 100\n",
    "# b1 added to each rows of emb.view(emb.shape[0],6) @ W1."
   ]
  },
  {
   "cell_type": "code",
   "execution_count": 43,
   "id": "f90e6557-f53b-406c-a959-41f90862a67f",
   "metadata": {},
   "outputs": [],
   "source": [
    "# for the last layer\n",
    "W2 = torch.randn((100,27)) # 27 possibilities for the next letter\n",
    "b2 = torch.randn(27)"
   ]
  },
  {
   "cell_type": "code",
   "execution_count": 44,
   "id": "cc766924-ad73-4724-8402-2e8c1f26c447",
   "metadata": {},
   "outputs": [
    {
     "data": {
      "text/plain": [
       "torch.Size([32, 27])"
      ]
     },
     "execution_count": 44,
     "metadata": {},
     "output_type": "execute_result"
    }
   ],
   "source": [
    "# the output of tamh layer\n",
    "logits = h@W2+b2\n",
    "logits.shape"
   ]
  },
  {
   "cell_type": "code",
   "execution_count": 45,
   "id": "9f05c78c-401a-416c-aa80-45903b2b9fc5",
   "metadata": {},
   "outputs": [],
   "source": [
    "counts = logits.exp()"
   ]
  },
  {
   "cell_type": "code",
   "execution_count": 46,
   "id": "ac0d39b3-6c67-408e-a68e-2b896d46f156",
   "metadata": {},
   "outputs": [
    {
     "data": {
      "text/plain": [
       "torch.Size([32, 27])"
      ]
     },
     "execution_count": 46,
     "metadata": {},
     "output_type": "execute_result"
    }
   ],
   "source": [
    "# normalizing\n",
    "prob = counts/counts.sum(1, keepdims=True)\n",
    "prob.shape"
   ]
  },
  {
   "cell_type": "code",
   "execution_count": 47,
   "id": "b232004e-f414-4b35-8592-808f30dc4e48",
   "metadata": {},
   "outputs": [
    {
     "data": {
      "text/plain": [
       "tensor([[3.1760e-03, 1.9733e-09, 1.8063e-01, 1.1059e-04, 4.1161e-07, 7.9672e-08,\n",
       "         1.4766e-05, 5.2008e-03, 4.5017e-05, 1.4693e-01, 1.4798e-09, 2.2431e-02,\n",
       "         3.1284e-12, 9.1380e-09, 1.3366e-04, 5.1257e-07, 6.3201e-01, 5.3672e-09,\n",
       "         2.3921e-08, 2.1372e-08, 3.8263e-03, 2.0250e-03, 1.2285e-07, 2.1621e-05,\n",
       "         2.1413e-11, 3.4483e-03, 1.3795e-12],\n",
       "        [1.3688e-07, 3.9553e-10, 2.4921e-08, 2.7213e-07, 1.1652e-11, 3.8321e-05,\n",
       "         6.0843e-07, 8.0254e-05, 2.0690e-03, 8.8815e-01, 9.1694e-08, 2.6239e-02,\n",
       "         8.8092e-04, 6.1176e-02, 1.1087e-02, 1.6014e-08, 8.1604e-04, 4.4037e-09,\n",
       "         9.3797e-10, 7.8447e-09, 1.8491e-03, 1.2196e-04, 7.4855e-03, 6.7705e-09,\n",
       "         1.2756e-06, 4.8107e-07, 5.3716e-11],\n",
       "        [3.2055e-05, 2.2794e-13, 2.5372e-09, 1.0490e-08, 7.1491e-07, 1.5527e-08,\n",
       "         1.6847e-06, 5.8722e-12, 3.0804e-13, 6.3610e-11, 9.0011e-11, 9.8746e-11,\n",
       "         9.4183e-06, 3.2683e-12, 1.4033e-10, 1.8596e-08, 4.1869e-07, 2.2829e-12,\n",
       "         7.1744e-01, 2.1767e-11, 9.9662e-09, 5.8862e-02, 5.2832e-04, 4.2895e-11,\n",
       "         1.1161e-16, 2.2312e-01, 8.4199e-07],\n",
       "        [4.4864e-10, 2.1373e-07, 1.0546e-03, 3.4503e-05, 8.0258e-06, 1.5175e-08,\n",
       "         8.4612e-08, 4.9415e-15, 1.2989e-09, 4.6727e-07, 2.7491e-03, 4.9013e-14,\n",
       "         1.3254e-09, 3.9103e-12, 1.6047e-02, 9.9087e-05, 2.4115e-07, 5.0475e-07,\n",
       "         1.3328e-10, 1.1943e-06, 2.4772e-10, 9.7582e-01, 2.9103e-03, 1.5013e-05,\n",
       "         3.0505e-14, 1.2609e-03, 9.6238e-07],\n",
       "        [2.0885e-02, 1.8081e-06, 4.6570e-02, 2.8647e-08, 1.9258e-12, 1.9524e-06,\n",
       "         6.9795e-06, 3.9463e-04, 4.8290e-01, 3.4265e-05, 8.5663e-09, 2.6207e-04,\n",
       "         8.5329e-04, 6.7410e-05, 7.5408e-07, 2.4485e-09, 2.4817e-10, 6.3349e-06,\n",
       "         5.6783e-13, 2.2612e-05, 6.6488e-04, 2.9255e-05, 8.4250e-11, 4.3958e-01,\n",
       "         7.7121e-03, 1.6892e-20, 2.5423e-11],\n",
       "        [3.1760e-03, 1.9733e-09, 1.8063e-01, 1.1059e-04, 4.1161e-07, 7.9672e-08,\n",
       "         1.4766e-05, 5.2008e-03, 4.5017e-05, 1.4693e-01, 1.4798e-09, 2.2431e-02,\n",
       "         3.1284e-12, 9.1380e-09, 1.3366e-04, 5.1257e-07, 6.3201e-01, 5.3672e-09,\n",
       "         2.3921e-08, 2.1372e-08, 3.8263e-03, 2.0250e-03, 1.2285e-07, 2.1621e-05,\n",
       "         2.1413e-11, 3.4483e-03, 1.3795e-12],\n",
       "        [1.0904e-07, 8.1697e-11, 8.2533e-09, 2.4918e-08, 4.6084e-12, 2.8063e-05,\n",
       "         4.5957e-08, 1.4394e-06, 1.0727e-05, 8.6468e-01, 4.6189e-09, 2.2652e-03,\n",
       "         1.1678e-05, 1.2887e-01, 1.9142e-03, 5.8039e-09, 6.3561e-04, 1.1302e-08,\n",
       "         1.7974e-09, 5.1963e-10, 3.1368e-04, 6.0419e-05, 6.6811e-04, 1.7935e-09,\n",
       "         2.5345e-08, 5.4362e-04, 2.0017e-11],\n",
       "        [5.5809e-12, 5.8359e-13, 3.0192e-14, 1.4903e-08, 1.0279e-16, 5.3032e-07,\n",
       "         1.9968e-07, 1.0126e-08, 1.3598e-08, 6.4762e-06, 1.2060e-09, 3.4468e-09,\n",
       "         9.9938e-01, 5.9492e-07, 1.3074e-08, 2.0067e-10, 9.8129e-10, 2.1165e-11,\n",
       "         1.9709e-06, 3.5984e-08, 1.1260e-07, 3.8495e-07, 6.0373e-04, 5.3657e-11,\n",
       "         1.3015e-06, 1.1464e-12, 1.1483e-09],\n",
       "        [6.1047e-14, 7.8318e-14, 2.3749e-15, 1.3374e-15, 1.4636e-17, 3.8787e-12,\n",
       "         6.0293e-11, 1.1443e-13, 6.9259e-15, 7.0314e-17, 5.7356e-07, 4.4342e-14,\n",
       "         9.9946e-01, 1.4703e-11, 6.5259e-13, 2.1178e-07, 2.1231e-15, 1.1368e-17,\n",
       "         9.3202e-11, 1.8083e-10, 1.8693e-12, 1.9101e-08, 5.3522e-04, 9.3849e-14,\n",
       "         3.9229e-13, 8.4660e-15, 8.5424e-08],\n",
       "        [6.7714e-10, 1.0710e-09, 1.1478e-10, 5.5090e-09, 1.4932e-08, 1.3753e-10,\n",
       "         3.4934e-08, 5.8539e-13, 7.3360e-03, 8.2240e-15, 6.9549e-04, 8.2024e-12,\n",
       "         4.2266e-01, 2.5982e-12, 8.7710e-04, 5.6842e-01, 1.8344e-12, 1.6102e-10,\n",
       "         1.0876e-11, 4.0350e-06, 1.3233e-08, 5.4674e-06, 2.5310e-06, 6.1163e-12,\n",
       "         4.9509e-12, 3.4860e-16, 1.2108e-06],\n",
       "        [7.8175e-08, 5.8029e-10, 1.2998e-05, 1.0092e-06, 1.6309e-14, 4.5198e-07,\n",
       "         1.9929e-02, 1.7154e-07, 4.6544e-12, 3.8194e-06, 7.4803e-02, 8.0402e-06,\n",
       "         3.3895e-02, 1.7860e-03, 6.2840e-10, 1.4939e-03, 2.2957e-08, 3.5155e-08,\n",
       "         3.4034e-07, 2.1572e-05, 7.7586e-05, 1.1419e-04, 1.5522e-04, 7.9508e-01,\n",
       "         4.2973e-11, 6.7093e-02, 5.5211e-03],\n",
       "        [6.7170e-17, 9.6652e-18, 4.8768e-18, 3.8697e-10, 9.4871e-17, 4.4997e-11,\n",
       "         3.4572e-10, 1.4434e-10, 9.9998e-01, 2.3977e-10, 4.4861e-13, 8.3383e-10,\n",
       "         1.9472e-05, 3.2719e-10, 7.0010e-11, 2.1757e-08, 3.5364e-12, 1.6430e-10,\n",
       "         2.3915e-14, 1.1846e-12, 3.7504e-08, 1.1434e-13, 2.0971e-09, 5.5399e-15,\n",
       "         1.5237e-10, 2.2016e-21, 8.5530e-10],\n",
       "        [3.1760e-03, 1.9733e-09, 1.8063e-01, 1.1059e-04, 4.1161e-07, 7.9672e-08,\n",
       "         1.4766e-05, 5.2008e-03, 4.5017e-05, 1.4693e-01, 1.4798e-09, 2.2431e-02,\n",
       "         3.1284e-12, 9.1380e-09, 1.3366e-04, 5.1257e-07, 6.3201e-01, 5.3672e-09,\n",
       "         2.3921e-08, 2.1372e-08, 3.8263e-03, 2.0250e-03, 1.2285e-07, 2.1621e-05,\n",
       "         2.1413e-11, 3.4483e-03, 1.3795e-12],\n",
       "        [3.5976e-08, 1.9282e-09, 2.9629e-08, 8.8758e-07, 4.7432e-14, 5.7686e-08,\n",
       "         1.1105e-07, 6.4387e-06, 9.6284e-01, 2.3142e-03, 7.7707e-09, 1.7794e-02,\n",
       "         7.6871e-05, 2.8120e-06, 1.5452e-04, 5.9598e-08, 3.9483e-07, 9.1522e-08,\n",
       "         2.4201e-13, 2.5649e-07, 1.6762e-02, 3.0753e-07, 8.0640e-09, 3.4111e-05,\n",
       "         8.5368e-06, 4.7293e-17, 2.6220e-13],\n",
       "        [1.3263e-07, 1.1845e-11, 1.2340e-06, 1.2851e-02, 1.2542e-11, 6.0059e-06,\n",
       "         8.4194e-05, 1.8040e-04, 5.9964e-06, 4.3563e-03, 1.9164e-06, 9.8147e-01,\n",
       "         3.3427e-04, 8.0524e-09, 1.6747e-10, 2.8583e-05, 2.6989e-09, 1.6150e-05,\n",
       "         1.9161e-05, 4.0101e-10, 8.3238e-06, 3.4074e-04, 3.2339e-06, 2.9616e-04,\n",
       "         1.7846e-09, 9.7571e-09, 3.5738e-07],\n",
       "        [3.5957e-22, 2.9487e-16, 5.3293e-18, 3.8758e-05, 3.8576e-16, 8.7334e-13,\n",
       "         6.8856e-09, 2.0072e-08, 9.9996e-01, 1.6835e-08, 5.3337e-11, 3.1552e-07,\n",
       "         2.5081e-08, 8.7795e-09, 1.5702e-09, 2.6508e-09, 6.4472e-13, 7.8144e-10,\n",
       "         2.8565e-13, 1.6209e-14, 5.2503e-10, 6.2402e-16, 3.7064e-09, 4.6379e-15,\n",
       "         3.2839e-12, 3.0365e-15, 2.8519e-08],\n",
       "        [3.1760e-03, 1.9733e-09, 1.8063e-01, 1.1059e-04, 4.1161e-07, 7.9672e-08,\n",
       "         1.4766e-05, 5.2008e-03, 4.5017e-05, 1.4693e-01, 1.4798e-09, 2.2431e-02,\n",
       "         3.1284e-12, 9.1380e-09, 1.3366e-04, 5.1257e-07, 6.3201e-01, 5.3672e-09,\n",
       "         2.3921e-08, 2.1372e-08, 3.8263e-03, 2.0250e-03, 1.2285e-07, 2.1621e-05,\n",
       "         2.1413e-11, 3.4483e-03, 1.3795e-12],\n",
       "        [3.1289e-08, 1.9583e-10, 2.0288e-08, 4.3922e-08, 1.2392e-11, 2.2970e-04,\n",
       "         2.2403e-08, 1.5222e-07, 1.3280e-07, 4.5936e-01, 2.7544e-09, 1.5907e-03,\n",
       "         7.4288e-06, 2.3166e-01, 4.2225e-04, 2.6979e-09, 1.0383e-03, 3.6783e-08,\n",
       "         5.9121e-08, 1.1058e-09, 2.2778e-04, 1.5507e-04, 1.4655e-03, 5.5943e-09,\n",
       "         2.7822e-08, 3.0384e-01, 8.3224e-11],\n",
       "        [3.1590e-05, 5.3033e-12, 3.2074e-11, 4.6440e-06, 5.5638e-07, 1.1834e-06,\n",
       "         1.1739e-06, 2.9606e-09, 2.3808e-04, 8.6745e-07, 1.3116e-07, 1.8406e-08,\n",
       "         3.7487e-03, 3.1469e-12, 3.3369e-08, 6.0492e-07, 2.9181e-10, 1.7898e-07,\n",
       "         1.7249e-05, 3.5687e-08, 2.2612e-05, 1.9868e-02, 9.7606e-01, 3.2091e-08,\n",
       "         5.9257e-10, 1.0055e-13, 3.0202e-06],\n",
       "        [5.7701e-11, 4.2022e-09, 1.5905e-08, 6.2965e-09, 2.0350e-13, 1.2080e-08,\n",
       "         3.6714e-05, 1.0961e-08, 4.2379e-04, 2.2690e-07, 1.3765e-05, 7.7849e-04,\n",
       "         9.8146e-01, 3.8235e-06, 3.5704e-04, 1.6153e-02, 3.6500e-09, 2.5530e-06,\n",
       "         7.1846e-16, 2.7223e-04, 4.5859e-04, 7.9526e-08, 7.5752e-09, 3.6751e-05,\n",
       "         2.3694e-07, 3.3432e-14, 1.9221e-10],\n",
       "        [6.3393e-07, 6.9121e-15, 6.9227e-10, 7.9284e-08, 8.8993e-14, 3.1611e-10,\n",
       "         1.0218e-05, 3.6914e-06, 1.9710e-13, 3.4880e-08, 8.2468e-06, 1.2643e-04,\n",
       "         8.5227e-02, 9.3016e-04, 7.5336e-12, 1.1136e-05, 4.8384e-08, 4.8659e-10,\n",
       "         7.1623e-04, 9.9878e-10, 2.3957e-06, 4.2095e-06, 1.4245e-06, 2.8129e-07,\n",
       "         6.2127e-12, 9.1296e-01, 2.1191e-06],\n",
       "        [3.1180e-17, 3.9754e-11, 2.7791e-12, 1.8219e-06, 3.1577e-12, 4.9246e-08,\n",
       "         1.4979e-05, 2.9659e-07, 9.5560e-01, 7.2063e-07, 2.1764e-07, 1.2304e-08,\n",
       "         1.4176e-06, 8.1896e-07, 1.1132e-04, 2.9440e-06, 4.4211e-10, 2.6579e-10,\n",
       "         2.4950e-10, 4.4295e-12, 2.7198e-07, 2.4888e-12, 4.4263e-02, 7.0369e-15,\n",
       "         3.7206e-09, 2.9421e-15, 5.0090e-08],\n",
       "        [1.5242e-13, 7.3646e-17, 9.0220e-16, 1.0052e-16, 5.9332e-22, 1.0457e-15,\n",
       "         6.1258e-11, 2.1873e-13, 4.4343e-17, 7.6072e-15, 1.1946e-08, 7.3192e-14,\n",
       "         1.0000e+00, 9.1386e-10, 1.7741e-16, 6.7576e-10, 1.1490e-14, 8.8667e-18,\n",
       "         6.2057e-13, 5.4048e-11, 2.1385e-11, 2.8505e-09, 4.0672e-06, 1.1809e-11,\n",
       "         1.9408e-12, 5.1981e-13, 1.6178e-10],\n",
       "        [2.5212e-17, 3.3663e-14, 9.9093e-17, 1.3384e-14, 1.6841e-20, 2.4919e-12,\n",
       "         1.9803e-11, 2.2537e-10, 5.9380e-12, 4.3924e-15, 1.5275e-07, 2.5268e-10,\n",
       "         9.9524e-01, 2.1985e-09, 1.7279e-12, 2.2973e-07, 3.2983e-14, 3.3825e-15,\n",
       "         6.2292e-11, 1.2819e-10, 3.2808e-11, 2.8501e-11, 4.7570e-03, 2.9260e-14,\n",
       "         3.1793e-11, 7.6602e-17, 4.1575e-09],\n",
       "        [1.7272e-15, 6.4848e-12, 5.0111e-17, 7.1604e-13, 2.0667e-13, 1.2810e-10,\n",
       "         4.2138e-08, 2.3583e-11, 4.5889e-01, 1.7042e-16, 3.6008e-09, 1.6985e-12,\n",
       "         5.4101e-01, 6.9873e-13, 1.7631e-09, 1.0718e-04, 7.9876e-14, 2.9230e-12,\n",
       "         2.1768e-13, 8.3259e-08, 3.3990e-08, 5.9599e-13, 2.3272e-10, 4.7881e-13,\n",
       "         1.6660e-11, 4.7533e-20, 1.7133e-08],\n",
       "        [3.1760e-03, 1.9733e-09, 1.8063e-01, 1.1059e-04, 4.1161e-07, 7.9672e-08,\n",
       "         1.4766e-05, 5.2008e-03, 4.5017e-05, 1.4693e-01, 1.4798e-09, 2.2431e-02,\n",
       "         3.1284e-12, 9.1380e-09, 1.3366e-04, 5.1257e-07, 6.3201e-01, 5.3672e-09,\n",
       "         2.3921e-08, 2.1372e-08, 3.8263e-03, 2.0250e-03, 1.2285e-07, 2.1621e-05,\n",
       "         2.1413e-11, 3.4483e-03, 1.3795e-12],\n",
       "        [3.7120e-04, 7.6708e-10, 1.5950e-04, 9.9257e-07, 5.0382e-10, 1.6145e-08,\n",
       "         3.7161e-06, 8.3376e-05, 1.9083e-05, 8.6366e-01, 3.4226e-10, 2.6998e-02,\n",
       "         5.0612e-11, 2.9754e-06, 2.1876e-04, 7.1260e-09, 1.0697e-01, 3.4277e-09,\n",
       "         2.0461e-09, 1.6425e-09, 1.2616e-03, 1.4167e-04, 3.9511e-07, 2.7429e-06,\n",
       "         3.8915e-11, 1.1312e-04, 4.1787e-14],\n",
       "        [5.1809e-07, 2.0306e-11, 1.6531e-08, 3.4123e-07, 3.9699e-11, 1.7194e-03,\n",
       "         6.8834e-07, 3.2194e-05, 2.9164e-04, 2.6130e-01, 2.1999e-06, 2.1828e-02,\n",
       "         4.4094e-02, 4.4697e-01, 9.3783e-04, 1.7437e-07, 7.7569e-04, 2.8418e-07,\n",
       "         8.2259e-08, 1.5725e-08, 2.1943e-02, 6.4921e-04, 1.9944e-01, 2.4007e-09,\n",
       "         6.0935e-06, 7.5969e-06, 1.3124e-08],\n",
       "        [2.6724e-10, 9.1889e-11, 8.2867e-12, 2.2655e-09, 1.5279e-13, 4.0405e-06,\n",
       "         2.0729e-07, 3.3854e-13, 5.3232e-12, 1.0834e-11, 9.3808e-08, 8.5792e-12,\n",
       "         1.4736e-02, 2.1656e-08, 5.7531e-10, 1.1152e-07, 7.2914e-11, 3.0006e-12,\n",
       "         4.0349e-05, 1.5058e-10, 2.3287e-09, 6.5301e-04, 9.8455e-01, 5.3234e-11,\n",
       "         8.7495e-13, 1.3890e-06, 1.5228e-05],\n",
       "        [1.3309e-13, 1.4305e-08, 5.9607e-10, 5.1168e-10, 1.9393e-11, 3.3276e-07,\n",
       "         2.1473e-06, 3.4862e-15, 1.3876e-06, 5.3867e-12, 2.4955e-04, 7.6536e-13,\n",
       "         6.1960e-01, 1.1218e-06, 5.2285e-04, 1.2482e-05, 3.1625e-13, 3.3841e-13,\n",
       "         2.3048e-09, 1.5804e-08, 1.0750e-09, 1.8699e-04, 3.7942e-01, 6.3747e-08,\n",
       "         2.4272e-10, 1.0384e-16, 3.7043e-07],\n",
       "        [9.4572e-10, 3.4336e-11, 4.1254e-10, 4.2915e-13, 1.9848e-14, 9.6535e-12,\n",
       "         1.1458e-06, 4.7988e-14, 7.2360e-16, 2.3994e-12, 4.6340e-07, 1.0594e-14,\n",
       "         9.8491e-01, 7.0439e-12, 1.6920e-13, 1.2993e-06, 1.9061e-15, 4.7555e-18,\n",
       "         1.7214e-09, 1.8029e-07, 4.1836e-10, 1.5071e-02, 1.1837e-05, 3.8837e-06,\n",
       "         4.4668e-11, 5.9098e-13, 2.5047e-08],\n",
       "        [5.1434e-13, 1.2422e-10, 1.7118e-15, 6.3464e-12, 4.4337e-15, 4.9307e-10,\n",
       "         1.3485e-07, 7.1159e-12, 9.6033e-01, 3.7319e-13, 2.6253e-10, 1.6040e-11,\n",
       "         3.9664e-02, 6.1844e-08, 4.3882e-09, 1.2389e-06, 9.2654e-16, 2.4549e-10,\n",
       "         3.1469e-16, 1.8547e-08, 2.0497e-09, 1.2669e-12, 2.3308e-11, 5.2520e-11,\n",
       "         1.4839e-10, 5.6938e-22, 5.7579e-09]])"
      ]
     },
     "execution_count": 47,
     "metadata": {},
     "output_type": "execute_result"
    }
   ],
   "source": [
    "prob"
   ]
  },
  {
   "cell_type": "code",
   "execution_count": 48,
   "id": "cd21e01b-7782-4005-a3ed-d9438ea4c772",
   "metadata": {},
   "outputs": [
    {
     "data": {
      "text/plain": [
       "tensor([ 5, 13, 13,  1,  0, 15, 12,  9, 22,  9,  1,  0,  1, 22,  1,  0,  9, 19,\n",
       "         1,  2,  5, 12, 12,  1,  0, 19, 15, 16,  8,  9,  1,  0])"
      ]
     },
     "execution_count": 48,
     "metadata": {},
     "output_type": "execute_result"
    }
   ],
   "source": [
    "Y # letter comes next"
   ]
  },
  {
   "cell_type": "code",
   "execution_count": 49,
   "id": "02e520b6-188a-4da9-8365-3a9bab7a3969",
   "metadata": {},
   "outputs": [
    {
     "data": {
      "text/plain": [
       "tensor([3.1760e-03, 1.9733e-09, 1.8063e-01, 1.1059e-04, 4.1161e-07, 7.9672e-08,\n",
       "        1.4766e-05, 5.2008e-03, 4.5017e-05, 1.4693e-01, 1.4798e-09, 2.2431e-02,\n",
       "        3.1284e-12, 9.1380e-09, 1.3366e-04, 5.1257e-07, 6.3201e-01, 5.3672e-09,\n",
       "        2.3921e-08, 2.1372e-08, 3.8263e-03, 2.0250e-03, 1.2285e-07, 2.1621e-05,\n",
       "        2.1413e-11, 3.4483e-03, 1.3795e-12])"
      ]
     },
     "execution_count": 49,
     "metadata": {},
     "output_type": "execute_result"
    }
   ],
   "source": [
    "prob[0]"
   ]
  },
  {
   "cell_type": "code",
   "execution_count": 50,
   "id": "400f25ed-997e-4ac8-bdfb-2c5c0fe1c090",
   "metadata": {},
   "outputs": [
    {
     "data": {
      "text/plain": [
       "tensor(True)"
      ]
     },
     "execution_count": 50,
     "metadata": {},
     "output_type": "execute_result"
    }
   ],
   "source": [
    "prob[0,4]==prob[0][4]"
   ]
  },
  {
   "cell_type": "code",
   "execution_count": 51,
   "id": "ff5ca031-6020-42fc-86d7-b46957b7bc07",
   "metadata": {},
   "outputs": [
    {
     "data": {
      "text/plain": [
       "tensor([[3.1760e-03, 1.9733e-09, 1.8063e-01, 1.1059e-04, 4.1161e-07, 7.9672e-08,\n",
       "         1.4766e-05, 5.2008e-03, 4.5017e-05, 1.4693e-01, 1.4798e-09, 2.2431e-02,\n",
       "         3.1284e-12, 9.1380e-09, 1.3366e-04, 5.1257e-07, 6.3201e-01, 5.3672e-09,\n",
       "         2.3921e-08, 2.1372e-08, 3.8263e-03, 2.0250e-03, 1.2285e-07, 2.1621e-05,\n",
       "         2.1413e-11, 3.4483e-03, 1.3795e-12],\n",
       "        [1.3688e-07, 3.9553e-10, 2.4921e-08, 2.7213e-07, 1.1652e-11, 3.8321e-05,\n",
       "         6.0843e-07, 8.0254e-05, 2.0690e-03, 8.8815e-01, 9.1694e-08, 2.6239e-02,\n",
       "         8.8092e-04, 6.1176e-02, 1.1087e-02, 1.6014e-08, 8.1604e-04, 4.4037e-09,\n",
       "         9.3797e-10, 7.8447e-09, 1.8491e-03, 1.2196e-04, 7.4855e-03, 6.7705e-09,\n",
       "         1.2756e-06, 4.8107e-07, 5.3716e-11]])"
      ]
     },
     "execution_count": 51,
     "metadata": {},
     "output_type": "execute_result"
    }
   ],
   "source": [
    "prob[[0,1]]"
   ]
  },
  {
   "cell_type": "code",
   "execution_count": 52,
   "id": "0d0d319f-a476-4680-9645-7bce4e84afc3",
   "metadata": {},
   "outputs": [
    {
     "data": {
      "text/plain": [
       "tensor([3.1760e-03, 1.9733e-09, 1.8063e-01, 1.1059e-04, 4.1161e-07, 7.9672e-08,\n",
       "        1.4766e-05, 5.2008e-03, 4.5017e-05, 1.4693e-01, 1.4798e-09, 2.2431e-02,\n",
       "        3.1284e-12, 9.1380e-09, 1.3366e-04, 5.1257e-07, 6.3201e-01, 5.3672e-09,\n",
       "        2.3921e-08, 2.1372e-08, 3.8263e-03, 2.0250e-03, 1.2285e-07, 2.1621e-05,\n",
       "        2.1413e-11, 3.4483e-03, 1.3795e-12])"
      ]
     },
     "execution_count": 52,
     "metadata": {},
     "output_type": "execute_result"
    }
   ],
   "source": [
    "prob[5]"
   ]
  },
  {
   "cell_type": "code",
   "execution_count": 53,
   "id": "bd60f976-95bd-4fdf-bfb7-e403c1899f7a",
   "metadata": {},
   "outputs": [
    {
     "data": {
      "text/plain": [
       "tensor([7.9672e-08])"
      ]
     },
     "execution_count": 53,
     "metadata": {},
     "output_type": "execute_result"
    }
   ],
   "source": [
    "prob[[0],[5]] # it shows that the probability of having `e` after `.` is 4.9232e-09 but we know that based on Y it has to be 1!"
   ]
  },
  {
   "cell_type": "code",
   "execution_count": 128,
   "id": "1ccfc9d2-151d-498e-b85e-ce012e1e1766",
   "metadata": {},
   "outputs": [
    {
     "data": {
      "text/plain": [
       "tensor([4.9232e-09, 1.5711e-05])"
      ]
     },
     "execution_count": 128,
     "metadata": {},
     "output_type": "execute_result"
    }
   ],
   "source": [
    "prob[[0,1],[5,13]] # 0->5 , 1 ->13"
   ]
  },
  {
   "cell_type": "markdown",
   "id": "e18f1e5a-bde8-4f3f-bcfb-6d4dd99f7058",
   "metadata": {},
   "source": [
    "**The following tensor shows each letter that we predected by Y as the correct result by the probability of their occuring so we expected all of them be 1, so the model we have here predicted most of them incorrectly. Since the model is not trained yet.**"
   ]
  },
  {
   "cell_type": "code",
   "execution_count": 54,
   "id": "8507d3e8-ffee-4b86-8ab3-ec9536337c58",
   "metadata": {},
   "outputs": [
    {
     "data": {
      "text/plain": [
       "tensor([7.9672e-08, 6.1176e-02, 3.2683e-12, 2.1373e-07, 2.0885e-02, 5.1257e-07,\n",
       "        1.1678e-05, 6.4762e-06, 5.3522e-04, 8.2240e-15, 5.8029e-10, 6.7170e-17,\n",
       "        1.9733e-09, 8.0640e-09, 1.1845e-11, 3.5957e-22, 1.4693e-01, 1.1058e-09,\n",
       "        5.3033e-12, 1.5905e-08, 3.1611e-10, 1.4176e-06, 1.0000e+00, 3.3663e-14,\n",
       "        1.7272e-15, 2.1372e-08, 7.1260e-09, 7.7569e-04, 5.3232e-12, 5.3867e-12,\n",
       "        3.4336e-11, 5.1434e-13])"
      ]
     },
     "execution_count": 54,
     "metadata": {},
     "output_type": "execute_result"
    }
   ],
   "source": [
    "# indexing the rows of prob to the correct character\n",
    "prob[torch.arange(32),Y]"
   ]
  },
  {
   "cell_type": "code",
   "execution_count": 55,
   "id": "569e86bd-c575-48cf-a8e1-aefff5de27c6",
   "metadata": {},
   "outputs": [
    {
     "data": {
      "text/plain": [
       "tensor(19.6558)"
      ]
     },
     "execution_count": 55,
     "metadata": {},
     "output_type": "execute_result"
    }
   ],
   "source": [
    "loss = -prob[torch.arange(32),Y].log().mean()\n",
    "loss # we wanna minimize the loss"
   ]
  },
  {
   "cell_type": "markdown",
   "id": "cd231841-d510-4c1e-b1d6-7f5eec94b23a",
   "metadata": {},
   "source": [
    "## **__________ now made respectable :) ________**"
   ]
  },
  {
   "cell_type": "code",
   "execution_count": 56,
   "id": "87233e0b-1fac-47e8-8378-da4183e87bcd",
   "metadata": {},
   "outputs": [
    {
     "data": {
      "text/plain": [
       "(torch.Size([32, 3]), torch.Size([32]))"
      ]
     },
     "execution_count": 56,
     "metadata": {},
     "output_type": "execute_result"
    }
   ],
   "source": [
    "X.shape , Y.shape #dataset"
   ]
  },
  {
   "cell_type": "code",
   "execution_count": 58,
   "id": "3a2e7596-5f40-4e04-a665-1462e2dc641e",
   "metadata": {},
   "outputs": [],
   "source": [
    "# all the parameters we have\n",
    "g= torch.Generator().manual_seed(12334) # for reproduciblity\n",
    "C= torch.randn((27,2), generator=g)\n",
    "W1= torch.randn((6,100), generator=g)\n",
    "b1= torch.randn((1,100), generator=g)\n",
    "W2= torch.randn((100,27), generator=g)\n",
    "b2= torch.randn((1,27), generator=g)\n",
    "parameters = [C,W1,b1,W2,b2] #cluster all parameters into the single parameter"
   ]
  },
  {
   "cell_type": "code",
   "execution_count": 63,
   "id": "c1fdf47d-e6d3-42a0-b214-4a82ee8e0798",
   "metadata": {},
   "outputs": [
    {
     "data": {
      "text/plain": [
       "([54, 600, 100, 2700, 27], 3481)"
      ]
     },
     "execution_count": 63,
     "metadata": {},
     "output_type": "execute_result"
    }
   ],
   "source": [
    "s = [p.nelement() for p in parameters]\n",
    "s, sum(s) # number of parameters in total"
   ]
  },
  {
   "cell_type": "code",
   "execution_count": 65,
   "id": "a42ce941-77bf-4332-ade0-5277ccfb3783",
   "metadata": {},
   "outputs": [],
   "source": [
    "for p in parameters:\n",
    "    p.requires_grad=True"
   ]
  },
  {
   "cell_type": "code",
   "execution_count": 66,
   "id": "2a4975ea-88f9-4622-b189-62de794ef0f1",
   "metadata": {},
   "outputs": [
    {
     "data": {
      "text/plain": [
       "tensor(16.8210, grad_fn=<NegBackward0>)"
      ]
     },
     "execution_count": 66,
     "metadata": {},
     "output_type": "execute_result"
    }
   ],
   "source": [
    "emb = C[X] #(32,3,2)\n",
    "h = torch.tanh(emb.view(-1,6)@W1+b1) # (32,100)\n",
    "logits = h@W2+b2 #(32,27)\n",
    "counts = logits.exp()\n",
    "prob = counts/counts.sum(1,keepdims=True)\n",
    "loss = -prob[torch.arange(32),Y].log().mean()\n",
    "loss"
   ]
  },
  {
   "cell_type": "markdown",
   "id": "260cfab9-4a16-45cc-ba4a-64190f10a7a3",
   "metadata": {},
   "source": [
    "counts = logits.exp()\n",
    "\n",
    "prob = counts/counts.sum(1,keepdims=True)\n",
    "\n",
    "loss = -prob[torch.arange(32),Y].log().mean()\n",
    "\n",
    "this is a classification and the Torch has the code for it that eaxctly do it for us by `Torch.nn.functional.cross_entropy`"
   ]
  },
  {
   "cell_type": "code",
   "execution_count": 67,
   "id": "ccef2e54-b053-4ede-9bd8-8223879ba911",
   "metadata": {},
   "outputs": [
    {
     "data": {
      "text/plain": [
       "tensor(16.8210, grad_fn=<NllLossBackward0>)"
      ]
     },
     "execution_count": 67,
     "metadata": {},
     "output_type": "execute_result"
    }
   ],
   "source": [
    "F.cross_entropy(logits,Y)"
   ]
  },
  {
   "cell_type": "code",
   "execution_count": 68,
   "id": "eae2d0a2-1c8f-4451-80c4-78e78e924431",
   "metadata": {},
   "outputs": [
    {
     "data": {
      "text/plain": [
       "tensor(16.8210, grad_fn=<NegBackward0>)"
      ]
     },
     "execution_count": 68,
     "metadata": {},
     "output_type": "execute_result"
    }
   ],
   "source": [
    "emb = C[X] #(32,3,2)\n",
    "h = torch.tanh(emb.view(-1,6)@W1+b1) # (32,100)\n",
    "logits = h@W2+b2 #(32,27)\n",
    "# you never use these in the practice:\n",
    "    # counts = logits.exp()\n",
    "    # prob = counts/counts.sum(1,keepdims=True)\n",
    "    # loss = -prob[torch.arange(32),Y].log().mean()\n",
    "F.cross_entropy(logits,Y) # nomerically well-behaived\n",
    "loss"
   ]
  },
  {
   "cell_type": "code",
   "execution_count": 71,
   "id": "96aba52e-2bba-4788-aa6f-c8b2563b02ef",
   "metadata": {},
   "outputs": [
    {
     "data": {
      "text/plain": [
       "tensor([0., 0., 0., nan])"
      ]
     },
     "execution_count": 71,
     "metadata": {},
     "output_type": "execute_result"
    }
   ],
   "source": [
    "logits = torch.tensor([-100,-3,0,100])\n",
    "counts = logits.exp()\n",
    "prob = counts/counts.sum()\n",
    "prob"
   ]
  },
  {
   "cell_type": "markdown",
   "id": "3f44c461-7208-44dc-b434-6129e576ffe3",
   "metadata": {},
   "source": [
    "* $e^{100}$ exceeds the range of floating numbers that represents these counts. "
   ]
  },
  {
   "cell_type": "code",
   "execution_count": 72,
   "id": "da4e6473-bbd0-43c0-ae7c-45ffa61590ed",
   "metadata": {},
   "outputs": [
    {
     "data": {
      "text/plain": [
       "tensor([3.7835e-44, 4.9787e-02, 1.0000e+00,        inf])"
      ]
     },
     "execution_count": 72,
     "metadata": {},
     "output_type": "execute_result"
    }
   ],
   "source": [
    "counts"
   ]
  },
  {
   "cell_type": "code",
   "execution_count": 75,
   "id": "fcef3e8b-0a3b-4150-bcc1-0de3be73c395",
   "metadata": {},
   "outputs": [
    {
     "data": {
      "text/plain": [
       "tensor([4.5079e-05, 3.3309e-04, 6.6903e-03, 9.9293e-01])"
      ]
     },
     "execution_count": 75,
     "metadata": {},
     "output_type": "execute_result"
    }
   ],
   "source": [
    "logits = torch.tensor([-5,-3,0,5])-5 #pytorch subtracts the maximum number among the list for avoiding exceeding here. so the result always is well behaived.\n",
    "counts = logits.exp()\n",
    "prob = counts/counts.sum()\n",
    "prob"
   ]
  },
  {
   "cell_type": "code",
   "execution_count": 73,
   "id": "6155726c-3fe0-4df1-8126-e9168fbbdf5d",
   "metadata": {},
   "outputs": [
    {
     "data": {
      "text/plain": [
       "tensor([-10,  -8,  -5,   0])"
      ]
     },
     "execution_count": 73,
     "metadata": {},
     "output_type": "execute_result"
    }
   ],
   "source": [
    "torch.tensor([-5,-3,0,5])-5"
   ]
  },
  {
   "cell_type": "code",
   "execution_count": 74,
   "id": "25586ac4-65f1-433d-bb07-2aff6eae4693",
   "metadata": {},
   "outputs": [
    {
     "data": {
      "text/plain": [
       "tensor([0.0000e+00, 1.4013e-45, 3.7835e-44, 1.0000e+00])"
      ]
     },
     "execution_count": 74,
     "metadata": {},
     "output_type": "execute_result"
    }
   ],
   "source": [
    "logits = torch.tensor([-5,-3,0,100])-100 #pytorch subtracts the maximum number among the list for avoiding exceeding here. so the result always is well behaived.\n",
    "counts = logits.exp()\n",
    "prob = counts/counts.sum()\n",
    "prob"
   ]
  },
  {
   "cell_type": "code",
   "execution_count": 76,
   "id": "bc86079e-a2bd-40f9-84a6-668bb7570e8f",
   "metadata": {},
   "outputs": [],
   "source": [
    "for p in parameters:\n",
    "    p.requires_grad=True"
   ]
  },
  {
   "cell_type": "code",
   "execution_count": 87,
   "id": "1e6dc355-545d-4a25-90e6-259981966d0f",
   "metadata": {},
   "outputs": [
    {
     "name": "stdout",
     "output_type": "stream",
     "text": [
      "0.2516723573207855\n"
     ]
    }
   ],
   "source": [
    "for _ in range(10000):\n",
    "    # forward pass\n",
    "    emb = C[X] #(32,3,2)\n",
    "    h = torch.tanh(emb.view(-1,6)@W1+b1) # (32,100)\n",
    "    logits = h@W2+b2 #(32,27)\n",
    "    loss=F.cross_entropy(logits,Y)\n",
    "    \n",
    "    # backward pass\n",
    "    for p in parameters:\n",
    "        p.grad=None\n",
    "    loss.backward()\n",
    "    #update\n",
    "    for p in parameters:\n",
    "        p.data+=-0.1*p.grad\n",
    "print(loss.item())   "
   ]
  },
  {
   "cell_type": "code",
   "execution_count": 89,
   "id": "0dd34efd-4859-4289-9f1f-59cf9d8f735c",
   "metadata": {},
   "outputs": [
    {
     "data": {
      "text/plain": [
       "torch.return_types.max(\n",
       "values=tensor([12.9207, 19.7838, 22.1181, 18.9055, 22.7463, 12.9207, 19.2737, 20.9887,\n",
       "        17.8313, 20.9696, 19.2616, 25.3386, 12.9207, 19.6398, 20.3132, 17.1604,\n",
       "        12.9207, 17.0108, 15.8610, 23.1430, 17.5907, 21.9696, 18.1543, 18.6300,\n",
       "        22.6435, 12.9207, 16.7426, 21.2332, 20.0786, 21.1209, 17.8790, 17.0443],\n",
       "       grad_fn=<MaxBackward0>),\n",
       "indices=tensor([ 9, 13, 13,  1,  0,  9, 12,  9, 22,  9,  1,  0,  9, 22,  1,  0,  9, 19,\n",
       "         1,  2,  5, 12, 12,  1,  0,  9, 15, 16,  8,  9,  1,  0]))"
      ]
     },
     "execution_count": 89,
     "metadata": {},
     "output_type": "execute_result"
    }
   ],
   "source": [
    "logits.max(1)"
   ]
  },
  {
   "cell_type": "code",
   "execution_count": 90,
   "id": "4b82101b-cdeb-4cbe-8d16-6258b0a6d676",
   "metadata": {},
   "outputs": [
    {
     "data": {
      "text/plain": [
       "tensor([ 5, 13, 13,  1,  0, 15, 12,  9, 22,  9,  1,  0,  1, 22,  1,  0,  9, 19,\n",
       "         1,  2,  5, 12, 12,  1,  0, 19, 15, 16,  8,  9,  1,  0])"
      ]
     },
     "execution_count": 90,
     "metadata": {},
     "output_type": "execute_result"
    }
   ],
   "source": [
    "Y"
   ]
  },
  {
   "cell_type": "markdown",
   "id": "ab46d610-9773-4bbb-851d-7409c85f056f",
   "metadata": {},
   "source": [
    "* we cannt reach to the zero loss since in the approach we have `...=e or ...=o, ...=s,etc`"
   ]
  },
  {
   "cell_type": "markdown",
   "id": "0dffaa5c-3565-4020-bb8f-5bba57f59e66",
   "metadata": {},
   "source": [
    "## NOW OPtimizing for whole set:"
   ]
  },
  {
   "cell_type": "code",
   "execution_count": 52,
   "id": "74550b54-15f8-4aac-a8fa-84c926f3bfe2",
   "metadata": {},
   "outputs": [],
   "source": [
    "block_size =3\n",
    "X,Y=[],[]\n",
    "for w in words:\n",
    "    #print(w)\n",
    "    context = [0]* block_size\n",
    "    for ch in w + '.':\n",
    "        ix= stoi[ch]\n",
    "        X.append(context)\n",
    "    #print(context)\n",
    "        Y.append(ix)\n",
    "        #print(''.join(itos[i] for i in context), '--->', itos[ix])\n",
    "        context = context[1:]+[ix] #crop and append\n",
    "X = torch.tensor(X)\n",
    "Y = torch.tensor(Y)"
   ]
  },
  {
   "cell_type": "code",
   "execution_count": 26,
   "id": "8009e7e6-926b-47cb-a686-7b59917e564b",
   "metadata": {},
   "outputs": [
    {
     "data": {
      "text/plain": [
       "(torch.Size([228146, 3]), torch.Size([228146]))"
      ]
     },
     "execution_count": 26,
     "metadata": {},
     "output_type": "execute_result"
    }
   ],
   "source": [
    "X.shape, Y.shape"
   ]
  },
  {
   "cell_type": "code",
   "execution_count": 27,
   "id": "6826fd78-2ff8-47fb-a8f1-ea08aff3e2b6",
   "metadata": {},
   "outputs": [],
   "source": [
    "#initialize the weights\n",
    "g= torch.Generator().manual_seed(12334) # for reproduciblity\n",
    "C= torch.randn((27,2), generator=g)\n",
    "W1= torch.randn((6,100), generator=g)\n",
    "b1= torch.randn((1,100), generator=g)\n",
    "W2= torch.randn((100,27), generator=g)\n",
    "b2= torch.randn((1,27), generator=g)\n",
    "parameters = [C,W1,b1,W2,b2]"
   ]
  },
  {
   "cell_type": "code",
   "execution_count": 28,
   "id": "dfc3e648-e07e-45de-853e-8e0f31d13f10",
   "metadata": {},
   "outputs": [],
   "source": [
    "for p in parameters:\n",
    "    p.requires_grad=True"
   ]
  },
  {
   "cell_type": "code",
   "execution_count": 44,
   "id": "91a2d000-27db-4c25-b956-a73acd58935b",
   "metadata": {},
   "outputs": [
    {
     "name": "stdout",
     "output_type": "stream",
     "text": [
      "3.4111199378967285\n",
      "3.4033892154693604\n",
      "3.395807981491089\n",
      "3.3883702754974365\n",
      "3.381070375442505\n",
      "3.3739025592803955\n",
      "3.3668620586395264\n",
      "3.3599445819854736\n",
      "3.3531453609466553\n",
      "3.3464603424072266\n"
     ]
    }
   ],
   "source": [
    "for _ in range(10):\n",
    "    # forward pass\n",
    "    emb = C[X] #(32,3,2)\n",
    "    h = torch.tanh(emb.view(-1,6)@W1+b1) # (32,100)\n",
    "    logits = h@W2+b2 #(32,27)\n",
    "    loss=F.cross_entropy(logits,Y)\n",
    "    print(loss.item())\n",
    "    # backward pass\n",
    "    for p in parameters:\n",
    "        p.grad=None #or zero in pytorch\n",
    "    loss.backward()\n",
    "    #update\n",
    "    for p in parameters:\n",
    "        p.data+=-0.1*p.grad"
   ]
  },
  {
   "cell_type": "code",
   "execution_count": 35,
   "id": "b8ef9d4b-2c86-4bc4-97d9-d890184eb6dc",
   "metadata": {},
   "outputs": [
    {
     "data": {
      "text/plain": [
       "torch.Size([228146, 27])"
      ]
     },
     "execution_count": 35,
     "metadata": {},
     "output_type": "execute_result"
    }
   ],
   "source": [
    "logits.shape"
   ]
  },
  {
   "cell_type": "code",
   "execution_count": 45,
   "id": "1d2c7a40-bb6e-466c-8737-a38d2771c398",
   "metadata": {},
   "outputs": [
    {
     "data": {
      "text/plain": [
       "torch.return_types.max(\n",
       "values=tensor([2.9040, 3.0228, 3.6147,  ..., 8.7467, 8.4471, 8.6514],\n",
       "       grad_fn=<MaxBackward0>),\n",
       "indices=tensor([1, 1, 1,  ..., 0, 0, 1]))"
      ]
     },
     "execution_count": 45,
     "metadata": {},
     "output_type": "execute_result"
    }
   ],
   "source": [
    "logits.max(1)"
   ]
  },
  {
   "cell_type": "code",
   "execution_count": 46,
   "id": "599576e2-1714-4bf6-9623-15b0bef50bde",
   "metadata": {},
   "outputs": [
    {
     "data": {
      "text/plain": [
       "tensor([ 5, 13, 13,  ..., 26, 24,  0])"
      ]
     },
     "execution_count": 46,
     "metadata": {},
     "output_type": "execute_result"
    }
   ],
   "source": [
    "Y"
   ]
  },
  {
   "cell_type": "markdown",
   "id": "c1878f21-bf05-43b0-a369-126f9897f25c",
   "metadata": {},
   "source": [
    "**Since it takes time, we work on minibatches and perform the forward and backward and update actions.so we randomly select portion of the data set that's and we can iterate on thoes many batches.**"
   ]
  },
  {
   "cell_type": "code",
   "execution_count": 76,
   "id": "9a4302b3-6b19-4880-ac1c-ff3317157224",
   "metadata": {},
   "outputs": [
    {
     "data": {
      "text/plain": [
       "tensor([ 72971,  38679,  60726, 108917, 184808,  93811, 172373,  22954, 201316,\n",
       "         93626, 199615, 116485, 104169, 156798, 112416, 177403, 225835,  26219,\n",
       "         27801, 160196, 157940, 198315, 120451,    859, 217090, 194053, 165287,\n",
       "         59470,  47508,  77205, 179349,  99754])"
      ]
     },
     "execution_count": 76,
     "metadata": {},
     "output_type": "execute_result"
    }
   ],
   "source": [
    "# size has to be tuple\n",
    "torch.randint(0,X.shape[0], (32,))"
   ]
  },
  {
   "cell_type": "markdown",
   "id": "c8623929-d325-4de9-839d-2a01cb720562",
   "metadata": {},
   "source": [
    "* minibatches makes decresing of logits much much faster!"
   ]
  },
  {
   "cell_type": "code",
   "execution_count": 70,
   "id": "719c3cbd-d4ec-433c-bb34-6065ab245994",
   "metadata": {},
   "outputs": [
    {
     "name": "stdout",
     "output_type": "stream",
     "text": [
      "3.2021284103393555\n"
     ]
    }
   ],
   "source": [
    "for _ in range(10):\n",
    "    \n",
    "    #minibatch construct\n",
    "    ix= torch.randint(0,X.shape[0],(32,))\n",
    "    \n",
    "    # forward pass\n",
    "    emb = C[X[ix]] #(32,3,2)\n",
    "    h = torch.tanh(emb.view(-1,6)@W1+b1) # (32,100)\n",
    "    logits = h@W2+b2 #(32,27)\n",
    "    loss=F.cross_entropy(logits,Y[ix])\n",
    "    \n",
    "    # backward pass\n",
    "    for p in parameters:\n",
    "        p.grad=None #or zero in pytorch\n",
    "    loss.backward()\n",
    "    \n",
    "    #update\n",
    "    for p in parameters:\n",
    "        p.data+=-0.1*p.grad\n",
    "        \n",
    "print(loss.item())"
   ]
  },
  {
   "cell_type": "code",
   "execution_count": 71,
   "id": "82a860b3-2c85-4314-a17f-49a7e52f3ae4",
   "metadata": {},
   "outputs": [
    {
     "data": {
      "text/plain": [
       "tensor(3.0403, grad_fn=<NllLossBackward0>)"
      ]
     },
     "execution_count": 71,
     "metadata": {},
     "output_type": "execute_result"
    }
   ],
   "source": [
    "emb = C[X] #(32,3,2)\n",
    "h = torch.tanh(emb.view(-1,6)@W1+b1) # (32,100)\n",
    "logits = h@W2+b2 #(32,27)\n",
    "loss=F.cross_entropy(logits,Y)\n",
    "loss"
   ]
  },
  {
   "cell_type": "markdown",
   "id": "0fea0a7a-741e-4259-afb5-6b73dbe4fde4",
   "metadata": {},
   "source": [
    "* so one thing is what is the best choice for learning rate?! by trial and error we found it has to be less than -1."
   ]
  },
  {
   "cell_type": "code",
   "execution_count": 79,
   "id": "8c1045a6-3135-4bc7-9519-4e30473ad0f5",
   "metadata": {},
   "outputs": [],
   "source": [
    "# here we make the learning rate:\n",
    "lre= torch.linspace(-3,0,1000) # make it exponentially steps\n",
    "lrs= 10**lre\n",
    "#lrs"
   ]
  },
  {
   "cell_type": "code",
   "execution_count": 87,
   "id": "b56bc0d4-ffe5-4df4-8a7c-2996ea78d4b6",
   "metadata": {},
   "outputs": [
    {
     "name": "stdout",
     "output_type": "stream",
     "text": [
      "5.399477005004883\n",
      "5.774101734161377\n",
      "5.396374702453613\n",
      "5.5680251121521\n",
      "4.920083522796631\n",
      "5.828105926513672\n",
      "6.948853015899658\n",
      "5.815500259399414\n",
      "6.546589374542236\n",
      "6.139606475830078\n",
      "6.71015739440918\n",
      "6.521139144897461\n",
      "6.719095230102539\n",
      "4.608071804046631\n",
      "7.033855438232422\n",
      "6.8033223152160645\n",
      "6.363722801208496\n",
      "5.965716361999512\n",
      "6.5427398681640625\n",
      "6.830123424530029\n",
      "5.083937168121338\n",
      "5.985177040100098\n",
      "6.19776725769043\n",
      "4.970402717590332\n",
      "5.64553689956665\n",
      "7.565552234649658\n",
      "4.887669086456299\n",
      "5.532834529876709\n",
      "5.327342510223389\n",
      "7.425037384033203\n",
      "6.89752721786499\n",
      "5.142755508422852\n",
      "3.676280975341797\n",
      "6.264171600341797\n",
      "5.9615254402160645\n",
      "5.2983503341674805\n",
      "5.004230976104736\n",
      "5.379586696624756\n",
      "5.775062084197998\n",
      "7.164085865020752\n",
      "5.38478422164917\n",
      "4.766231060028076\n",
      "5.868100643157959\n",
      "7.011292934417725\n",
      "6.282080173492432\n",
      "7.098669052124023\n",
      "6.196498394012451\n",
      "5.183821678161621\n",
      "5.199220180511475\n",
      "7.044157028198242\n",
      "6.482296943664551\n",
      "5.251165390014648\n",
      "5.827898979187012\n",
      "5.953136444091797\n",
      "5.414724826812744\n",
      "5.77277135848999\n",
      "6.195291519165039\n",
      "4.634977340698242\n",
      "6.252918720245361\n",
      "5.331165313720703\n",
      "5.055079936981201\n",
      "4.6755051612854\n",
      "5.360838890075684\n",
      "5.00568151473999\n",
      "6.008866786956787\n",
      "5.195172309875488\n",
      "7.007508754730225\n",
      "4.931759357452393\n",
      "6.396904468536377\n",
      "6.389496803283691\n",
      "5.559511661529541\n",
      "5.205513954162598\n",
      "5.418716907501221\n",
      "5.146677017211914\n",
      "5.956686019897461\n",
      "5.507801532745361\n",
      "5.989006996154785\n",
      "5.859699726104736\n",
      "6.173739433288574\n",
      "5.296296119689941\n",
      "5.102972984313965\n",
      "5.68061637878418\n",
      "5.213917255401611\n",
      "5.7080979347229\n",
      "4.450254440307617\n",
      "7.388998508453369\n",
      "6.209366321563721\n",
      "6.1974334716796875\n",
      "5.765260696411133\n",
      "5.236164093017578\n",
      "5.609493255615234\n",
      "6.339715480804443\n",
      "5.5734429359436035\n",
      "5.138978481292725\n",
      "5.663147449493408\n",
      "5.607321739196777\n",
      "6.285045623779297\n",
      "6.433587551116943\n",
      "4.858556270599365\n",
      "4.419865608215332\n",
      "5.708437919616699\n",
      "5.056894779205322\n",
      "6.138916015625\n",
      "5.510887145996094\n",
      "6.4832611083984375\n",
      "5.882732391357422\n",
      "5.910377502441406\n",
      "6.006155014038086\n",
      "6.45082950592041\n",
      "5.724542140960693\n",
      "5.495161533355713\n",
      "5.005433559417725\n",
      "4.735904693603516\n",
      "5.69977331161499\n",
      "4.554757118225098\n",
      "5.055713176727295\n",
      "5.101357460021973\n",
      "6.475705623626709\n",
      "4.932966709136963\n",
      "6.477206230163574\n",
      "5.787837982177734\n",
      "4.77477502822876\n",
      "5.934686660766602\n",
      "4.883078098297119\n",
      "5.2336015701293945\n",
      "4.746239185333252\n",
      "5.004005432128906\n",
      "6.403148651123047\n",
      "5.590473175048828\n",
      "5.437674522399902\n",
      "5.526832580566406\n",
      "5.850200176239014\n",
      "5.142486572265625\n",
      "5.651784896850586\n",
      "5.055637359619141\n",
      "5.55047607421875\n",
      "3.641305685043335\n",
      "4.803248405456543\n",
      "5.729391098022461\n",
      "5.724680423736572\n",
      "4.240730285644531\n",
      "5.555815696716309\n",
      "3.7769248485565186\n",
      "5.154013633728027\n",
      "5.069950103759766\n",
      "3.996786117553711\n",
      "5.894342422485352\n",
      "5.349119186401367\n",
      "4.325836181640625\n",
      "5.670812606811523\n",
      "5.2529072761535645\n",
      "4.865232944488525\n",
      "5.585432529449463\n",
      "5.172405242919922\n",
      "5.571066379547119\n",
      "6.1312737464904785\n",
      "4.810380458831787\n",
      "5.630764007568359\n",
      "5.288901329040527\n",
      "4.958738327026367\n",
      "4.883545875549316\n",
      "5.415783882141113\n",
      "4.706689834594727\n",
      "5.8814287185668945\n",
      "5.396862506866455\n",
      "5.267629623413086\n",
      "5.376657009124756\n",
      "5.204468250274658\n",
      "5.130677223205566\n",
      "4.25466775894165\n",
      "4.520289897918701\n",
      "4.087334632873535\n",
      "3.7571539878845215\n",
      "5.401535511016846\n",
      "4.489279747009277\n",
      "5.0344014167785645\n",
      "5.082906723022461\n",
      "5.072742938995361\n",
      "5.052594184875488\n",
      "4.6082844734191895\n",
      "5.455159664154053\n",
      "4.223583698272705\n",
      "4.368464946746826\n",
      "4.526676177978516\n",
      "4.425950050354004\n",
      "4.811835289001465\n",
      "5.550899028778076\n",
      "4.79642391204834\n",
      "5.3818182945251465\n",
      "4.828648090362549\n",
      "5.2197585105896\n",
      "5.208295822143555\n",
      "4.430145263671875\n",
      "4.552372455596924\n",
      "4.985346794128418\n",
      "4.104001045227051\n",
      "5.249960422515869\n",
      "4.903114318847656\n",
      "4.3254594802856445\n",
      "4.756327152252197\n",
      "4.786167621612549\n",
      "3.6518912315368652\n",
      "3.965319871902466\n",
      "5.74624490737915\n",
      "3.1122050285339355\n",
      "4.245143890380859\n",
      "5.646477699279785\n",
      "3.939980983734131\n",
      "5.574647426605225\n",
      "4.942443370819092\n",
      "5.426392078399658\n",
      "4.997042655944824\n",
      "3.9106686115264893\n",
      "4.74470329284668\n",
      "3.9352927207946777\n",
      "4.837083339691162\n",
      "4.691557884216309\n",
      "5.608658313751221\n",
      "3.837200164794922\n",
      "6.093430995941162\n",
      "4.283817768096924\n",
      "5.1650872230529785\n",
      "3.5305051803588867\n",
      "4.145252704620361\n",
      "4.902887344360352\n",
      "4.266042709350586\n",
      "4.601003170013428\n",
      "4.6037726402282715\n",
      "5.219505310058594\n",
      "4.273199081420898\n",
      "4.027257442474365\n",
      "3.9307589530944824\n",
      "3.7218382358551025\n",
      "4.864696025848389\n",
      "4.366370677947998\n",
      "4.658717632293701\n",
      "4.548604488372803\n",
      "4.766888618469238\n",
      "3.2220919132232666\n",
      "4.284905433654785\n",
      "3.6454098224639893\n",
      "5.056349277496338\n",
      "5.023603916168213\n",
      "5.55043888092041\n",
      "4.744389533996582\n",
      "5.254593372344971\n",
      "3.8123602867126465\n",
      "4.082385540008545\n",
      "5.302055835723877\n",
      "4.227705001831055\n",
      "3.5553061962127686\n",
      "4.963842391967773\n",
      "4.989306926727295\n",
      "3.5206446647644043\n",
      "4.275217533111572\n",
      "4.015999794006348\n",
      "3.9036567211151123\n",
      "4.497806072235107\n",
      "4.175186634063721\n",
      "2.956822156906128\n",
      "4.349024772644043\n",
      "4.874331951141357\n",
      "4.831315517425537\n",
      "4.298666954040527\n",
      "4.1050944328308105\n",
      "3.622272491455078\n",
      "4.034034729003906\n",
      "4.654391765594482\n",
      "4.773422718048096\n",
      "4.723635196685791\n",
      "4.04409646987915\n",
      "4.405667781829834\n",
      "4.799274444580078\n",
      "4.551102638244629\n",
      "4.095607757568359\n",
      "4.369265556335449\n",
      "5.114239692687988\n",
      "3.171391725540161\n",
      "4.000061988830566\n",
      "4.036200046539307\n",
      "3.6573879718780518\n",
      "4.508545398712158\n",
      "3.9507527351379395\n",
      "5.450675964355469\n",
      "3.3933074474334717\n",
      "3.8673479557037354\n",
      "5.134239196777344\n",
      "4.501287460327148\n",
      "3.487828254699707\n",
      "3.440525531768799\n",
      "4.67874813079834\n",
      "3.523037910461426\n",
      "3.514312744140625\n",
      "4.148869514465332\n",
      "5.111166000366211\n",
      "4.410918235778809\n",
      "3.12304425239563\n",
      "3.2608861923217773\n",
      "4.413318634033203\n",
      "3.565645933151245\n",
      "3.1309659481048584\n",
      "3.880110263824463\n",
      "4.879817485809326\n",
      "4.113012313842773\n",
      "3.7314887046813965\n",
      "4.192929744720459\n",
      "3.5348777770996094\n",
      "4.124098777770996\n",
      "5.228208065032959\n",
      "3.7377893924713135\n",
      "4.2234978675842285\n",
      "3.751307725906372\n",
      "3.4499213695526123\n",
      "4.257274150848389\n",
      "4.284414291381836\n",
      "3.953327178955078\n",
      "4.140515327453613\n",
      "3.4077956676483154\n",
      "3.1812915802001953\n",
      "3.5516464710235596\n",
      "3.5408082008361816\n",
      "3.8826239109039307\n",
      "4.41646671295166\n",
      "4.281650543212891\n",
      "3.3427858352661133\n",
      "4.721957206726074\n",
      "5.400217056274414\n",
      "4.228338241577148\n",
      "3.76332950592041\n",
      "3.5920307636260986\n",
      "4.042502403259277\n",
      "3.1702535152435303\n",
      "2.5524699687957764\n",
      "3.497504472732544\n",
      "3.3334031105041504\n",
      "4.3835601806640625\n",
      "4.039168357849121\n",
      "3.2594470977783203\n",
      "4.201606273651123\n",
      "4.207787990570068\n",
      "3.509911060333252\n",
      "3.4600772857666016\n",
      "4.26400899887085\n",
      "4.471921443939209\n",
      "3.2774040699005127\n",
      "4.089566707611084\n",
      "3.9739623069763184\n",
      "3.9855258464813232\n",
      "5.066273212432861\n",
      "2.876981496810913\n",
      "3.3215160369873047\n",
      "3.123957633972168\n",
      "3.469367504119873\n",
      "3.224546432495117\n",
      "3.107499361038208\n",
      "2.9876511096954346\n",
      "2.8039629459381104\n",
      "3.667117118835449\n",
      "2.8682773113250732\n",
      "3.0953991413116455\n",
      "3.00529146194458\n",
      "4.16139554977417\n",
      "4.106317043304443\n",
      "3.992701292037964\n",
      "4.363341331481934\n",
      "3.592369318008423\n",
      "4.00015926361084\n",
      "3.129220724105835\n",
      "3.6977009773254395\n",
      "2.6655468940734863\n",
      "4.236187934875488\n",
      "3.9317798614501953\n",
      "3.697903871536255\n",
      "3.576047420501709\n",
      "3.533947467803955\n",
      "3.723482370376587\n",
      "4.519377708435059\n",
      "3.8433303833007812\n",
      "2.7754065990448\n",
      "4.032895088195801\n",
      "3.892814874649048\n",
      "3.6291472911834717\n",
      "3.171882390975952\n",
      "3.1903562545776367\n",
      "3.569645881652832\n",
      "3.5695114135742188\n",
      "3.4429495334625244\n",
      "3.5310356616973877\n",
      "3.1551051139831543\n",
      "4.041763782501221\n",
      "3.3384499549865723\n",
      "3.6913139820098877\n",
      "3.223273515701294\n",
      "3.42561674118042\n",
      "3.868349313735962\n",
      "3.526759147644043\n",
      "3.387777090072632\n",
      "3.7695891857147217\n",
      "3.2389724254608154\n",
      "2.3740603923797607\n",
      "3.075944423675537\n",
      "3.7719736099243164\n",
      "3.44734263420105\n",
      "2.604748249053955\n",
      "4.338308811187744\n",
      "3.7440624237060547\n",
      "3.5349152088165283\n",
      "3.904867172241211\n",
      "3.417274236679077\n",
      "3.3324615955352783\n",
      "3.116997241973877\n",
      "3.404020309448242\n",
      "3.236377000808716\n",
      "3.341632604598999\n",
      "3.915355682373047\n",
      "3.069035530090332\n",
      "3.367544174194336\n",
      "3.140448570251465\n",
      "3.012132167816162\n",
      "2.6898226737976074\n",
      "3.908742666244507\n",
      "3.317736864089966\n",
      "4.295713901519775\n",
      "2.918105363845825\n",
      "3.4952316284179688\n",
      "4.012303829193115\n",
      "2.503098249435425\n",
      "3.454148292541504\n",
      "3.6283345222473145\n",
      "3.0465080738067627\n",
      "2.886650323867798\n",
      "2.8828351497650146\n",
      "2.9548702239990234\n",
      "3.098660707473755\n",
      "2.7592556476593018\n",
      "3.591245651245117\n",
      "3.075615882873535\n",
      "3.5563368797302246\n",
      "3.2665581703186035\n",
      "3.955669641494751\n",
      "3.2702958583831787\n",
      "2.507918119430542\n",
      "2.6817073822021484\n",
      "3.3764617443084717\n",
      "3.0645411014556885\n",
      "3.413724422454834\n",
      "3.066941499710083\n",
      "2.397339105606079\n",
      "2.7833409309387207\n",
      "2.9948618412017822\n",
      "3.32904314994812\n",
      "3.454559326171875\n",
      "3.7367353439331055\n",
      "3.029676914215088\n",
      "3.211751699447632\n",
      "3.872541904449463\n",
      "3.0250794887542725\n",
      "2.9911434650421143\n",
      "3.235044240951538\n",
      "3.273387908935547\n",
      "3.6121151447296143\n",
      "2.731112480163574\n",
      "2.991522789001465\n",
      "2.972809076309204\n",
      "3.083721160888672\n",
      "3.350717782974243\n",
      "3.3606600761413574\n",
      "3.0568363666534424\n",
      "2.460347890853882\n",
      "3.3957624435424805\n",
      "2.853147268295288\n",
      "2.980344533920288\n",
      "3.1346890926361084\n",
      "3.2519891262054443\n",
      "3.1707983016967773\n",
      "3.4095680713653564\n",
      "3.0765833854675293\n",
      "3.189868450164795\n",
      "3.14420747756958\n",
      "3.495352029800415\n",
      "2.61043381690979\n",
      "2.9471538066864014\n",
      "3.0722713470458984\n",
      "3.1687400341033936\n",
      "2.887928009033203\n",
      "3.2746965885162354\n",
      "3.225297689437866\n",
      "3.000241756439209\n",
      "3.162442684173584\n",
      "3.1210997104644775\n",
      "3.429872512817383\n",
      "3.5392935276031494\n",
      "3.1045024394989014\n",
      "3.3858399391174316\n",
      "3.1138858795166016\n",
      "3.0995419025421143\n",
      "2.812669038772583\n",
      "2.8456382751464844\n",
      "3.2138962745666504\n",
      "2.63564133644104\n",
      "3.2430145740509033\n",
      "3.1617350578308105\n",
      "3.2520272731781006\n",
      "2.819192409515381\n",
      "3.4531357288360596\n",
      "2.776217222213745\n",
      "2.9733567237854004\n",
      "3.2583417892456055\n",
      "3.044358968734741\n",
      "2.54862117767334\n",
      "3.5106043815612793\n",
      "3.1834123134613037\n",
      "2.8977296352386475\n",
      "3.01279616355896\n",
      "2.8319525718688965\n",
      "2.636798143386841\n",
      "2.6379506587982178\n",
      "2.90374493598938\n",
      "3.391130208969116\n",
      "2.85127592086792\n",
      "2.6143879890441895\n",
      "3.208984136581421\n",
      "3.260957956314087\n",
      "2.5215513706207275\n",
      "2.7818665504455566\n",
      "3.139770269393921\n",
      "3.0334346294403076\n",
      "2.9569358825683594\n",
      "3.1458728313446045\n",
      "2.2231528759002686\n",
      "2.972720146179199\n",
      "2.4061312675476074\n",
      "2.6622488498687744\n",
      "3.1565160751342773\n",
      "2.630587339401245\n",
      "2.8213415145874023\n",
      "2.3401074409484863\n",
      "2.596255302429199\n",
      "2.568377733230591\n",
      "2.992663860321045\n",
      "3.005389451980591\n",
      "2.7436466217041016\n",
      "2.965207576751709\n",
      "2.1764259338378906\n",
      "3.621774673461914\n",
      "3.4554848670959473\n",
      "3.090087890625\n",
      "2.9876413345336914\n",
      "2.532977342605591\n",
      "2.649458169937134\n",
      "3.160569429397583\n",
      "2.6565041542053223\n",
      "2.4507007598876953\n",
      "2.5792508125305176\n",
      "2.974605083465576\n",
      "2.6533195972442627\n",
      "3.123380184173584\n",
      "3.388305187225342\n",
      "2.6547691822052\n",
      "2.7832469940185547\n",
      "2.8178420066833496\n",
      "3.5109949111938477\n",
      "2.9589180946350098\n",
      "2.466787338256836\n",
      "2.941333770751953\n",
      "2.9350197315216064\n",
      "2.5831499099731445\n",
      "2.8284101486206055\n",
      "3.209003210067749\n",
      "2.5452818870544434\n",
      "2.291539192199707\n",
      "3.1353163719177246\n",
      "2.250012159347534\n",
      "2.681344747543335\n",
      "2.7026474475860596\n",
      "2.784944534301758\n",
      "2.247220039367676\n",
      "2.4563472270965576\n",
      "3.079089879989624\n",
      "3.389751434326172\n",
      "2.483604669570923\n",
      "3.0075831413269043\n",
      "3.090864658355713\n",
      "2.7995858192443848\n",
      "2.154956340789795\n",
      "2.642047643661499\n",
      "2.541151285171509\n",
      "2.2485666275024414\n",
      "3.1904501914978027\n",
      "2.587310552597046\n",
      "2.9231252670288086\n",
      "2.764578104019165\n",
      "3.126204252243042\n",
      "2.602381706237793\n",
      "3.138824462890625\n",
      "3.2266125679016113\n",
      "2.7751641273498535\n",
      "2.9068241119384766\n",
      "2.7641501426696777\n",
      "3.2328743934631348\n",
      "2.5121469497680664\n",
      "2.2762832641601562\n",
      "2.638765811920166\n",
      "2.1092495918273926\n",
      "2.9863076210021973\n",
      "2.4773895740509033\n",
      "2.814070701599121\n",
      "2.6676547527313232\n",
      "2.8046135902404785\n",
      "3.1733226776123047\n",
      "2.647549867630005\n",
      "3.2332913875579834\n",
      "2.4036004543304443\n",
      "3.0293924808502197\n",
      "2.6947720050811768\n",
      "2.7527523040771484\n",
      "3.081408739089966\n",
      "2.390375852584839\n",
      "2.361870765686035\n",
      "2.102534770965576\n",
      "2.3149640560150146\n",
      "2.8953335285186768\n",
      "2.6581614017486572\n",
      "2.823554277420044\n",
      "2.715522050857544\n",
      "2.7704319953918457\n",
      "2.726109266281128\n",
      "2.5000720024108887\n",
      "2.639695167541504\n",
      "2.1636149883270264\n",
      "2.7785468101501465\n",
      "2.267242908477783\n",
      "2.470259428024292\n",
      "2.5354506969451904\n",
      "2.507107734680176\n",
      "2.787919282913208\n",
      "3.1514101028442383\n",
      "2.9273617267608643\n",
      "2.725966453552246\n",
      "2.3849635124206543\n",
      "2.6016690731048584\n",
      "2.9752674102783203\n",
      "2.3585567474365234\n",
      "2.303840398788452\n",
      "2.3563952445983887\n",
      "3.0872156620025635\n",
      "2.980393648147583\n",
      "3.0692391395568848\n",
      "2.4575984477996826\n",
      "2.8980746269226074\n",
      "2.9456729888916016\n",
      "2.626643419265747\n",
      "2.7300093173980713\n",
      "2.6977033615112305\n",
      "3.231555223464966\n",
      "2.4468865394592285\n",
      "2.627938747406006\n",
      "2.7412004470825195\n",
      "2.570746421813965\n",
      "2.3327925205230713\n",
      "2.535144329071045\n",
      "2.494162082672119\n",
      "2.594871997833252\n",
      "2.7966065406799316\n",
      "2.9973604679107666\n",
      "2.406766414642334\n",
      "2.6146953105926514\n",
      "2.6047770977020264\n",
      "3.0036094188690186\n",
      "2.755146026611328\n",
      "3.019882917404175\n",
      "2.4665310382843018\n",
      "2.516530990600586\n",
      "2.751150369644165\n",
      "2.816981792449951\n",
      "2.5655837059020996\n",
      "2.6834945678710938\n",
      "2.5126333236694336\n",
      "2.522566795349121\n",
      "2.733330488204956\n",
      "2.7326979637145996\n",
      "2.639589309692383\n",
      "2.8181405067443848\n",
      "3.1116580963134766\n",
      "2.5170037746429443\n",
      "2.6017298698425293\n",
      "2.776336431503296\n",
      "2.5332980155944824\n",
      "3.00076961517334\n",
      "2.620260238647461\n",
      "2.4502453804016113\n",
      "2.4973654747009277\n",
      "3.0323715209960938\n",
      "2.5526835918426514\n",
      "2.168992280960083\n",
      "2.5836801528930664\n",
      "2.2241954803466797\n",
      "2.52864670753479\n",
      "3.0044450759887695\n",
      "2.71919846534729\n",
      "2.299405574798584\n",
      "2.540526866912842\n",
      "2.984165668487549\n",
      "2.7706921100616455\n",
      "3.117920160293579\n",
      "2.5158588886260986\n",
      "2.7398667335510254\n",
      "2.6509764194488525\n",
      "2.6870458126068115\n",
      "2.499051570892334\n",
      "2.70242977142334\n",
      "2.6021625995635986\n",
      "2.703495740890503\n",
      "2.3504276275634766\n",
      "2.5328783988952637\n",
      "2.563052177429199\n",
      "2.447155714035034\n",
      "2.6593496799468994\n",
      "2.8281657695770264\n",
      "2.3633902072906494\n",
      "2.89806866645813\n",
      "2.89717960357666\n",
      "2.646355628967285\n",
      "2.5165722370147705\n",
      "2.263258695602417\n",
      "2.4998326301574707\n",
      "2.739086389541626\n",
      "2.6811411380767822\n",
      "2.635902166366577\n",
      "3.0225605964660645\n",
      "2.924203395843506\n",
      "2.378206729888916\n",
      "2.7887654304504395\n",
      "2.6541240215301514\n",
      "2.755608320236206\n",
      "2.785783290863037\n",
      "2.5441975593566895\n",
      "2.5274014472961426\n",
      "2.8665964603424072\n",
      "2.8648691177368164\n",
      "2.4814915657043457\n",
      "2.2825613021850586\n",
      "2.2701163291931152\n",
      "2.9768855571746826\n",
      "2.853565216064453\n",
      "2.492368221282959\n",
      "2.82167911529541\n",
      "2.7375407218933105\n",
      "2.4574456214904785\n",
      "2.6539387702941895\n",
      "2.6382529735565186\n",
      "2.5655956268310547\n",
      "2.938815116882324\n",
      "2.7256979942321777\n",
      "2.4990012645721436\n",
      "2.935807228088379\n",
      "2.2340965270996094\n",
      "2.9997780323028564\n",
      "2.555447578430176\n",
      "3.1772286891937256\n",
      "2.293548345565796\n",
      "3.05021071434021\n",
      "2.3251819610595703\n",
      "2.556002616882324\n",
      "2.481339931488037\n",
      "3.184427499771118\n",
      "2.780836582183838\n",
      "2.967047929763794\n",
      "2.57381010055542\n",
      "2.3376407623291016\n",
      "2.5328803062438965\n",
      "2.539625883102417\n",
      "2.7423291206359863\n",
      "2.687535524368286\n",
      "2.4741809368133545\n",
      "2.5019121170043945\n",
      "2.4040603637695312\n",
      "2.4885287284851074\n",
      "2.5720608234405518\n",
      "2.752436399459839\n",
      "2.8990776538848877\n",
      "2.4249706268310547\n",
      "2.672929286956787\n",
      "2.5817184448242188\n",
      "2.6874210834503174\n",
      "2.602134943008423\n",
      "2.6492245197296143\n",
      "2.3388521671295166\n",
      "2.563028573989868\n",
      "2.545530319213867\n",
      "3.173649787902832\n",
      "2.5114388465881348\n",
      "2.562425136566162\n",
      "2.628941535949707\n",
      "2.9520509243011475\n",
      "2.5315768718719482\n",
      "2.910609245300293\n",
      "2.4631686210632324\n",
      "2.4548025131225586\n",
      "2.7591001987457275\n",
      "3.249309539794922\n",
      "2.3357033729553223\n",
      "2.6224613189697266\n",
      "2.40065860748291\n",
      "2.7233355045318604\n",
      "2.683262348175049\n",
      "2.5597641468048096\n",
      "2.05461049079895\n",
      "2.6300690174102783\n",
      "2.5881378650665283\n",
      "2.7829999923706055\n",
      "2.4084696769714355\n",
      "2.9293410778045654\n",
      "2.875235080718994\n",
      "2.7673568725585938\n",
      "2.8246757984161377\n",
      "2.8435826301574707\n",
      "2.5876877307891846\n",
      "2.383307695388794\n",
      "2.4882333278656006\n",
      "2.7345950603485107\n",
      "2.9895782470703125\n",
      "2.5651535987854004\n",
      "2.4679582118988037\n",
      "2.8724827766418457\n",
      "2.688096046447754\n",
      "3.1657066345214844\n",
      "2.368476152420044\n",
      "2.643799066543579\n",
      "2.8252549171447754\n",
      "2.573272466659546\n",
      "2.2736525535583496\n",
      "3.2686572074890137\n",
      "2.9511938095092773\n",
      "2.6266982555389404\n",
      "2.840467691421509\n",
      "2.4150607585906982\n",
      "2.8337175846099854\n",
      "2.804793119430542\n",
      "2.653684139251709\n",
      "2.752380847930908\n",
      "2.804410457611084\n",
      "3.0940446853637695\n",
      "2.97767972946167\n",
      "2.5464768409729004\n",
      "2.5568203926086426\n",
      "3.205538034439087\n",
      "3.0123815536499023\n",
      "2.687344551086426\n",
      "2.811898946762085\n",
      "2.629995584487915\n",
      "3.172913074493408\n",
      "2.54856276512146\n",
      "2.970479965209961\n",
      "3.3481197357177734\n",
      "2.704948663711548\n",
      "2.6572201251983643\n",
      "2.7514805793762207\n",
      "2.3445520401000977\n",
      "2.393559455871582\n",
      "3.1547486782073975\n",
      "3.250911235809326\n",
      "3.0073375701904297\n",
      "2.691728353500366\n",
      "2.7090003490448\n",
      "2.4831337928771973\n",
      "2.4256136417388916\n",
      "3.203205108642578\n",
      "2.735443592071533\n",
      "2.951195478439331\n",
      "2.802724838256836\n",
      "2.902937889099121\n",
      "2.897042751312256\n",
      "3.2593703269958496\n",
      "2.537425994873047\n",
      "2.733489751815796\n",
      "3.2916131019592285\n",
      "3.2349448204040527\n",
      "2.896953582763672\n",
      "3.2085764408111572\n",
      "2.8096916675567627\n",
      "2.319532871246338\n",
      "2.568420886993408\n",
      "3.2072792053222656\n",
      "3.5357038974761963\n",
      "2.5475850105285645\n",
      "3.0693325996398926\n",
      "2.9004340171813965\n",
      "3.072617530822754\n",
      "2.842859983444214\n",
      "2.6394903659820557\n",
      "2.8799338340759277\n",
      "2.8369743824005127\n",
      "2.5124011039733887\n",
      "4.187556266784668\n",
      "3.3723649978637695\n",
      "2.764697313308716\n",
      "2.6480088233947754\n",
      "3.1803579330444336\n",
      "3.8375494480133057\n",
      "3.850306272506714\n",
      "2.9366323947906494\n",
      "3.2191319465637207\n",
      "4.331192493438721\n",
      "3.1675491333007812\n",
      "3.3259787559509277\n",
      "4.5253400802612305\n",
      "4.394625663757324\n",
      "3.826206922531128\n",
      "3.786060094833374\n",
      "2.9399473667144775\n",
      "2.741997718811035\n",
      "3.4306607246398926\n",
      "3.176645278930664\n",
      "3.777322292327881\n",
      "2.886092185974121\n",
      "3.0435400009155273\n",
      "3.1391830444335938\n",
      "2.792900800704956\n",
      "2.777451992034912\n",
      "3.612807035446167\n",
      "3.671272039413452\n",
      "2.8528897762298584\n",
      "2.6607954502105713\n",
      "3.0592455863952637\n",
      "3.455514430999756\n",
      "3.2711920738220215\n",
      "3.5319504737854004\n",
      "2.968827247619629\n",
      "3.452861785888672\n",
      "2.4847357273101807\n",
      "3.1107985973358154\n",
      "3.3676905632019043\n",
      "3.138413667678833\n",
      "3.7795143127441406\n",
      "3.1400535106658936\n",
      "3.3210580348968506\n",
      "4.045725345611572\n",
      "3.403895854949951\n",
      "3.587834119796753\n",
      "4.10015344619751\n",
      "4.628781795501709\n",
      "3.633941650390625\n",
      "4.158859729766846\n",
      "3.8947789669036865\n",
      "3.6093428134918213\n",
      "3.593022584915161\n",
      "3.426157236099243\n",
      "2.940324544906616\n",
      "3.9462027549743652\n",
      "3.54215145111084\n",
      "3.4703152179718018\n",
      "3.3693721294403076\n",
      "4.152765274047852\n",
      "3.72301983833313\n",
      "2.8142263889312744\n",
      "3.9953343868255615\n",
      "5.140723705291748\n",
      "5.1140522956848145\n",
      "6.465236186981201\n",
      "5.230916500091553\n",
      "4.555582523345947\n",
      "3.7377712726593018\n",
      "5.119699478149414\n",
      "5.30281400680542\n",
      "4.412320613861084\n",
      "4.210692405700684\n",
      "4.243186950683594\n",
      "4.542349338531494\n",
      "4.9140625\n",
      "4.073603630065918\n",
      "3.7897093296051025\n",
      "4.025060653686523\n",
      "5.309020519256592\n",
      "5.006908893585205\n",
      "2.934680223464966\n",
      "5.079610824584961\n",
      "5.048996925354004\n",
      "5.2585530281066895\n",
      "4.067352294921875\n",
      "3.8476638793945312\n",
      "4.132637977600098\n",
      "4.233572006225586\n",
      "4.784154415130615\n",
      "2.6402032375335693\n",
      "5.154507637023926\n",
      "4.330411911010742\n",
      "4.661251544952393\n",
      "5.0015668869018555\n",
      "4.325071811676025\n",
      "3.4113237857818604\n",
      "5.215418338775635\n",
      "4.72890567779541\n",
      "4.420705795288086\n",
      "6.317114353179932\n",
      "4.130795955657959\n",
      "5.118808746337891\n",
      "5.351489543914795\n",
      "5.04819393157959\n",
      "5.02665901184082\n"
     ]
    }
   ],
   "source": [
    "lri=[]\n",
    "lossi=[]\n",
    "\n",
    "for i in range(1000):\n",
    "    \n",
    "    #minibatch construct\n",
    "    ix= torch.randint(0,X.shape[0],(32,))\n",
    "    \n",
    "    # forward pass\n",
    "    emb = C[X[ix]] #(32,3,2)\n",
    "    h = torch.tanh(emb.view(-1,6)@W1+b1) # (32,100)\n",
    "    logits = h@W2+b2 #(32,27)\n",
    "    loss=F.cross_entropy(logits,Y[ix])\n",
    "    print(loss.item())\n",
    "    # backward pass\n",
    "    for p in parameters:\n",
    "        p.grad=None #or zero in pytorch\n",
    "    loss.backward()\n",
    "    \n",
    "    #update\n",
    "    lr=lrs[i]\n",
    "    for p in parameters:\n",
    "        p.data+=-lr*p.grad\n",
    "\n",
    "    # track stats\n",
    "    lri.append(lre[i]) \n",
    "    lossi.append(loss.item())"
   ]
  },
  {
   "cell_type": "code",
   "execution_count": 89,
   "id": "1881cdda-8f4a-42f8-b1eb-8d2cbfde231f",
   "metadata": {},
   "outputs": [
    {
     "data": {
      "image/png": "[encoded data removed]",
      "text/plain": [
       "<Figure size 640x480 with 1 Axes>"
      ]
     },
     "metadata": {},
     "output_type": "display_data"
    }
   ],
   "source": [
    "plt.plot(lri,lossi)\n",
    "plt.xlabel(\"exponent of learning rate\")\n",
    "plt.ylabel(\"loss function\")\n",
    "plt.show()"
   ]
  },
  {
   "cell_type": "markdown",
   "id": "ac219d6a-463a-4acc-9dd2-0166553ac9d5",
   "metadata": {},
   "source": [
    "* so -1 is fearly the good learning rate."
   ]
  },
  {
   "cell_type": "markdown",
   "id": "3df103b8-6da5-4e7e-9060-fa0fb50004af",
   "metadata": {},
   "source": [
    "# Train/Val:"
   ]
  },
  {
   "cell_type": "markdown",
   "id": "63e0c9b0-36c0-414c-8f31-26f1bc6a888c",
   "metadata": {},
   "source": [
    "* training split (train parameters), dev/validation split (train the hyperparameters), test split (evaluate the performance of the model at the end)\n",
    "* 80%, 10%, 10%\n",
    "* we test barely since if you always test each time then your model learn from it then we have the overfitting model."
   ]
  },
  {
   "cell_type": "code",
   "execution_count": 90,
   "id": "cb9b2069-e811-4090-adf7-5fb10df1e440",
   "metadata": {},
   "outputs": [
    {
     "name": "stdout",
     "output_type": "stream",
     "text": [
      "torch.Size([182625, 3]) torch.Size([182625])\n",
      "torch.Size([22655, 3]) torch.Size([22655])\n",
      "torch.Size([22866, 3]) torch.Size([22866])\n"
     ]
    }
   ],
   "source": [
    "# build the data set(here we define the function instead of loop)\n",
    "\n",
    "def build_dataset(words):\n",
    "    block_size=3 # context lenght: how many chars do we take to predict the next one?\n",
    "    X,Y=[],[]\n",
    "    for w in words:\n",
    "\n",
    "    #print(w)\n",
    "        context=[0]* block_size\n",
    "        for ch in w + '.':\n",
    "            ix= stoi[ch]\n",
    "            X.append(context)\n",
    "            Y.append(ix)\n",
    "        #print(''.join(itos[i] for i in context), '--->', itos[ix])\n",
    "            context = context[1:]+[ix] #crop and append\n",
    "    X = torch.tensor(X)\n",
    "    Y = torch.tensor(Y)\n",
    "    print(X.shape, Y.shape)\n",
    "    return X,Y\n",
    "\n",
    "\n",
    "import random\n",
    "random.seed(42)\n",
    "random.shuffle(words)\n",
    "n1=int(0.8*len(words))\n",
    "n2=int(0.9*len(words)) \n",
    "\n",
    "Xtr,Ytr= build_dataset(words[:n1])\n",
    "Xdev,Ydev= build_dataset(words[n1:n2])\n",
    "Xte,Yte=build_dataset(words[n2:])"
   ]
  },
  {
   "cell_type": "code",
   "execution_count": 96,
   "id": "1387f0da-59f8-433e-81c8-54fc96d5ef05",
   "metadata": {},
   "outputs": [],
   "source": [
    "g= torch.Generator().manual_seed(12334) # for reproduciblity\n",
    "C= torch.randn((27,2), generator=g)\n",
    "W1= torch.randn((6,100), generator=g)\n",
    "b1= torch.randn((1,100), generator=g)\n",
    "W2= torch.randn((100,27), generator=g)\n",
    "b2= torch.randn((1,27), generator=g)\n",
    "parameters = [C,W1,b1,W2,b2]"
   ]
  },
  {
   "cell_type": "code",
   "execution_count": 97,
   "id": "a5311638-54c9-4e5c-b8a1-02da802b0f93",
   "metadata": {},
   "outputs": [
    {
     "data": {
      "text/plain": [
       "(torch.Size([182625, 3]), torch.Size([182625]))"
      ]
     },
     "execution_count": 97,
     "metadata": {},
     "output_type": "execute_result"
    }
   ],
   "source": [
    "Xtr.shape, Ytr.shape"
   ]
  },
  {
   "cell_type": "code",
   "execution_count": 98,
   "id": "c0187e5a-cc65-44a4-9408-f6396dea552f",
   "metadata": {},
   "outputs": [],
   "source": [
    "for p in parameters:\n",
    "    p.requires_grad=True"
   ]
  },
  {
   "cell_type": "code",
   "execution_count": 99,
   "id": "f5f94ca3-8d75-4a81-9780-90bde880ac05",
   "metadata": {},
   "outputs": [],
   "source": [
    "lri=[]\n",
    "lossi=[]\n",
    "\n",
    "for i in range(1000):\n",
    "    \n",
    "    #minibatch construct\n",
    "    ix= torch.randint(0,Xtr.shape[0],(32,))\n",
    "    \n",
    "    # forward pass\n",
    "    emb = C[Xtr[ix]] #(32,3,2)\n",
    "    h = torch.tanh(emb.view(-1,6)@W1+b1) # (32,100)\n",
    "    logits = h@W2+b2 #(32,27)\n",
    "    loss=F.cross_entropy(logits,Ytr[ix])\n",
    "    #print(loss.item())\n",
    "    # backward pass\n",
    "    for p in parameters:\n",
    "        p.grad=None #or zero in pytorch\n",
    "    loss.backward()\n",
    "    \n",
    "    #update\n",
    "    #lr=lrs[i]\n",
    "    lr=0.1\n",
    "    for p in parameters:\n",
    "        p.data+=-lr*p.grad\n",
    "\n",
    "    # track stats\n",
    "    #lri.append(lre[i]) \n",
    "    #lossi.append(loss.item())"
   ]
  },
  {
   "cell_type": "code",
   "execution_count": 100,
   "id": "6a25015f-42c3-4f88-9c77-15d5d0c6eab2",
   "metadata": {},
   "outputs": [
    {
     "name": "stdout",
     "output_type": "stream",
     "text": [
      "2.4607434272766113\n"
     ]
    }
   ],
   "source": [
    "print(loss.item())"
   ]
  },
  {
   "cell_type": "code",
   "execution_count": 102,
   "id": "d198cb27-59a1-4b4d-a70f-d0f1e2e57575",
   "metadata": {},
   "outputs": [
    {
     "data": {
      "text/plain": [
       "tensor(2.6217, grad_fn=<NllLossBackward0>)"
      ]
     },
     "execution_count": 102,
     "metadata": {},
     "output_type": "execute_result"
    }
   ],
   "source": [
    "emb = C[Xtr] #(32,3,2)\n",
    "h = torch.tanh(emb.view(-1,6)@W1+b1) # (32,100)\n",
    "logits = h@W2+b2 #(32,27)\n",
    "loss=F.cross_entropy(logits,Ytr)\n",
    "loss"
   ]
  },
  {
   "cell_type": "code",
   "execution_count": 101,
   "id": "4b6c7c97-d25f-4d67-8fb3-984f2fb65a2d",
   "metadata": {},
   "outputs": [
    {
     "data": {
      "text/plain": [
       "tensor(2.6072, grad_fn=<NllLossBackward0>)"
      ]
     },
     "execution_count": 101,
     "metadata": {},
     "output_type": "execute_result"
    }
   ],
   "source": [
    "emb = C[Xdev] #(32,3,2)\n",
    "h = torch.tanh(emb.view(-1,6)@W1+b1) # (32,100)\n",
    "logits = h@W2+b2 #(32,27)\n",
    "loss=F.cross_entropy(logits,Ydev)\n",
    "loss"
   ]
  },
  {
   "cell_type": "markdown",
   "id": "57455f0e-ce4a-4bb3-ad1d-b1ca0fa2dad4",
   "metadata": {},
   "source": [
    "# increasing the neurons:\n",
    "\n",
    "* the model is not powerful enough to say that we have the overfitting! somehow we can say that it's underfitting since these are somehow equal and the model could not learn and memorise anything. So let to grow the neural network!"
   ]
  },
  {
   "cell_type": "code",
   "execution_count": 103,
   "id": "e71da7f3-af17-447d-acdb-b07021b03ff3",
   "metadata": {},
   "outputs": [],
   "source": [
    "# here we change the 100 to 300 to increase the layers of neoruns.\n",
    "g= torch.Generator().manual_seed(12334) # for reproduciblity\n",
    "C= torch.randn((27,2), generator=g)\n",
    "W1= torch.randn((6,300), generator=g)\n",
    "b1= torch.randn((1,300), generator=g)\n",
    "W2= torch.randn((300,27), generator=g)\n",
    "b2= torch.randn((1,27), generator=g)\n",
    "parameters = [C,W1,b1,W2,b2]"
   ]
  },
  {
   "cell_type": "code",
   "execution_count": 105,
   "id": "df7e0efe-31e9-4013-a3fd-6efa99c4112c",
   "metadata": {},
   "outputs": [
    {
     "data": {
      "text/plain": [
       "10281"
      ]
     },
     "execution_count": 105,
     "metadata": {},
     "output_type": "execute_result"
    }
   ],
   "source": [
    "sum(p.nelement() for p in parameters)"
   ]
  },
  {
   "cell_type": "code",
   "execution_count": 106,
   "id": "952ddbfe-e0cf-4b7f-81a9-76abb2616208",
   "metadata": {},
   "outputs": [
    {
     "data": {
      "text/plain": [
       "(torch.Size([182625, 3]), torch.Size([182625]))"
      ]
     },
     "execution_count": 106,
     "metadata": {},
     "output_type": "execute_result"
    }
   ],
   "source": [
    "Xtr.shape, Ytr.shape"
   ]
  },
  {
   "cell_type": "code",
   "execution_count": 107,
   "id": "18f39c32-4757-47f9-a6ed-425b02b038c4",
   "metadata": {},
   "outputs": [],
   "source": [
    "for p in parameters:\n",
    "    p.requires_grad=True"
   ]
  },
  {
   "cell_type": "code",
   "execution_count": 118,
   "id": "454d8a10-e32f-4e69-b7dd-61a2e571d1ba",
   "metadata": {},
   "outputs": [],
   "source": [
    "lri=[]\n",
    "lossi=[]\n",
    "stepi=[]\n",
    "for i in range(3000):\n",
    "    \n",
    "    #minibatch construct\n",
    "    ix= torch.randint(0,Xtr.shape[0],(32,))\n",
    "    \n",
    "    # forward pass\n",
    "    emb = C[Xtr[ix]] #(32,3,2)\n",
    "    h = torch.tanh(emb.view(-1,6)@W1+b1) # (32,100)\n",
    "    logits = h@W2+b2 #(32,27)\n",
    "    loss=F.cross_entropy(logits,Ytr[ix])\n",
    "    #print(loss.item())\n",
    "    # backward pass\n",
    "    for p in parameters:\n",
    "        p.grad=None #or zero in pytorch\n",
    "    loss.backward()\n",
    "    \n",
    "    #update\n",
    "    #lr=lrs[i]\n",
    "    lr=0.1\n",
    "    for p in parameters:\n",
    "        p.data+=-lr*p.grad\n",
    "\n",
    "    # track stats\n",
    "    #lri.append(lre[i])\n",
    "    stepi.append(i)\n",
    "    lossi.append(loss.item())"
   ]
  },
  {
   "cell_type": "code",
   "execution_count": 112,
   "id": "478f906f-8137-4004-8f62-d2b66497a5af",
   "metadata": {},
   "outputs": [
    {
     "data": {
      "image/png": "[encoded data removed]",
      "text/plain": [
       "<Figure size 640x480 with 1 Axes>"
      ]
     },
     "metadata": {},
     "output_type": "display_data"
    }
   ],
   "source": [
    "plt.plot(stepi,lossi)\n",
    "plt.xlabel(\"steps of learning rate\")\n",
    "plt.ylabel(\"loss function\")\n",
    "plt.show() "
   ]
  },
  {
   "cell_type": "markdown",
   "id": "c7a9565f-4ed1-4960-beeb-cb9e3388b6bf",
   "metadata": {},
   "source": [
    "1. because of the small batches we have alot of noises like back and forth grad, if we have larger we have more smooth graph.\n",
    "2. having the large dataset(training set) makes better optimization\n",
    "3. since embeddings are goes to 2 dimentions it crams all parameters into 2 dimentions so it puts the model in the bottleneck."
   ]
  },
  {
   "cell_type": "code",
   "execution_count": 119,
   "id": "1ba46534-4b76-4c64-b42f-8e3ea5bcde42",
   "metadata": {},
   "outputs": [
    {
     "data": {
      "text/plain": [
       "tensor(2.8047, grad_fn=<NllLossBackward0>)"
      ]
     },
     "execution_count": 119,
     "metadata": {},
     "output_type": "execute_result"
    }
   ],
   "source": [
    "emb = C[Xtr] #(32,3,2)\n",
    "h = torch.tanh(emb.view(-1,6)@W1+b1) # (32,100)\n",
    "logits = h@W2+b2 #(32,27)\n",
    "loss=F.cross_entropy(logits,Ytr)\n",
    "loss"
   ]
  },
  {
   "cell_type": "code",
   "execution_count": 120,
   "id": "2980a883-49b4-4a44-8f15-133a1a5f8390",
   "metadata": {},
   "outputs": [
    {
     "data": {
      "text/plain": [
       "tensor(2.8002, grad_fn=<NllLossBackward0>)"
      ]
     },
     "execution_count": 120,
     "metadata": {},
     "output_type": "execute_result"
    }
   ],
   "source": [
    "emb = C[Xdev] #(32,3,2)\n",
    "h = torch.tanh(emb.view(-1,6)@W1+b1) # (32,100)\n",
    "logits = h@W2+b2 #(32,27)\n",
    "loss=F.cross_entropy(logits,Ydev)\n",
    "loss"
   ]
  },
  {
   "cell_type": "code",
   "execution_count": 136,
   "id": "c1c83321-04a1-41a0-8156-c7d2a3795035",
   "metadata": {},
   "outputs": [
    {
     "data": {
      "image/png": "[encoded data removed]",
      "text/plain": [
       "<Figure size 800x800 with 1 Axes>"
      ]
     },
     "metadata": {},
     "output_type": "display_data"
    },
    {
     "data": {
      "image/png": "[encoded data removed]",
      "text/plain": [
       "<Figure size 800x800 with 1 Axes>"
      ]
     },
     "metadata": {},
     "output_type": "display_data"
    },
    {
     "data": {
      "image/png": "[encoded data removed]",
      "text/plain": [
       "<Figure size 800x800 with 1 Axes>"
      ]
     },
     "metadata": {},
     "output_type": "display_data"
    }
   ],
   "source": [
    "plt.figure(figsize=(8,8))\n",
    "plt.scatter(C[:,0].data, C[:,1].data, s=200)\n",
    "for i in range(C.shape[0]):\n",
    "    plt.text(C[i,0].item(), C[i,1].item(), itos[i], ha='center', va='center', color='white')\n",
    "plt.grid('minor')\n",
    "plt.show()"
   ]
  },
  {
   "cell_type": "markdown",
   "id": "cfa342f8-17a2-4850-ae85-c392212c692a",
   "metadata": {},
   "source": [
    "# increasing the possibility of embeddings dimention:"
   ]
  },
  {
   "cell_type": "code",
   "execution_count": 137,
   "id": "45487da5-3e61-4379-a135-b59bee0b5bd6",
   "metadata": {},
   "outputs": [],
   "source": [
    "# change 2 to 10\n",
    "# we just decrease the number of hidden layers\n",
    "# 6 turns to 30 cuz of 10*3\n",
    "g= torch.Generator().manual_seed(12334) # for reproduciblity\n",
    "C= torch.randn((27,10), generator=g)\n",
    "W1= torch.randn((30,200), generator=g)\n",
    "b1= torch.randn((1,200), generator=g)\n",
    "W2= torch.randn((200,27), generator=g)\n",
    "b2= torch.randn((1,27), generator=g)\n",
    "parameters = [C,W1,b1,W2,b2]"
   ]
  },
  {
   "cell_type": "code",
   "execution_count": 140,
   "id": "c1d605a3-3a2a-4847-a7f1-2bd67a43fa67",
   "metadata": {},
   "outputs": [
    {
     "data": {
      "text/plain": [
       "11897"
      ]
     },
     "execution_count": 140,
     "metadata": {},
     "output_type": "execute_result"
    }
   ],
   "source": [
    "sum(p.nelement() for p in parameters)"
   ]
  },
  {
   "cell_type": "code",
   "execution_count": 141,
   "id": "bf9a37c9-eec4-414f-ba63-c6d055e23c96",
   "metadata": {},
   "outputs": [],
   "source": [
    "for p in parameters:\n",
    "    p.requires_grad=True"
   ]
  },
  {
   "cell_type": "code",
   "execution_count": 142,
   "id": "ccb46609-675b-4f9c-8dae-917b0e1ee49c",
   "metadata": {},
   "outputs": [],
   "source": [
    "lri=[]\n",
    "lossi=[]\n",
    "stepi=[]"
   ]
  },
  {
   "cell_type": "code",
   "execution_count": 152,
   "id": "85e3e355-ca10-4aec-9448-84296469cc5e",
   "metadata": {},
   "outputs": [],
   "source": [
    "for i in range(50000):\n",
    "    \n",
    "    #minibatch construct\n",
    "    ix= torch.randint(0,Xtr.shape[0],(32,))\n",
    "    \n",
    "    # forward pass\n",
    "    emb = C[Xtr[ix]] #(32,3,2)\n",
    "    h = torch.tanh(emb.view(-1,30)@W1+b1) # (32,100)\n",
    "    logits = h@W2+b2 #(32,27)\n",
    "    loss=F.cross_entropy(logits,Ytr[ix])\n",
    "    #print(loss.item())\n",
    "    # backward pass\n",
    "    for p in parameters:\n",
    "        p.grad=None #or zero in pytorch\n",
    "    loss.backward()\n",
    "    \n",
    "    #update\n",
    "    #lr=lrs[i]\n",
    "    lr=0.01\n",
    "    for p in parameters:\n",
    "        p.data+=-lr*p.grad\n",
    "\n",
    "    # track stats\n",
    "    #lri.append(lre[i])\n",
    "    stepi.append(i)\n",
    "    lossi.append(loss.log10().item())"
   ]
  },
  {
   "cell_type": "code",
   "execution_count": 153,
   "id": "9a78546b-0651-4465-9f34-d52f7a729126",
   "metadata": {},
   "outputs": [
    {
     "data": {
      "image/png": "[encoded data removed]",
      "text/plain": [
       "<Figure size 640x480 with 1 Axes>"
      ]
     },
     "metadata": {},
     "output_type": "display_data"
    }
   ],
   "source": [
    "plt.plot(stepi,lossi)\n",
    "plt.show()"
   ]
  },
  {
   "cell_type": "code",
   "execution_count": 154,
   "id": "db5c8474-e80f-409a-8286-5c64a36ddbdb",
   "metadata": {},
   "outputs": [
    {
     "data": {
      "text/plain": [
       "tensor(2.1852, grad_fn=<NllLossBackward0>)"
      ]
     },
     "execution_count": 154,
     "metadata": {},
     "output_type": "execute_result"
    }
   ],
   "source": [
    "emb = C[Xtr] #(32,3,2)\n",
    "h = torch.tanh(emb.view(-1,30)@W1+b1) # (32,100)\n",
    "logits = h@W2+b2 #(32,27)\n",
    "loss=F.cross_entropy(logits,Ytr)\n",
    "loss"
   ]
  },
  {
   "cell_type": "code",
   "execution_count": 155,
   "id": "d87195b1-30b4-4212-9439-bf580d3790f8",
   "metadata": {},
   "outputs": [
    {
     "data": {
      "text/plain": [
       "tensor(2.2230, grad_fn=<NllLossBackward0>)"
      ]
     },
     "execution_count": 155,
     "metadata": {},
     "output_type": "execute_result"
    }
   ],
   "source": [
    "emb = C[Xdev] #(32,3,2)\n",
    "h = torch.tanh(emb.view(-1,30)@W1+b1) # (32,100)\n",
    "logits = h@W2+b2 #(32,27)\n",
    "loss=F.cross_entropy(logits,Ydev)\n",
    "loss"
   ]
  },
  {
   "cell_type": "code",
   "execution_count": 166,
   "id": "06234309-64b1-4947-a1d8-1fbe35ee4b77",
   "metadata": {},
   "outputs": [
    {
     "name": "stdout",
     "output_type": "stream",
     "text": [
      "tensor([[[-0.9459,  0.2387, -1.4464,  1.5716, -3.8015, -1.4923,  0.2482,\n",
      "          -0.7157,  0.6941,  0.9933],\n",
      "         [-0.9459,  0.2387, -1.4464,  1.5716, -3.8015, -1.4923,  0.2482,\n",
      "          -0.7157,  0.6941,  0.9933],\n",
      "         [-0.9459,  0.2387, -1.4464,  1.5716, -3.8015, -1.4923,  0.2482,\n",
      "          -0.7157,  0.6941,  0.9933]]], grad_fn=<IndexBackward0>)\n",
      "tensor([[-1.0000, -1.0000, -1.0000,  1.0000, -1.0000, -1.0000,  1.0000,  0.9993,\n",
      "          1.0000,  1.0000, -1.0000, -1.0000, -0.9827,  0.9980,  0.9916, -1.0000,\n",
      "         -1.0000, -1.0000,  1.0000, -1.0000,  1.0000, -0.9983,  0.9975,  0.9991,\n",
      "         -1.0000, -0.9999,  1.0000,  1.0000, -0.9979,  1.0000, -0.9923,  1.0000,\n",
      "         -0.9936, -1.0000,  1.0000,  1.0000,  1.0000,  1.0000,  0.9923,  1.0000,\n",
      "         -1.0000,  1.0000,  0.9929,  0.9999, -1.0000, -0.9974,  1.0000,  0.9399,\n",
      "          1.0000, -1.0000, -1.0000, -1.0000,  1.0000,  1.0000, -0.9995,  0.9992,\n",
      "          0.9808, -1.0000,  1.0000, -1.0000, -0.9897, -0.9993, -0.9988, -1.0000,\n",
      "         -0.9999, -1.0000, -1.0000,  1.0000, -1.0000,  1.0000, -1.0000, -0.9964,\n",
      "         -1.0000,  1.0000, -1.0000, -1.0000, -1.0000,  1.0000, -1.0000,  1.0000,\n",
      "         -0.9835, -1.0000, -1.0000, -0.9975,  0.9994,  0.9999, -1.0000, -1.0000,\n",
      "          1.0000,  1.0000,  0.9997,  1.0000, -0.9972,  0.9999,  1.0000,  0.9999,\n",
      "          0.9973, -1.0000, -1.0000, -1.0000, -0.9998, -1.0000,  1.0000,  1.0000,\n",
      "          1.0000,  0.9750,  1.0000,  1.0000,  1.0000, -0.9711,  1.0000, -0.9986,\n",
      "          0.9998, -1.0000, -0.9828, -1.0000,  1.0000, -0.9953, -1.0000, -1.0000,\n",
      "          1.0000, -1.0000, -1.0000,  1.0000,  0.9986, -1.0000, -0.9907,  1.0000,\n",
      "          0.9985, -1.0000, -0.9623, -1.0000, -1.0000, -1.0000, -0.9994, -1.0000,\n",
      "         -1.0000, -1.0000,  0.9967, -1.0000,  1.0000,  0.9999,  0.9922,  1.0000,\n",
      "          1.0000, -0.9998, -1.0000, -0.9877,  1.0000, -1.0000,  0.9999, -1.0000,\n",
      "          0.9994, -1.0000, -1.0000,  1.0000,  0.9900, -0.9870, -1.0000,  1.0000,\n",
      "         -0.9998,  1.0000,  1.0000,  1.0000, -0.9900,  0.9979, -1.0000, -1.0000,\n",
      "          1.0000, -1.0000, -0.9907, -0.9998,  1.0000,  0.9975,  1.0000,  0.9992,\n",
      "          1.0000,  1.0000,  0.9953, -1.0000,  1.0000,  1.0000,  1.0000, -1.0000,\n",
      "         -1.0000,  0.9984,  1.0000,  0.9999, -1.0000,  1.0000,  1.0000, -1.0000,\n",
      "          1.0000, -0.9423,  1.0000,  0.9956,  1.0000,  0.9996, -1.0000, -1.0000]],\n",
      "       grad_fn=<TanhBackward0>)\n",
      "tensor([[-7.2780,  0.8991, -0.1696, -0.6682, -0.1541, -0.0447, -1.7259, -0.9097,\n",
      "         -0.7508, -1.2690, -0.2811,  0.6301, -0.2026,  0.5905, -0.4646, -1.7034,\n",
      "         -1.2013, -2.8239, -0.2262, -0.1033, -0.5798, -3.3352, -1.7684, -1.9666,\n",
      "         -2.6187, -1.5289, -0.7401]], grad_fn=<AddBackward0>)\n",
      "tensor([[4.1205e-05, 1.4663e-01, 5.0358e-02, 3.0588e-02, 5.1149e-02, 5.7060e-02,\n",
      "         1.0622e-02, 2.4025e-02, 2.8164e-02, 1.6774e-02, 4.5048e-02, 1.1205e-01,\n",
      "         4.8728e-02, 1.0769e-01, 3.7497e-02, 1.0863e-02, 1.7948e-02, 3.5427e-03,\n",
      "         4.7591e-02, 5.3810e-02, 3.3414e-02, 2.1246e-03, 1.0180e-02, 8.3494e-03,\n",
      "         4.3499e-03, 1.2934e-02, 2.8467e-02]], grad_fn=<SoftmaxBackward0>)\n",
      "10\n",
      "[0, 0, 10]\n",
      "tensor([[[-0.9459,  0.2387, -1.4464,  1.5716, -3.8015, -1.4923,  0.2482,\n",
      "          -0.7157,  0.6941,  0.9933],\n",
      "         [-0.9459,  0.2387, -1.4464,  1.5716, -3.8015, -1.4923,  0.2482,\n",
      "          -0.7157,  0.6941,  0.9933],\n",
      "         [-1.1663,  0.1648,  0.5325,  0.6644,  0.5736, -0.6609, -0.7649,\n",
      "           0.2208, -0.6731, -0.1660]]], grad_fn=<IndexBackward0>)\n",
      "tensor([[-0.9992, -1.0000, -1.0000,  0.9996, -1.0000, -1.0000,  1.0000,  1.0000,\n",
      "          1.0000,  1.0000, -1.0000, -0.9999,  0.9999, -1.0000, -0.9866, -1.0000,\n",
      "         -1.0000, -0.9993,  1.0000, -0.9995,  0.9999, -0.9983, -0.3892, -0.9010,\n",
      "         -1.0000, -1.0000,  1.0000,  1.0000, -1.0000,  0.9962,  1.0000,  0.9998,\n",
      "         -1.0000,  0.9969,  0.9995,  1.0000,  1.0000,  0.9977,  1.0000,  1.0000,\n",
      "         -1.0000,  1.0000, -1.0000,  0.9943, -0.9998,  0.8990,  1.0000, -1.0000,\n",
      "          0.9999, -1.0000, -1.0000,  1.0000,  0.9383,  1.0000, -0.9980,  1.0000,\n",
      "         -1.0000, -1.0000, -0.1617, -1.0000, -1.0000,  0.9994, -1.0000, -1.0000,\n",
      "         -0.9996,  0.9980, -0.9974,  0.9998, -1.0000,  1.0000, -1.0000, -0.9974,\n",
      "         -1.0000,  1.0000, -0.9997, -1.0000, -1.0000, -0.9934,  1.0000,  1.0000,\n",
      "         -1.0000, -1.0000, -1.0000,  0.9982,  0.9275,  1.0000, -1.0000, -0.9956,\n",
      "          1.0000,  1.0000,  1.0000,  1.0000,  0.2578, -0.9814,  1.0000,  1.0000,\n",
      "          0.9999, -0.9472, -1.0000, -1.0000, -0.9985,  0.9995,  1.0000,  1.0000,\n",
      "          0.9277, -0.9999,  1.0000,  0.9886,  0.9998,  1.0000,  0.9993, -1.0000,\n",
      "          0.6516, -1.0000,  1.0000, -0.9934, -0.9018,  0.9998, -1.0000, -1.0000,\n",
      "          1.0000, -1.0000, -1.0000,  1.0000,  1.0000, -1.0000, -0.9499,  1.0000,\n",
      "         -0.9926, -1.0000, -1.0000, -1.0000, -0.9995,  0.8534,  0.9998, -1.0000,\n",
      "         -1.0000, -0.9726, -0.9999, -0.9968,  1.0000, -0.8389,  1.0000,  1.0000,\n",
      "          1.0000, -1.0000, -1.0000,  1.0000,  1.0000, -1.0000,  1.0000, -1.0000,\n",
      "          1.0000, -0.9993, -1.0000,  1.0000,  0.9647,  1.0000, -0.9989,  0.9999,\n",
      "         -1.0000,  1.0000,  1.0000,  1.0000,  0.9997, -1.0000, -1.0000, -0.7685,\n",
      "         -1.0000, -1.0000, -0.9972, -1.0000,  1.0000,  0.9989,  1.0000, -0.9999,\n",
      "          1.0000,  1.0000,  0.9995, -0.9993,  1.0000,  0.9997,  1.0000, -0.9999,\n",
      "         -1.0000, -0.8682,  0.9999,  1.0000, -1.0000,  1.0000,  1.0000, -1.0000,\n",
      "          0.9976, -0.6828,  1.0000, -0.9950,  1.0000,  0.9999, -1.0000, -1.0000]],\n",
      "       grad_fn=<TanhBackward0>)\n",
      "tensor([[ -2.3092,   9.0729, -11.2062,  -2.5186,  -5.1465,   8.0995,  -6.2406,\n",
      "          -6.6541,   5.8431,   6.1355,  -2.7023,  -3.9218,   3.9855,   2.1870,\n",
      "          -4.2026,   8.0862,  -9.1534, -12.2730,   4.5590,  -3.3747,  -1.9563,\n",
      "           7.1534,  -3.5070,   3.9627,  -4.7741,   4.8480,   2.8865]],\n",
      "       grad_fn=<AddBackward0>)\n",
      "tensor([[5.6127e-06, 4.9243e-01, 7.6774e-10, 4.5518e-06, 3.2879e-07, 1.8603e-01,\n",
      "         1.1009e-07, 7.2807e-08, 1.9483e-02, 2.6099e-02, 3.7880e-06, 1.1189e-06,\n",
      "         3.0403e-03, 5.0330e-04, 8.4500e-07, 1.8358e-01, 5.9810e-09, 2.6421e-10,\n",
      "         5.3949e-03, 1.9337e-06, 7.9873e-06, 7.2227e-02, 1.6942e-06, 2.9717e-03,\n",
      "         4.7718e-07, 7.2026e-03, 1.0130e-03]], grad_fn=<SoftmaxBackward0>)\n",
      "21\n",
      "[0, 10, 21]\n",
      "tensor([[[-0.9459,  0.2387, -1.4464,  1.5716, -3.8015, -1.4923,  0.2482,\n",
      "          -0.7157,  0.6941,  0.9933],\n",
      "         [-1.1663,  0.1648,  0.5325,  0.6644,  0.5736, -0.6609, -0.7649,\n",
      "           0.2208, -0.6731, -0.1660],\n",
      "         [-0.7170, -0.0878,  0.0515, -0.7277, -0.5605,  0.8765,  0.4953,\n",
      "           1.7295,  0.7962, -0.7042]]], grad_fn=<IndexBackward0>)\n",
      "tensor([[-1.0000, -1.0000, -1.0000, -0.9816, -1.0000, -1.0000,  0.9999,  0.9999,\n",
      "         -1.0000,  1.0000,  0.9992, -0.9999,  0.9736, -0.9977, -1.0000, -1.0000,\n",
      "         -0.9992, -1.0000,  1.0000, -1.0000,  0.9922, -0.9997, -1.0000, -0.9998,\n",
      "         -0.9649,  0.1810,  0.9999, -0.9999, -1.0000,  0.9931,  1.0000,  1.0000,\n",
      "         -0.9864, -0.9997,  1.0000, -0.9870,  0.9780,  0.9997,  0.9997,  0.9998,\n",
      "         -1.0000, -0.9990, -0.9809, -0.6381,  0.9999, -1.0000,  1.0000, -0.9992,\n",
      "          0.3462, -0.9999, -1.0000,  1.0000,  0.9998,  1.0000,  0.9999,  0.9989,\n",
      "         -1.0000, -1.0000,  1.0000, -0.7169,  1.0000, -0.9493, -0.7725, -1.0000,\n",
      "         -1.0000,  0.9997, -1.0000, -1.0000, -1.0000,  1.0000, -0.9580,  0.9998,\n",
      "         -0.9980,  1.0000, -1.0000,  1.0000,  0.6587, -1.0000, -0.9999,  1.0000,\n",
      "         -0.9997, -1.0000, -1.0000, -0.9997,  1.0000,  1.0000, -1.0000,  0.9805,\n",
      "          1.0000, -1.0000, -0.9998,  1.0000, -0.9977, -0.9940,  0.9997,  1.0000,\n",
      "         -0.9709,  0.9998, -1.0000,  0.9999,  1.0000,  0.9993,  1.0000,  1.0000,\n",
      "         -0.9284, -1.0000, -1.0000,  1.0000, -0.9620,  0.9166, -0.9663, -1.0000,\n",
      "         -0.9139, -1.0000,  1.0000,  1.0000,  0.9644,  1.0000, -1.0000, -0.9988,\n",
      "          1.0000,  0.9999,  0.8449,  1.0000,  1.0000, -0.9973, -0.7143,  0.6933,\n",
      "         -1.0000, -1.0000, -1.0000, -1.0000, -0.9836, -0.9898,  0.5453, -1.0000,\n",
      "          1.0000,  1.0000, -0.4745,  0.9799,  1.0000,  0.9983,  1.0000,  0.9998,\n",
      "          1.0000, -1.0000, -1.0000,  0.9998,  1.0000, -1.0000,  1.0000, -1.0000,\n",
      "          1.0000, -0.9995, -1.0000, -0.9967,  1.0000,  1.0000,  0.9233,  1.0000,\n",
      "         -1.0000,  1.0000,  1.0000,  0.9803, -0.9999, -1.0000, -0.9804, -1.0000,\n",
      "          0.9996, -0.9851,  1.0000, -1.0000,  0.9958, -0.8032,  1.0000, -1.0000,\n",
      "          1.0000,  1.0000,  0.9997, -0.9998,  1.0000,  1.0000,  1.0000,  0.9548,\n",
      "         -0.9362, -1.0000, -0.8651, -1.0000, -1.0000, -0.9995,  1.0000, -1.0000,\n",
      "          0.8273, -1.0000,  1.0000, -0.9941,  1.0000, -1.0000, -0.9177, -1.0000]],\n",
      "       grad_fn=<TanhBackward0>)\n",
      "tensor([[-1.1814,  2.7060,  2.1843,  1.2919,  1.3497,  2.3038, -3.1377, -2.6735,\n",
      "          0.9659,  1.0824, -2.6407,  0.6555,  4.5206,  1.3096,  3.2006,  1.7189,\n",
      "          1.6595, -2.5299,  3.5659,  3.9046,  0.2579, -0.0130,  2.0491, -0.9716,\n",
      "         -1.0020,  1.3256,  2.0179]], grad_fn=<AddBackward0>)\n",
      "tensor([[1.0674e-03, 5.2068e-02, 3.0904e-02, 1.2660e-02, 1.3414e-02, 3.4825e-02,\n",
      "         1.5091e-04, 2.4004e-04, 9.1386e-03, 1.0267e-02, 2.4806e-04, 6.6998e-03,\n",
      "         3.1962e-01, 1.2887e-02, 8.5381e-02, 1.9403e-02, 1.8285e-02, 2.7712e-04,\n",
      "         1.2304e-01, 1.7264e-01, 4.5018e-03, 3.4334e-03, 2.6996e-02, 1.3165e-03,\n",
      "         1.2770e-03, 1.3094e-02, 2.6167e-02]], grad_fn=<SoftmaxBackward0>)\n",
      "14\n",
      "[10, 21, 14]\n",
      "tensor([[[-1.1663,  0.1648,  0.5325,  0.6644,  0.5736, -0.6609, -0.7649,\n",
      "           0.2208, -0.6731, -0.1660],\n",
      "         [-0.7170, -0.0878,  0.0515, -0.7277, -0.5605,  0.8765,  0.4953,\n",
      "           1.7295,  0.7962, -0.7042],\n",
      "         [-0.3115, -0.0331, -0.4500, -0.4655, -0.5842, -0.4971,  0.4927,\n",
      "           1.3221,  0.0089, -1.0377]]], grad_fn=<IndexBackward0>)\n",
      "tensor([[-0.9287,  0.9681, -1.0000, -0.9999, -1.0000, -1.0000,  0.9638,  0.9969,\n",
      "          0.9495, -1.0000,  1.0000, -0.9940,  0.9727, -0.2043,  0.9999,  0.9260,\n",
      "          0.4430,  0.9572, -0.9893,  0.8654, -0.5725, -1.0000, -0.9565, -1.0000,\n",
      "          0.9928,  1.0000, -0.9961, -1.0000, -0.9979,  1.0000,  0.9974,  1.0000,\n",
      "          0.9780,  0.2339, -1.0000, -0.9878, -0.8600, -1.0000,  1.0000, -1.0000,\n",
      "          0.9999, -1.0000,  1.0000, -0.9959,  0.9305, -1.0000,  1.0000,  0.9889,\n",
      "          0.6989, -1.0000, -1.0000, -1.0000,  1.0000,  0.9990, -0.9969,  0.9308,\n",
      "         -0.9951, -1.0000, -0.9983,  0.6530,  0.9840, -0.9948, -0.9976,  0.9998,\n",
      "         -0.8070,  0.9618, -0.9998, -0.9994, -0.9515,  0.9997,  0.9999,  1.0000,\n",
      "         -0.9939, -0.9999, -1.0000,  1.0000,  0.9968,  1.0000, -0.9993,  1.0000,\n",
      "          0.7387, -0.9994, -0.9997, -0.9188,  1.0000, -0.9969, -0.9999,  0.9324,\n",
      "          0.9999,  0.9859, -0.9937,  1.0000, -0.9996,  0.8457, -1.0000, -0.9857,\n",
      "         -0.9964,  0.9950, -0.9993,  0.9996,  0.9998, -1.0000, -1.0000,  0.9999,\n",
      "          0.9955,  0.1337,  0.9990,  1.0000, -0.9496,  0.2474,  0.9629, -1.0000,\n",
      "          0.0955, -1.0000, -0.9991, -0.9263,  0.9563,  1.0000, -0.9303, -0.9997,\n",
      "          0.7143,  0.9959,  0.9916,  0.9995, -0.3614,  0.9979,  0.9999, -1.0000,\n",
      "          0.9879,  0.9991, -0.9996,  0.3240,  0.9994,  1.0000,  0.8756, -0.9985,\n",
      "          1.0000, -1.0000, -0.9675,  0.7619,  0.9525,  0.9999, -0.9764,  0.6428,\n",
      "         -1.0000,  0.9972,  1.0000, -0.9996,  1.0000, -0.9975,  0.5966, -1.0000,\n",
      "         -0.9997, -0.9814,  0.9874, -0.8746, -0.3922,  0.3738,  0.9955,  0.9994,\n",
      "          1.0000, -0.9999, -0.8922,  0.9997,  0.9957,  0.9835,  0.9990, -0.8897,\n",
      "          0.9944, -1.0000,  1.0000, -0.5046, -1.0000,  0.9898, -1.0000,  1.0000,\n",
      "         -0.9988,  0.9992, -0.9837,  0.9976, -1.0000,  0.7956,  0.9907,  0.9987,\n",
      "          0.9735, -0.6973, -1.0000,  0.9990, -0.6708,  1.0000,  0.9860,  1.0000,\n",
      "         -0.3629, -0.7153, -1.0000,  0.9993,  0.9999,  0.8912, -0.9701,  1.0000]],\n",
      "       grad_fn=<TanhBackward0>)\n",
      "tensor([[ -0.8989,   0.4156,  -5.0895,  -4.4385,  -1.7948,   0.3142,  -5.9089,\n",
      "          -2.1942,  -6.7962,   0.6686,  -9.0824,  -6.3989,  -2.0538,  -2.8935,\n",
      "           0.2066,  -2.3206,  -6.6229, -10.1992,  -2.8666,  -1.4050,  -3.4443,\n",
      "          -3.2747,  -5.7543,  -7.6520,  -5.5219,  -2.2153,  -2.7018]],\n",
      "       grad_fn=<AddBackward0>)\n",
      "tensor([[5.3466e-02, 1.9904e-01, 8.0929e-04, 1.5518e-03, 2.1827e-02, 1.7985e-01,\n",
      "         3.5665e-04, 1.4640e-02, 1.4686e-04, 2.5635e-01, 1.4929e-05, 2.1850e-04,\n",
      "         1.6847e-02, 7.2752e-03, 1.6151e-01, 1.2901e-02, 1.7464e-04, 4.8867e-06,\n",
      "         7.4729e-03, 3.2230e-02, 4.1940e-03, 4.9690e-03, 4.1629e-04, 6.2406e-05,\n",
      "         5.2522e-04, 1.4333e-02, 8.8117e-03]], grad_fn=<SoftmaxBackward0>)\n",
      "9\n",
      "[21, 14, 9]\n",
      "tensor([[[-0.7170, -0.0878,  0.0515, -0.7277, -0.5605,  0.8765,  0.4953,\n",
      "           1.7295,  0.7962, -0.7042],\n",
      "         [-0.3115, -0.0331, -0.4500, -0.4655, -0.5842, -0.4971,  0.4927,\n",
      "           1.3221,  0.0089, -1.0377],\n",
      "         [-0.4431,  0.0789, -0.1170, -0.3992, -0.4992,  0.5828,  0.6949,\n",
      "           2.0363,  0.8181, -0.8511]]], grad_fn=<IndexBackward0>)\n",
      "tensor([[-1.0000,  0.9980, -1.0000,  0.9987, -0.9996, -1.0000,  1.0000,  1.0000,\n",
      "         -1.0000, -0.9998,  1.0000, -0.9966,  1.0000,  0.9985, -0.9987,  0.9985,\n",
      "          0.9617,  0.9756,  0.9999, -0.9998,  0.9998, -1.0000, -0.9125, -1.0000,\n",
      "         -1.0000,  1.0000, -1.0000, -0.9998, -1.0000,  0.9911,  1.0000,  1.0000,\n",
      "         -1.0000, -0.4709, -0.9981,  0.8552,  0.9917, -1.0000,  0.6653, -1.0000,\n",
      "          0.9882, -1.0000,  1.0000, -0.9996,  0.9994, -1.0000,  0.9997,  0.9934,\n",
      "         -0.9997, -1.0000, -0.9960, -0.9994,  0.9967,  1.0000, -0.9997, -0.9999,\n",
      "         -0.9982, -1.0000, -0.9996,  1.0000,  0.7424, -1.0000, -0.9999,  1.0000,\n",
      "         -1.0000,  1.0000, -1.0000, -0.9994,  0.7487,  1.0000, -1.0000,  1.0000,\n",
      "         -1.0000, -0.9828, -0.9999,  0.9990,  0.9872,  0.9907, -1.0000,  0.9992,\n",
      "         -1.0000, -1.0000, -1.0000, -1.0000,  1.0000, -0.9999, -1.0000,  0.4713,\n",
      "          1.0000, -0.9902, -0.9990,  0.9907, -0.9996, -0.9902, -1.0000,  1.0000,\n",
      "         -1.0000,  0.9961, -1.0000,  1.0000,  0.9917, -0.9995, -1.0000,  1.0000,\n",
      "          0.1207, -0.9402, -0.9646,  1.0000, -1.0000, -0.9940,  1.0000, -1.0000,\n",
      "         -0.9999,  0.9553, -1.0000,  0.6320,  0.9999,  1.0000, -0.9971, -1.0000,\n",
      "          0.9993, -0.9580,  0.9306,  0.9999,  0.6537,  0.9925, -0.9563, -1.0000,\n",
      "         -1.0000,  0.9986, -0.3679,  1.0000, -1.0000,  1.0000, -0.9393, -0.9575,\n",
      "          1.0000, -1.0000, -0.9997, -0.9989,  1.0000,  0.9977,  0.9965,  1.0000,\n",
      "         -1.0000,  1.0000,  0.9438, -0.9922,  1.0000, -1.0000, -1.0000, -1.0000,\n",
      "          1.0000,  0.3521,  0.7478, -1.0000, -0.9999,  0.9824, -0.9001,  0.9998,\n",
      "          0.9573, -1.0000,  1.0000,  1.0000, -0.9851, -0.9209,  0.9999, -1.0000,\n",
      "         -0.9966, -1.0000,  1.0000, -1.0000, -1.0000,  0.9772, -0.9970,  1.0000,\n",
      "         -0.9992,  1.0000,  0.9997,  1.0000, -1.0000,  1.0000,  0.9954,  0.2131,\n",
      "          0.9962, -1.0000, -1.0000, -0.9999, -0.9865, -1.0000,  0.9961,  0.9999,\n",
      "         -0.7528,  0.2426, -1.0000, -1.0000,  0.9997, -1.0000,  1.0000,  1.0000]],\n",
      "       grad_fn=<TanhBackward0>)\n",
      "tensor([[ 4.8219,  3.4302, -1.2665,  3.0329,  1.4927,  3.6409,  1.0900, -0.3359,\n",
      "         -0.7404,  1.6067, -0.7403,  2.7045,  1.4934,  1.4575,  2.7544,  1.7177,\n",
      "         -3.2542, -0.6098, -0.5124,  2.6812,  2.1567, -1.1142,  0.5807, -5.0465,\n",
      "          1.7685,  2.4250,  0.5682]], grad_fn=<AddBackward0>)\n",
      "tensor([[3.8960e-01, 9.6875e-02, 8.8410e-04, 6.5114e-02, 1.3957e-02, 1.1960e-01,\n",
      "         9.3306e-03, 2.2419e-03, 1.4961e-03, 1.5643e-02, 1.4963e-03, 4.6886e-02,\n",
      "         1.3966e-02, 1.3474e-02, 4.9288e-02, 1.7478e-02, 1.2112e-04, 1.7048e-03,\n",
      "         1.8792e-03, 4.5810e-02, 2.7113e-02, 1.0295e-03, 5.6070e-03, 2.0176e-05,\n",
      "         1.8390e-02, 3.5454e-02, 5.5372e-03]], grad_fn=<SoftmaxBackward0>)\n",
      "4\n",
      "[14, 9, 4]\n",
      "tensor([[[-0.3115, -0.0331, -0.4500, -0.4655, -0.5842, -0.4971,  0.4927,\n",
      "           1.3221,  0.0089, -1.0377],\n",
      "         [-0.4431,  0.0789, -0.1170, -0.3992, -0.4992,  0.5828,  0.6949,\n",
      "           2.0363,  0.8181, -0.8511],\n",
      "         [-0.5216, -0.1579, -0.3510, -0.3789, -0.1636,  0.1704,  0.4372,\n",
      "           1.4587, -0.0233, -0.5172]]], grad_fn=<IndexBackward0>)\n",
      "tensor([[-0.9995,  0.9634, -1.0000, -0.3616, -0.9999, -0.9999,  1.0000,  1.0000,\n",
      "         -0.9974, -0.9995,  1.0000, -0.9998,  1.0000,  0.9819,  0.8069,  0.9989,\n",
      "         -0.9827,  0.9973,  0.8712, -0.9996,  0.9954, -0.9997,  0.9271, -1.0000,\n",
      "         -0.9951,  1.0000, -1.0000, -0.9997, -1.0000,  1.0000,  1.0000,  0.9991,\n",
      "         -0.9992, -0.9013, -1.0000, -0.9547, -0.9891, -1.0000,  0.9986, -1.0000,\n",
      "          0.9994, -1.0000,  1.0000, -0.9999,  0.9998, -1.0000,  1.0000,  0.0251,\n",
      "         -0.3701, -1.0000, -0.9980, -0.9999,  1.0000,  1.0000, -0.9929, -0.9950,\n",
      "         -0.9972, -1.0000, -1.0000,  1.0000,  0.9761, -1.0000, -0.9990,  1.0000,\n",
      "         -1.0000,  0.9999, -1.0000, -0.9979, -0.9993,  0.9859, -0.9797,  1.0000,\n",
      "         -1.0000, -1.0000, -0.9998,  0.9993,  0.9981,  0.9985, -0.9997,  1.0000,\n",
      "         -0.9833, -0.9855, -1.0000, -1.0000,  1.0000, -1.0000, -1.0000,  0.8357,\n",
      "          1.0000,  0.9988, -0.9950,  0.9805, -1.0000, -0.9975, -1.0000,  0.9999,\n",
      "         -1.0000,  0.9991, -1.0000,  1.0000,  0.9505, -0.9998, -1.0000,  1.0000,\n",
      "          0.9067,  0.5826,  0.9965,  1.0000, -0.9578, -0.9934,  0.9990, -1.0000,\n",
      "         -0.9998, -0.4041, -0.9842,  0.4763,  0.9960,  0.9999, -0.9985, -1.0000,\n",
      "          0.9999, -0.0765,  0.9419,  1.0000, -0.2191,  1.0000,  0.9785, -1.0000,\n",
      "         -0.9947,  0.9533, -0.9967,  0.9996, -0.9998,  0.9934,  0.9998,  0.9595,\n",
      "          1.0000, -1.0000, -0.9999, -0.9812,  1.0000,  0.9999,  0.9924,  1.0000,\n",
      "         -1.0000,  0.9993,  0.2404, -0.7806,  1.0000, -0.9994, -0.9971, -1.0000,\n",
      "          0.8670, -0.9889,  0.5655, -0.9999, -0.9851,  0.9843,  0.9881,  0.9990,\n",
      "          1.0000, -1.0000,  1.0000,  1.0000, -0.9909, -0.1940,  0.9994, -0.1379,\n",
      "         -0.9993, -1.0000,  1.0000, -0.9997, -1.0000,  0.9428, -1.0000,  1.0000,\n",
      "         -0.9888,  1.0000,  0.6230,  1.0000, -1.0000,  0.9964,  0.9981,  0.9991,\n",
      "          0.9986, -0.9992, -1.0000,  0.9975, -0.9965, -0.9895,  0.9936,  0.9981,\n",
      "         -0.9784, -0.9794, -1.0000, -0.9999,  1.0000, -0.9997,  0.9906,  0.9999]],\n",
      "       grad_fn=<TanhBackward0>)\n",
      "tensor([[ 3.1878,  2.9436, -3.2083, -1.3127,  0.3819,  2.4090, -2.3239,  0.3000,\n",
      "          0.8288,  2.1659, -2.7587, -1.5602,  0.2337, -0.8307, -1.2323,  1.7157,\n",
      "         -3.6099, -4.4595,  0.6702,  0.6142, -1.4665, -0.4453, -1.8931, -3.3307,\n",
      "         -5.1833,  1.6143, -1.3930]], grad_fn=<AddBackward0>)\n",
      "tensor([[2.7992e-01, 2.1927e-01, 4.6692e-04, 3.1080e-03, 1.6922e-02, 1.2847e-01,\n",
      "         1.1307e-03, 1.5591e-02, 2.6457e-02, 1.0075e-01, 7.3195e-04, 2.4265e-03,\n",
      "         1.4590e-02, 5.0328e-03, 3.3683e-03, 6.4224e-02, 3.1249e-04, 1.3361e-04,\n",
      "         2.2576e-02, 2.1346e-02, 2.6648e-03, 7.3994e-03, 1.7394e-03, 4.1311e-04,\n",
      "         6.4789e-05, 5.8030e-02, 2.8681e-03]], grad_fn=<SoftmaxBackward0>)\n",
      "5\n",
      "[9, 4, 5]\n",
      "tensor([[[-0.4431,  0.0789, -0.1170, -0.3992, -0.4992,  0.5828,  0.6949,\n",
      "           2.0363,  0.8181, -0.8511],\n",
      "         [-0.5216, -0.1579, -0.3510, -0.3789, -0.1636,  0.1704,  0.4372,\n",
      "           1.4587, -0.0233, -0.5172],\n",
      "         [-0.7252,  0.1255, -0.1262, -0.4781, -0.4001,  1.0457,  0.7085,\n",
      "           1.7892,  0.9530, -1.0765]]], grad_fn=<IndexBackward0>)\n",
      "tensor([[-1.0000,  0.9983, -1.0000,  0.9729, -0.9983, -0.9999,  1.0000,  1.0000,\n",
      "         -1.0000, -1.0000,  1.0000, -0.9946,  1.0000,  0.9992, -0.9939,  0.9999,\n",
      "          0.7907,  0.5281,  1.0000, -1.0000,  0.9997, -0.9997, -0.9613, -1.0000,\n",
      "         -1.0000,  1.0000, -1.0000, -1.0000, -0.9999,  0.9998,  1.0000,  0.9971,\n",
      "         -1.0000, -0.8803, -0.9825,  0.4138, -0.8002, -1.0000,  0.9942, -1.0000,\n",
      "          0.9988, -1.0000,  1.0000, -0.9699,  0.9998, -1.0000,  1.0000,  0.6170,\n",
      "         -0.9999, -1.0000, -0.9680, -0.9983,  1.0000,  1.0000, -0.9302, -1.0000,\n",
      "         -0.9998, -1.0000, -1.0000,  1.0000,  0.9995, -1.0000, -0.9999,  1.0000,\n",
      "         -1.0000,  1.0000, -1.0000, -1.0000,  0.9739,  1.0000, -0.9998,  1.0000,\n",
      "         -0.9993, -0.9964, -1.0000,  0.9991,  0.9998,  0.5083, -1.0000,  0.9953,\n",
      "         -1.0000, -1.0000, -1.0000, -1.0000,  1.0000, -1.0000, -1.0000,  0.7930,\n",
      "          1.0000, -0.9997, -0.9998,  0.9741, -0.9974, -0.9652, -1.0000,  1.0000,\n",
      "         -1.0000,  0.9988, -1.0000,  1.0000,  0.9594, -0.9968, -1.0000,  1.0000,\n",
      "         -0.6204, -0.9938, -0.9998,  1.0000, -1.0000, -0.9724,  0.9999, -1.0000,\n",
      "         -1.0000,  0.9825, -0.9999,  0.9757,  0.9997,  0.9999, -1.0000, -1.0000,\n",
      "          0.9978, -0.0304,  0.6295,  0.9994,  0.8080,  0.9999, -0.3357, -1.0000,\n",
      "         -1.0000,  0.9935, -0.9402,  1.0000, -1.0000,  0.9999, -0.4917,  0.8904,\n",
      "          1.0000, -1.0000, -1.0000, -0.9614,  1.0000,  0.9991,  0.9956,  1.0000,\n",
      "         -1.0000,  1.0000,  0.9932, -0.9340,  1.0000, -1.0000, -1.0000, -1.0000,\n",
      "          1.0000,  0.9730,  0.9732, -1.0000, -1.0000,  0.9828,  0.6936,  0.9982,\n",
      "          0.9988, -1.0000,  1.0000,  0.9996, -0.9998, -0.9927,  1.0000, -0.9999,\n",
      "         -1.0000, -1.0000,  1.0000, -1.0000, -1.0000,  0.5772, -0.9999,  1.0000,\n",
      "         -0.9950,  1.0000,  0.9978,  1.0000, -1.0000,  1.0000,  0.9916,  0.9969,\n",
      "          1.0000, -1.0000, -1.0000, -0.9999, -0.9986, -1.0000,  0.9909,  1.0000,\n",
      "         -0.9998, -0.3975, -0.9999, -1.0000,  0.9998, -1.0000,  1.0000,  0.9998]],\n",
      "       grad_fn=<TanhBackward0>)\n",
      "tensor([[ 3.2970,  1.2680, -1.2173, -0.4748,  0.3780,  1.2906, -1.8448, -0.0731,\n",
      "          0.1090,  0.5342, -1.8879, -0.1868,  2.7849,  0.9878,  3.7424,  0.5798,\n",
      "         -3.8801, -4.1389,  2.1054,  1.6177,  0.7907, -0.2475, -1.7878, -2.9007,\n",
      "         -1.8667,  0.8317, -0.8011]], grad_fn=<AddBackward0>)\n",
      "tensor([[2.1843e-01, 2.8715e-02, 2.3921e-03, 5.0261e-03, 1.1792e-02, 2.9371e-02,\n",
      "         1.2772e-03, 7.5108e-03, 9.0112e-03, 1.3786e-02, 1.2233e-03, 6.7035e-03,\n",
      "         1.3089e-01, 2.1699e-02, 3.4100e-01, 1.4429e-02, 1.6686e-04, 1.2880e-04,\n",
      "         6.6346e-02, 4.0739e-02, 1.7818e-02, 6.3087e-03, 1.3521e-03, 4.4429e-04,\n",
      "         1.2495e-03, 1.8562e-02, 3.6269e-03]], grad_fn=<SoftmaxBackward0>)\n",
      "0\n",
      "[4, 5, 0]\n",
      "junide.\n"
     ]
    }
   ],
   "source": [
    "# sample from the model\n",
    "g = torch.Generator().manual_seed(2147483647)\n",
    "\n",
    "for _ in range(1):\n",
    "\n",
    "    out=[]\n",
    "    context=[0]*block_size #initial with all\n",
    "    while True:\n",
    "        emb=C[torch.tensor([context])] #(1,block_size,d)\n",
    "        print(emb)\n",
    "        h = torch.tanh(emb.view(1,-1)@ W1+b1)\n",
    "        print(h)\n",
    "        logits= h@W2+b2\n",
    "        print(logits)\n",
    "        probs= F.softmax(logits, dim=1)\n",
    "        print(probs)\n",
    "        ix = torch.multinomial(probs, num_samples=1, generator=g).item()\n",
    "        print(ix)\n",
    "        context=context[1:]+[ix]\n",
    "        print(context)\n",
    "        out.append(ix)\n",
    "        if ix==0:\n",
    "            break\n",
    "    print(''.join(itos[i] for i in out))     "
   ]
  },
  {
   "cell_type": "code",
   "execution_count": null,
   "id": "d6342694-138a-43b6-8d22-ba94df917037",
   "metadata": {},
   "outputs": [],
   "source": []
  },
  {
   "cell_type": "code",
   "execution_count": null,
   "id": "4180139f-4c17-4602-aff4-34418bba56e8",
   "metadata": {},
   "outputs": [],
   "source": []
  }
 ],
 "metadata": {
  "kernelspec": {
   "display_name": "Python 3 (ipykernel)",
   "language": "python",
   "name": "python3"
  },
  "language_info": {
   "codemirror_mode": {
    "name": "ipython",
    "version": 3
   },
   "file_extension": ".py",
   "mimetype": "text/x-python",
   "name": "python",
   "nbconvert_exporter": "python",
   "pygments_lexer": "ipython3",
   "version": "3.12.5"
  }
 },
 "nbformat": 4,
 "nbformat_minor": 5
}
